{
 "cells": [
  {
   "cell_type": "markdown",
   "metadata": {},
   "source": [
    "# Introduction to Julia\n",
    "## Julia Language Context and Basic Concepts\n",
    "by Iga Szczesniak (AIR Centre) and Júlio Hoffimann (Arpeggeo®)"
   ]
  },
  {
   "cell_type": "markdown",
   "metadata": {},
   "source": [
    "![Julia EO 2024 Banner](figures/JuliaEOlogo.png \"Julia EO 2024 Banner\")"
   ]
  },
  {
   "cell_type": "markdown",
   "metadata": {},
   "source": [
    ">**Quick Facts**\n",
    ">\n",
    ">- Julia is an **open-source**, **high-level**, and **high-performance** programming language developed at MIT by Jeff Bezanson, Stefan Karpinski, Viral B. Shah, and Alan Edelman.\n",
    ">- It was **first released in 2012**, with version 1.0 being released in 2018. The latest version is **v1.10.0**.\n",
    ">- Julia solves **the two-language problem**, providing the speed of C and user-friendly syntax similar to Python or MATLAB.\n",
    ">- It is **dynamically typed** and **just-in-time compiled**.\n",
    ">- Julia is a **function-oriented** language.\n",
    ">- Well-suited for **data science applications, technical computing, and scientific machine learning**."
   ]
  },
  {
   "cell_type": "code",
   "execution_count": 1,
   "metadata": {},
   "outputs": [
    {
     "name": "stdout",
     "output_type": "stream",
     "text": [
      "Julia Version 1.9.0-rc1\n",
      "Commit 3b2e0d8fbc1 (2023-03-07 07:51 UTC)\n",
      "Platform Info:\n",
      "  OS: macOS (x86_64-apple-darwin21.4.0)\n",
      "  CPU: 8 × Intel(R) Core(TM) i5-1038NG7 CPU @ 2.00GHz\n",
      "  WORD_SIZE: 64\n",
      "  LIBM: libopenlibm\n",
      "  LLVM: libLLVM-14.0.6 (ORCJIT, icelake-client)\n",
      "  Threads: 8 on 8 virtual cores\n",
      "Environment:\n",
      "  JULIA_NUM_THREADS = 8\n"
     ]
    }
   ],
   "source": [
    "versioninfo()"
   ]
  },
  {
   "cell_type": "code",
   "execution_count": 2,
   "metadata": {},
   "outputs": [
    {
     "data": {
      "text/plain": [
       "v\"1.9.0-rc1\""
      ]
     },
     "metadata": {},
     "output_type": "display_data"
    }
   ],
   "source": [
    "VERSION"
   ]
  },
  {
   "cell_type": "markdown",
   "metadata": {},
   "source": [
    "## 1. Getting started\n",
    "- Defining variables\n",
    "- Printing \n",
    "- Simple math syntax"
   ]
  },
  {
   "cell_type": "markdown",
   "metadata": {},
   "source": [
    "### Defining variables"
   ]
  },
  {
   "cell_type": "code",
   "execution_count": 3,
   "metadata": {},
   "outputs": [
    {
     "data": {
      "text/plain": [
       "\"JuliaEO\""
      ]
     },
     "metadata": {},
     "output_type": "display_data"
    }
   ],
   "source": [
    "name = \"JuliaEO\""
   ]
  },
  {
   "cell_type": "code",
   "execution_count": 4,
   "metadata": {},
   "outputs": [
    {
     "data": {
      "text/plain": [
       "2"
      ]
     },
     "metadata": {},
     "output_type": "display_data"
    }
   ],
   "source": [
    "age = 2 # years\n",
    "# You can leave comments by typing the hash key"
   ]
  },
  {
   "cell_type": "code",
   "execution_count": 5,
   "metadata": {},
   "outputs": [
    {
     "data": {
      "text/plain": [
       "String"
      ]
     },
     "metadata": {},
     "output_type": "display_data"
    }
   ],
   "source": [
    "typeof(name)\n",
    "# Shift enter or the play button to execute the cell"
   ]
  },
  {
   "cell_type": "code",
   "execution_count": 6,
   "metadata": {},
   "outputs": [
    {
     "data": {
      "text/plain": [
       "Int64"
      ]
     },
     "metadata": {},
     "output_type": "display_data"
    }
   ],
   "source": [
    "typeof(age)"
   ]
  },
  {
   "cell_type": "code",
   "execution_count": 7,
   "metadata": {},
   "outputs": [
    {
     "data": {
      "text/plain": [
       "2.0f0"
      ]
     },
     "metadata": {},
     "output_type": "display_data"
    }
   ],
   "source": [
    "# Convert age to a float and assign it to the variable age_float\n",
    "age_float = convert(Float32, age)"
   ]
  },
  {
   "cell_type": "markdown",
   "metadata": {},
   "source": [
    "### Printing"
   ]
  },
  {
   "cell_type": "code",
   "execution_count": 8,
   "metadata": {},
   "outputs": [
    {
     "name": "stdout",
     "output_type": "stream",
     "text": [
      "Hello JuliaEO!\n"
     ]
    }
   ],
   "source": [
    "println(\"Hello JuliaEO!\")"
   ]
  },
  {
   "cell_type": "markdown",
   "metadata": {},
   "source": [
    "We can use the `$` sign to insert existing variables into a string"
   ]
  },
  {
   "cell_type": "code",
   "execution_count": 9,
   "metadata": {},
   "outputs": [
    {
     "name": "stdout",
     "output_type": "stream",
     "text": [
      "Name = JuliaEO\n"
     ]
    }
   ],
   "source": [
    "println(\"Name = $name\")"
   ]
  },
  {
   "cell_type": "markdown",
   "metadata": {},
   "source": [
    "We can use the `*` sign for concatenation"
   ]
  },
  {
   "cell_type": "code",
   "execution_count": 10,
   "metadata": {},
   "outputs": [
    {
     "data": {
      "text/plain": [
       "\"Name = JuliaEO, Age = 2\""
      ]
     },
     "metadata": {},
     "output_type": "display_data"
    }
   ],
   "source": [
    "\"Name = $name, \" * \"Age = $age\""
   ]
  },
  {
   "cell_type": "markdown",
   "metadata": {},
   "source": [
    "### Simple math syntax "
   ]
  },
  {
   "cell_type": "code",
   "execution_count": 11,
   "metadata": {},
   "outputs": [
    {
     "data": {
      "text/plain": [
       "6"
      ]
     },
     "metadata": {},
     "output_type": "display_data"
    }
   ],
   "source": [
    "sum = 2 + 4"
   ]
  },
  {
   "cell_type": "code",
   "execution_count": 12,
   "metadata": {},
   "outputs": [
    {
     "data": {
      "text/plain": [
       "2"
      ]
     },
     "metadata": {},
     "output_type": "display_data"
    }
   ],
   "source": [
    "difference = 5 - 3"
   ]
  },
  {
   "cell_type": "code",
   "execution_count": 13,
   "metadata": {},
   "outputs": [
    {
     "data": {
      "text/plain": [
       "300"
      ]
     },
     "metadata": {},
     "output_type": "display_data"
    }
   ],
   "source": [
    "product = 3 * 100"
   ]
  },
  {
   "cell_type": "code",
   "execution_count": 14,
   "metadata": {},
   "outputs": [
    {
     "data": {
      "text/plain": [
       "5.0"
      ]
     },
     "metadata": {},
     "output_type": "display_data"
    }
   ],
   "source": [
    "quotient = 20 / 4"
   ]
  },
  {
   "cell_type": "code",
   "execution_count": 15,
   "metadata": {},
   "outputs": [
    {
     "data": {
      "text/plain": [
       "100"
      ]
     },
     "metadata": {},
     "output_type": "display_data"
    }
   ],
   "source": [
    "power = 10 ^ 2 "
   ]
  },
  {
   "cell_type": "markdown",
   "metadata": {},
   "source": [
    "## 2. Data Structures\n",
    "Once we start working with many variables, it is better to store the data in structures. "
   ]
  },
  {
   "cell_type": "markdown",
   "metadata": {},
   "source": [
    "### Struct"
   ]
  },
  {
   "cell_type": "markdown",
   "metadata": {},
   "source": [
    "We can define the custom data structures that can hold multiple pieces of data in a well-defined format with a `struct`.\n",
    "<br>Note: Structs are **immutable**. Once we assign values to the struct, we cannot change them later.<br>  "
   ]
  },
  {
   "cell_type": "code",
   "execution_count": 16,
   "metadata": {},
   "outputs": [],
   "source": [
    "struct Location\n",
    "    name::String\n",
    "    lat::Float32\n",
    "    lon::Float32\n",
    "    island::Bool\n",
    "end"
   ]
  },
  {
   "cell_type": "code",
   "execution_count": 17,
   "metadata": {},
   "outputs": [
    {
     "data": {
      "text/plain": [
       "(:name, :lat, :lon, :island)"
      ]
     },
     "metadata": {},
     "output_type": "display_data"
    }
   ],
   "source": [
    "fieldnames(Location)"
   ]
  },
  {
   "cell_type": "code",
   "execution_count": 18,
   "metadata": {},
   "outputs": [
    {
     "data": {
      "text/plain": [
       "Location(\"Terceira\", 38.7216f0, 27.2206f0, true)"
      ]
     },
     "metadata": {},
     "output_type": "display_data"
    }
   ],
   "source": [
    "terceira = Location(\"Terceira\", 38.7216, 27.2206, true)"
   ]
  },
  {
   "cell_type": "code",
   "execution_count": 19,
   "metadata": {},
   "outputs": [
    {
     "data": {
      "text/plain": [
       "Location(\"Paris\", 48.8566f0, 2.3522f0, false)"
      ]
     },
     "metadata": {},
     "output_type": "display_data"
    }
   ],
   "source": [
    "paris = Location(\"Paris\", 48.8566, 2.3522, false)"
   ]
  },
  {
   "cell_type": "markdown",
   "metadata": {},
   "source": [
    "### Mutable Struct"
   ]
  },
  {
   "cell_type": "markdown",
   "metadata": {},
   "source": [
    "If we want to update any of the variables, we use a `mutable struct`."
   ]
  },
  {
   "cell_type": "code",
   "execution_count": 20,
   "metadata": {},
   "outputs": [],
   "source": [
    "mutable struct MutableLocation\n",
    "    name::String\n",
    "    lat::Float32\n",
    "    lon::Float32\n",
    "    island::Bool\n",
    "end"
   ]
  },
  {
   "cell_type": "code",
   "execution_count": 21,
   "metadata": {},
   "outputs": [
    {
     "data": {
      "text/plain": [
       "MutableLocation(\"Terceira\", 38.7216f0, 27.2206f0, true)"
      ]
     },
     "metadata": {},
     "output_type": "display_data"
    }
   ],
   "source": [
    "terceira_mutable = MutableLocation(\"Terceira\", 38.7216, 27.2206, true)"
   ]
  },
  {
   "cell_type": "code",
   "execution_count": 22,
   "metadata": {},
   "outputs": [
    {
     "data": {
      "text/plain": [
       "\"TER\""
      ]
     },
     "metadata": {},
     "output_type": "display_data"
    }
   ],
   "source": [
    "terceira_mutable.name = \"TER\""
   ]
  },
  {
   "cell_type": "code",
   "execution_count": 23,
   "metadata": {},
   "outputs": [
    {
     "data": {
      "text/plain": [
       "MutableLocation(\"TER\", 38.7216f0, 27.2206f0, true)"
      ]
     },
     "metadata": {},
     "output_type": "display_data"
    }
   ],
   "source": [
    "terceira_mutable"
   ]
  },
  {
   "cell_type": "markdown",
   "metadata": {},
   "source": [
    "## 3. Native Data Structures "
   ]
  },
  {
   "cell_type": "markdown",
   "metadata": {},
   "source": [
    "### Tuples\n",
    "Tuples are ordered sequences of elements that allow indexing. They are **immutable**, meaning their fields cannot be updated."
   ]
  },
  {
   "cell_type": "code",
   "execution_count": 24,
   "metadata": {},
   "outputs": [
    {
     "data": {
      "text/plain": [
       "(1, \"hello\", 3.14)"
      ]
     },
     "metadata": {},
     "output_type": "display_data"
    }
   ],
   "source": [
    "my_tuple = (1, \"hello\", 3.14)"
   ]
  },
  {
   "cell_type": "code",
   "execution_count": 25,
   "metadata": {},
   "outputs": [
    {
     "data": {
      "text/plain": [
       "1"
      ]
     },
     "metadata": {},
     "output_type": "display_data"
    }
   ],
   "source": [
    "my_tuple[1]"
   ]
  },
  {
   "cell_type": "code",
   "execution_count": 26,
   "metadata": {},
   "outputs": [
    {
     "data": {
      "text/plain": [
       "Tuple{Int64, String, Float64}"
      ]
     },
     "metadata": {},
     "output_type": "display_data"
    }
   ],
   "source": [
    "typeof(my_tuple)"
   ]
  },
  {
   "cell_type": "markdown",
   "metadata": {},
   "source": [
    ">Note: Julia is 1-based indexing, not 0-based like Python."
   ]
  },
  {
   "cell_type": "markdown",
   "metadata": {},
   "source": [
    "Named Tuples are almost like regular Tuples, but they assign a name to each element."
   ]
  },
  {
   "cell_type": "code",
   "execution_count": 27,
   "metadata": {},
   "outputs": [
    {
     "data": {
      "text/plain": [
       "(number = 1, word = \"hello\", pi = \"3.14\")"
      ]
     },
     "metadata": {},
     "output_type": "display_data"
    }
   ],
   "source": [
    "named_tuple = (number = 1, word = \"hello\", pi = \"3.14\")"
   ]
  },
  {
   "cell_type": "code",
   "execution_count": 28,
   "metadata": {},
   "outputs": [
    {
     "data": {
      "text/plain": [
       "1"
      ]
     },
     "metadata": {},
     "output_type": "display_data"
    }
   ],
   "source": [
    "named_tuple[1]"
   ]
  },
  {
   "cell_type": "code",
   "execution_count": 29,
   "metadata": {},
   "outputs": [
    {
     "data": {
      "text/plain": [
       "\"hello\""
      ]
     },
     "metadata": {},
     "output_type": "display_data"
    }
   ],
   "source": [
    "named_tuple.word"
   ]
  },
  {
   "cell_type": "code",
   "execution_count": 30,
   "metadata": {},
   "outputs": [
    {
     "data": {
      "text/plain": [
       "NamedTuple{(:number, :word, :pi), Tuple{Int64, String, String}}"
      ]
     },
     "metadata": {},
     "output_type": "display_data"
    }
   ],
   "source": [
    "typeof(named_tuple)"
   ]
  },
  {
   "cell_type": "markdown",
   "metadata": {},
   "source": [
    "### Dictionaries\n",
    "Dictionaries store sets of data that are related to each other, e.g. contacts lists. They are **mutable**, allowing us to update their fields but we cannot index into them."
   ]
  },
  {
   "cell_type": "code",
   "execution_count": 31,
   "metadata": {},
   "outputs": [
    {
     "data": {
      "text/plain": [
       "Dict{String, String} with 2 entries:\n",
       "  \"Alice\" => \"222 888\"\n",
       "  \"Marta\" => \"555 333\""
      ]
     },
     "metadata": {},
     "output_type": "display_data"
    }
   ],
   "source": [
    "contactslist = Dict(\"Marta\" => \"555 333\", \"Alice\" => \"222 888\")"
   ]
  },
  {
   "cell_type": "code",
   "execution_count": 32,
   "metadata": {},
   "outputs": [
    {
     "data": {
      "text/plain": [
       "\"222 888\""
      ]
     },
     "metadata": {},
     "output_type": "display_data"
    }
   ],
   "source": [
    "# Accessing elements from a dictionary \n",
    "contactslist[\"Alice\"]"
   ]
  },
  {
   "cell_type": "code",
   "execution_count": 33,
   "metadata": {},
   "outputs": [
    {
     "data": {
      "text/plain": [
       "\"111 000\""
      ]
     },
     "metadata": {},
     "output_type": "display_data"
    }
   ],
   "source": [
    "# Adding another entry to a dictionary \n",
    "contactslist[\"Emma\"] = \"111 000\""
   ]
  },
  {
   "cell_type": "code",
   "execution_count": 34,
   "metadata": {},
   "outputs": [
    {
     "data": {
      "text/plain": [
       "Dict{String, String} with 3 entries:\n",
       "  \"Alice\" => \"222 888\"\n",
       "  \"Marta\" => \"555 333\"\n",
       "  \"Emma\"  => \"111 000\""
      ]
     },
     "metadata": {},
     "output_type": "display_data"
    }
   ],
   "source": [
    "contactslist"
   ]
  },
  {
   "cell_type": "code",
   "execution_count": 35,
   "metadata": {},
   "outputs": [
    {
     "data": {
      "text/plain": [
       "\"222 888\""
      ]
     },
     "metadata": {},
     "output_type": "display_data"
    }
   ],
   "source": [
    "# Removing elements from a dictionary \n",
    "pop!(contactslist, \"Alice\")"
   ]
  },
  {
   "cell_type": "code",
   "execution_count": 36,
   "metadata": {},
   "outputs": [
    {
     "data": {
      "text/plain": [
       "Dict{String, String} with 2 entries:\n",
       "  \"Marta\" => \"555 333\"\n",
       "  \"Emma\"  => \"111 000\""
      ]
     },
     "metadata": {},
     "output_type": "display_data"
    }
   ],
   "source": [
    "contactslist"
   ]
  },
  {
   "cell_type": "markdown",
   "metadata": {},
   "source": [
    "Dictionaries are not ordered and we can't index into them."
   ]
  },
  {
   "cell_type": "code",
   "execution_count": 37,
   "metadata": {},
   "outputs": [
    {
     "ename": "KeyError",
     "evalue": "KeyError: key 1 not found",
     "output_type": "error",
     "traceback": [
      "KeyError: key 1 not found\n",
      "\n",
      "Stacktrace:\n",
      " [1] getindex(h::Dict{String, String}, key::Int64)\n",
      "   @ Base ./dict.jl:484\n",
      " [2] top-level scope\n",
      "   @ ~/Desktop/coding/juliaeo24_notebook/Introduction_to_Julia.ipynb:1"
     ]
    }
   ],
   "source": [
    "contactslist[1]"
   ]
  },
  {
   "cell_type": "markdown",
   "metadata": {},
   "source": [
    "But they are mutable and we can update their fields\n"
   ]
  },
  {
   "cell_type": "code",
   "execution_count": 38,
   "metadata": {},
   "outputs": [
    {
     "data": {
      "text/plain": [
       "Dict{String, String} with 2 entries:\n",
       "  \"Marta\" => \"555 333\"\n",
       "  \"Emma\"  => \"222 000\""
      ]
     },
     "metadata": {},
     "output_type": "display_data"
    }
   ],
   "source": [
    "contactslist[\"Emma\"] = \"222 000\"\n",
    "contactslist"
   ]
  },
  {
   "cell_type": "markdown",
   "metadata": {},
   "source": [
    "### Arrays\n",
    "Arrays are **mutable** and **ordered** which means we can update their fields and index into them.  "
   ]
  },
  {
   "cell_type": "code",
   "execution_count": 39,
   "metadata": {},
   "outputs": [
    {
     "data": {
      "text/plain": [
       "5-element Vector{String}:\n",
       " \"Harry Potter\"\n",
       " \"Interstellar\"\n",
       " \"Black Swan\"\n",
       " \"Oppenheimer\"\n",
       " \"Moonrise Kingdom\""
      ]
     },
     "metadata": {},
     "output_type": "display_data"
    }
   ],
   "source": [
    "bestmovies = [\"Harry Potter\", \"Interstellar\", \"Black Swan\", \"Oppenheimer\", \"Moonrise Kingdom\"]"
   ]
  },
  {
   "cell_type": "code",
   "execution_count": 40,
   "metadata": {},
   "outputs": [
    {
     "data": {
      "text/plain": [
       "\"Harry Potter\""
      ]
     },
     "metadata": {},
     "output_type": "display_data"
    }
   ],
   "source": [
    "bestmovies[1]"
   ]
  },
  {
   "cell_type": "code",
   "execution_count": 41,
   "metadata": {},
   "outputs": [
    {
     "data": {
      "text/plain": [
       "\"The Godfather\""
      ]
     },
     "metadata": {},
     "output_type": "display_data"
    }
   ],
   "source": [
    "bestmovies[1] = \"The Godfather\""
   ]
  },
  {
   "cell_type": "code",
   "execution_count": 42,
   "metadata": {},
   "outputs": [
    {
     "data": {
      "text/plain": [
       "5-element Vector{String}:\n",
       " \"The Godfather\"\n",
       " \"Interstellar\"\n",
       " \"Black Swan\"\n",
       " \"Oppenheimer\"\n",
       " \"Moonrise Kingdom\""
      ]
     },
     "metadata": {},
     "output_type": "display_data"
    }
   ],
   "source": [
    "bestmovies"
   ]
  },
  {
   "cell_type": "markdown",
   "metadata": {},
   "source": [
    "We can also edit an array by using the `push!` and `pop!` functions. `push!` adds an element to the end of an array and `pop!` removes the last element of an array."
   ]
  },
  {
   "cell_type": "code",
   "execution_count": 43,
   "metadata": {},
   "outputs": [
    {
     "data": {
      "text/plain": [
       "6-element Vector{String}:\n",
       " \"The Godfather\"\n",
       " \"Interstellar\"\n",
       " \"Black Swan\"\n",
       " \"Oppenheimer\"\n",
       " \"Moonrise Kingdom\"\n",
       " \"Lost in Translation\""
      ]
     },
     "metadata": {},
     "output_type": "display_data"
    }
   ],
   "source": [
    "push!(bestmovies, \"Lost in Translation\")"
   ]
  },
  {
   "cell_type": "markdown",
   "metadata": {},
   "source": [
    "And then remove it."
   ]
  },
  {
   "cell_type": "code",
   "execution_count": 44,
   "metadata": {},
   "outputs": [
    {
     "data": {
      "text/plain": [
       "\"Lost in Translation\""
      ]
     },
     "metadata": {},
     "output_type": "display_data"
    }
   ],
   "source": [
    "pop!(bestmovies)"
   ]
  },
  {
   "cell_type": "code",
   "execution_count": 45,
   "metadata": {},
   "outputs": [
    {
     "data": {
      "text/plain": [
       "5-element Vector{String}:\n",
       " \"The Godfather\"\n",
       " \"Interstellar\"\n",
       " \"Black Swan\"\n",
       " \"Oppenheimer\"\n",
       " \"Moonrise Kingdom\""
      ]
     },
     "metadata": {},
     "output_type": "display_data"
    }
   ],
   "source": [
    "bestmovies"
   ]
  },
  {
   "cell_type": "markdown",
   "metadata": {},
   "source": [
    "Arrays can have any number of dimesnsions and they can store other arrays too."
   ]
  },
  {
   "cell_type": "code",
   "execution_count": 46,
   "metadata": {},
   "outputs": [
    {
     "data": {
      "text/plain": [
       "3-element Vector{Vector{Int64}}:\n",
       " [1, 2, 3]\n",
       " [4, 5]\n",
       " [6, 7, 8, 9]"
      ]
     },
     "metadata": {},
     "output_type": "display_data"
    }
   ],
   "source": [
    "numbers = [[1, 2, 3], [4, 5], [6, 7, 8, 9]]"
   ]
  },
  {
   "cell_type": "code",
   "execution_count": 47,
   "metadata": {},
   "outputs": [
    {
     "data": {
      "text/plain": [
       "4×5 Matrix{Float64}:\n",
       " 0.914189  0.40487    0.89453    0.221824  0.119625\n",
       " 0.3516    0.103428   0.595414   0.630268  0.355562\n",
       " 0.9532    0.0618298  0.0916936  0.206443  0.13951\n",
       " 0.190692  0.26316    0.75798    0.92707   0.281857"
      ]
     },
     "metadata": {},
     "output_type": "display_data"
    }
   ],
   "source": [
    "rand(4,5)"
   ]
  },
  {
   "cell_type": "markdown",
   "metadata": {},
   "source": [
    "**Common arrays**"
   ]
  },
  {
   "cell_type": "code",
   "execution_count": 48,
   "metadata": {},
   "outputs": [
    {
     "data": {
      "text/plain": [
       "3×3 Matrix{Float64}:\n",
       " 0.0  0.0  0.0\n",
       " 0.0  0.0  0.0\n",
       " 0.0  0.0  0.0"
      ]
     },
     "metadata": {},
     "output_type": "display_data"
    }
   ],
   "source": [
    "zeros(3,3)"
   ]
  },
  {
   "cell_type": "code",
   "execution_count": 49,
   "metadata": {},
   "outputs": [
    {
     "data": {
      "text/plain": [
       "3×3 Matrix{Int64}:\n",
       " 1  1  1\n",
       " 1  1  1\n",
       " 1  1  1"
      ]
     },
     "metadata": {},
     "output_type": "display_data"
    }
   ],
   "source": [
    "ones(Int64, 3,3)"
   ]
  },
  {
   "cell_type": "markdown",
   "metadata": {},
   "source": [
    "**Concatenation of arrays**"
   ]
  },
  {
   "cell_type": "markdown",
   "metadata": {},
   "source": [
    "The `cat()` is a built in function for concatenating arrays or collections of objects along a specified dimensions."
   ]
  },
  {
   "cell_type": "code",
   "execution_count": 50,
   "metadata": {},
   "outputs": [
    {
     "data": {
      "text/plain": [
       "4-element Vector{Int64}:\n",
       "  5\n",
       " 10\n",
       " 15\n",
       " 20"
      ]
     },
     "metadata": {},
     "output_type": "display_data"
    }
   ],
   "source": [
    "a = [1, 2, 3, 4] \n",
    "b = [5, 10, 15, 20] "
   ]
  },
  {
   "cell_type": "code",
   "execution_count": 51,
   "metadata": {},
   "outputs": [
    {
     "data": {
      "text/plain": [
       "8-element Vector{Int64}:\n",
       "  1\n",
       "  2\n",
       "  3\n",
       "  4\n",
       "  5\n",
       " 10\n",
       " 15\n",
       " 20"
      ]
     },
     "metadata": {},
     "output_type": "display_data"
    }
   ],
   "source": [
    "cat(a, b, dims=1) # Same as vcat"
   ]
  },
  {
   "cell_type": "code",
   "execution_count": 52,
   "metadata": {},
   "outputs": [
    {
     "data": {
      "text/plain": [
       "4×2 Matrix{Int64}:\n",
       " 1   5\n",
       " 2  10\n",
       " 3  15\n",
       " 4  20"
      ]
     },
     "metadata": {},
     "output_type": "display_data"
    }
   ],
   "source": [
    "cat(a, b, dims=2) # same as hcat"
   ]
  },
  {
   "cell_type": "markdown",
   "metadata": {},
   "source": [
    "Alternatively we could use the `vcat()` to concatenate the given arrays along dimension 1 and `hcat()` to concatenate the given arrays along dimension 2."
   ]
  },
  {
   "cell_type": "code",
   "execution_count": 53,
   "metadata": {},
   "outputs": [
    {
     "data": {
      "text/plain": [
       "8-element Vector{Int64}:\n",
       "  1\n",
       "  2\n",
       "  3\n",
       "  4\n",
       "  5\n",
       " 10\n",
       " 15\n",
       " 20"
      ]
     },
     "metadata": {},
     "output_type": "display_data"
    }
   ],
   "source": [
    "vcat(a, b) "
   ]
  },
  {
   "cell_type": "code",
   "execution_count": 54,
   "metadata": {},
   "outputs": [
    {
     "data": {
      "text/plain": [
       "4×2 Matrix{Int64}:\n",
       " 1   5\n",
       " 2  10\n",
       " 3  15\n",
       " 4  20"
      ]
     },
     "metadata": {},
     "output_type": "display_data"
    }
   ],
   "source": [
    "hcat(a, b) "
   ]
  },
  {
   "cell_type": "markdown",
   "metadata": {},
   "source": [
    "**Array Inspection**"
   ]
  },
  {
   "cell_type": "code",
   "execution_count": 55,
   "metadata": {},
   "outputs": [
    {
     "data": {
      "text/plain": [
       "String"
      ]
     },
     "metadata": {},
     "output_type": "display_data"
    }
   ],
   "source": [
    "eltype(bestmovies)"
   ]
  },
  {
   "cell_type": "code",
   "execution_count": 56,
   "metadata": {},
   "outputs": [
    {
     "data": {
      "text/plain": [
       "5"
      ]
     },
     "metadata": {},
     "output_type": "display_data"
    }
   ],
   "source": [
    "length(bestmovies) # Total number of elements"
   ]
  },
  {
   "cell_type": "code",
   "execution_count": 57,
   "metadata": {},
   "outputs": [
    {
     "data": {
      "text/plain": [
       "1"
      ]
     },
     "metadata": {},
     "output_type": "display_data"
    }
   ],
   "source": [
    "ndims(bestmovies) # Number of dimensions"
   ]
  },
  {
   "cell_type": "code",
   "execution_count": 58,
   "metadata": {},
   "outputs": [
    {
     "data": {
      "text/plain": [
       "(5,)"
      ]
     },
     "metadata": {},
     "output_type": "display_data"
    }
   ],
   "source": [
    "size(bestmovies) # Array’s dimensions"
   ]
  },
  {
   "cell_type": "code",
   "execution_count": 59,
   "metadata": {},
   "outputs": [
    {
     "data": {
      "text/plain": [
       "5"
      ]
     },
     "metadata": {},
     "output_type": "display_data"
    }
   ],
   "source": [
    "size(bestmovies, 1)"
   ]
  },
  {
   "cell_type": "markdown",
   "metadata": {},
   "source": [
    "**Indexing**"
   ]
  },
  {
   "cell_type": "code",
   "execution_count": 60,
   "metadata": {},
   "outputs": [
    {
     "data": {
      "text/plain": [
       "5-element Vector{Int64}:\n",
       " 1\n",
       " 2\n",
       " 3\n",
       " 4\n",
       " 5"
      ]
     },
     "metadata": {},
     "output_type": "display_data"
    }
   ],
   "source": [
    "# Example vector\n",
    "my_vec = [1, 2, 3, 4, 5]"
   ]
  },
  {
   "cell_type": "code",
   "execution_count": 61,
   "metadata": {},
   "outputs": [
    {
     "data": {
      "text/plain": [
       "3"
      ]
     },
     "metadata": {},
     "output_type": "display_data"
    }
   ],
   "source": [
    "my_vec[3]"
   ]
  },
  {
   "cell_type": "code",
   "execution_count": 62,
   "metadata": {},
   "outputs": [
    {
     "data": {
      "text/plain": [
       "5"
      ]
     },
     "metadata": {},
     "output_type": "display_data"
    }
   ],
   "source": [
    "my_vec[end]"
   ]
  },
  {
   "cell_type": "code",
   "execution_count": 63,
   "metadata": {},
   "outputs": [
    {
     "data": {
      "text/plain": [
       "3×3 Matrix{Int64}:\n",
       " 1  2  3\n",
       " 4  5  6\n",
       " 7  8  9"
      ]
     },
     "metadata": {},
     "output_type": "display_data"
    }
   ],
   "source": [
    "# Example matrix\n",
    "my_mat = [[1 2 3]\n",
    "          [4 5 6]\n",
    "          [7 8 9]]"
   ]
  },
  {
   "cell_type": "code",
   "execution_count": 64,
   "metadata": {},
   "outputs": [
    {
     "data": {
      "text/plain": [
       "4"
      ]
     },
     "metadata": {},
     "output_type": "display_data"
    }
   ],
   "source": [
    "my_mat[2,1]"
   ]
  },
  {
   "cell_type": "markdown",
   "metadata": {},
   "source": [
    "**Slicing**"
   ]
  },
  {
   "cell_type": "code",
   "execution_count": 65,
   "metadata": {},
   "outputs": [
    {
     "data": {
      "text/plain": [
       "3-element Vector{Int64}:\n",
       " 2\n",
       " 3\n",
       " 4"
      ]
     },
     "metadata": {},
     "output_type": "display_data"
    }
   ],
   "source": [
    "my_vec[2:4]"
   ]
  },
  {
   "cell_type": "code",
   "execution_count": 66,
   "metadata": {},
   "outputs": [
    {
     "data": {
      "text/plain": [
       "3-element Vector{Int64}:\n",
       " 4\n",
       " 5\n",
       " 6"
      ]
     },
     "metadata": {},
     "output_type": "display_data"
    }
   ],
   "source": [
    "my_mat[2, :] # Access the 2nd row of the matrix "
   ]
  },
  {
   "cell_type": "markdown",
   "metadata": {},
   "source": [
    "**Manipulations**"
   ]
  },
  {
   "cell_type": "code",
   "execution_count": 67,
   "metadata": {},
   "outputs": [
    {
     "data": {
      "text/plain": [
       "100"
      ]
     },
     "metadata": {},
     "output_type": "display_data"
    }
   ],
   "source": [
    "my_mat[2,2] = 100"
   ]
  },
  {
   "cell_type": "code",
   "execution_count": 68,
   "metadata": {},
   "outputs": [
    {
     "data": {
      "text/plain": [
       "3×3 Matrix{Int64}:\n",
       " 1    2  3\n",
       " 4  100  6\n",
       " 7    8  9"
      ]
     },
     "metadata": {},
     "output_type": "display_data"
    }
   ],
   "source": [
    "my_mat"
   ]
  },
  {
   "cell_type": "code",
   "execution_count": 69,
   "metadata": {},
   "outputs": [
    {
     "data": {
      "text/plain": [
       "3-element Vector{Int64}:\n",
       " 99\n",
       " 99\n",
       " 99"
      ]
     },
     "metadata": {},
     "output_type": "display_data"
    }
   ],
   "source": [
    "my_mat[3, :] = [99,99,99]"
   ]
  },
  {
   "cell_type": "code",
   "execution_count": 70,
   "metadata": {},
   "outputs": [
    {
     "data": {
      "text/plain": [
       "3×3 Matrix{Int64}:\n",
       "  1    2   3\n",
       "  4  100   6\n",
       " 99   99  99"
      ]
     },
     "metadata": {},
     "output_type": "display_data"
    }
   ],
   "source": [
    "my_mat"
   ]
  },
  {
   "cell_type": "markdown",
   "metadata": {},
   "source": [
    "**Multiplication**"
   ]
  },
  {
   "cell_type": "code",
   "execution_count": 71,
   "metadata": {},
   "outputs": [
    {
     "data": {
      "text/plain": [
       "3×3 Matrix{Int64}:\n",
       " 5  3  0\n",
       " 2  8  4\n",
       " 0  1  1"
      ]
     },
     "metadata": {},
     "output_type": "display_data"
    }
   ],
   "source": [
    "A = rand(0:9,3,3)"
   ]
  },
  {
   "cell_type": "code",
   "execution_count": 72,
   "metadata": {},
   "outputs": [
    {
     "data": {
      "text/plain": [
       "3-element Vector{Float64}:\n",
       " 1.0\n",
       " 1.0\n",
       " 1.0"
      ]
     },
     "metadata": {},
     "output_type": "display_data"
    }
   ],
   "source": [
    "x = fill(1.0, (3,))"
   ]
  },
  {
   "cell_type": "code",
   "execution_count": 73,
   "metadata": {},
   "outputs": [
    {
     "data": {
      "text/plain": [
       "3-element Vector{Float64}:\n",
       "  8.0\n",
       " 14.0\n",
       "  2.0"
      ]
     },
     "metadata": {},
     "output_type": "display_data"
    }
   ],
   "source": [
    "b = A*x"
   ]
  },
  {
   "cell_type": "markdown",
   "metadata": {},
   "source": [
    "**Transposition**"
   ]
  },
  {
   "cell_type": "code",
   "execution_count": 74,
   "metadata": {},
   "outputs": [
    {
     "data": {
      "text/plain": [
       "3×3 adjoint(::Matrix{Int64}) with eltype Int64:\n",
       " 5  2  0\n",
       " 3  8  1\n",
       " 0  4  1"
      ]
     },
     "metadata": {},
     "output_type": "display_data"
    }
   ],
   "source": [
    "A'"
   ]
  },
  {
   "cell_type": "markdown",
   "metadata": {},
   "source": [
    "or"
   ]
  },
  {
   "cell_type": "code",
   "execution_count": 75,
   "metadata": {},
   "outputs": [
    {
     "data": {
      "text/plain": [
       "3×3 transpose(::Matrix{Int64}) with eltype Int64:\n",
       " 5  2  0\n",
       " 3  8  1\n",
       " 0  4  1"
      ]
     },
     "metadata": {},
     "output_type": "display_data"
    }
   ],
   "source": [
    "transpose(A)"
   ]
  },
  {
   "cell_type": "code",
   "execution_count": 76,
   "metadata": {},
   "outputs": [
    {
     "data": {
      "text/plain": [
       "3×3 Matrix{Int64}:\n",
       " 29  31   8\n",
       " 31  74  33\n",
       "  8  33  17"
      ]
     },
     "metadata": {},
     "output_type": "display_data"
    }
   ],
   "source": [
    "A'A"
   ]
  },
  {
   "cell_type": "markdown",
   "metadata": {},
   "source": [
    "## 4. Loops"
   ]
  },
  {
   "cell_type": "markdown",
   "metadata": {},
   "source": [
    "### While loop\n",
    "\n",
    "The syntax for a `while` loop is:\n",
    "\n",
    "```julia\n",
    "while *condition*\n",
    "    *loop body*\n",
    "end\n",
    "```\n",
    "\n",
    "For example, we could use `while` to count or to iterate elements over an array."
   ]
  },
  {
   "cell_type": "code",
   "execution_count": 77,
   "metadata": {},
   "outputs": [
    {
     "name": "stdout",
     "output_type": "stream",
     "text": [
      "1\n",
      "2\n",
      "3\n",
      "4\n",
      "5\n",
      "6\n",
      "7\n",
      "8\n",
      "9\n",
      "10\n"
     ]
    }
   ],
   "source": [
    "n = 0\n",
    "while n < 10\n",
    "    n += 1\n",
    "    println(n)\n",
    "end"
   ]
  },
  {
   "cell_type": "markdown",
   "metadata": {},
   "source": [
    "### For loop\n",
    "\n",
    "The syntax for a `for` loop is:\n",
    "\n",
    "```julia\n",
    "for *var* in *loop iterable*\n",
    "    *loop body*\n",
    "end\n",
    "```\n",
    "\n",
    "We could use a `for` loop to generate the same result as in the example above."
   ]
  },
  {
   "cell_type": "code",
   "execution_count": 78,
   "metadata": {},
   "outputs": [
    {
     "name": "stdout",
     "output_type": "stream",
     "text": [
      "1\n",
      "2\n",
      "3\n",
      "4\n",
      "5\n",
      "6\n",
      "7\n",
      "8\n",
      "9\n",
      "10\n"
     ]
    }
   ],
   "source": [
    "for n in 1:10\n",
    "    println(n)\n",
    "end"
   ]
  },
  {
   "cell_type": "code",
   "execution_count": 79,
   "metadata": {},
   "outputs": [
    {
     "name": "stdout",
     "output_type": "stream",
     "text": [
      "1\n",
      "2\n",
      "3\n",
      "4\n",
      "5\n",
      "6\n",
      "7\n",
      "8\n",
      "9\n",
      "10\n"
     ]
    }
   ],
   "source": [
    "for n ∈ 1:10\n",
    "    println(n)\n",
    "end"
   ]
  },
  {
   "cell_type": "markdown",
   "metadata": {},
   "source": [
    "## 5. Conditionals"
   ]
  },
  {
   "cell_type": "markdown",
   "metadata": {},
   "source": [
    "#### with the `if` keyword\n",
    "In Julia, the syntax\n",
    "\n",
    "```julia\n",
    "if *condition 1*\n",
    "    *option 1*\n",
    "elseif *condition 2*\n",
    "    *option 2*\n",
    "else\n",
    "    *option 3*\n",
    "end\n",
    "```"
   ]
  },
  {
   "cell_type": "markdown",
   "metadata": {},
   "source": [
    "For example, we want to write a conditional statement that prints a number if the number is even and the string \"odd\" if the number is odd."
   ]
  },
  {
   "cell_type": "code",
   "execution_count": 80,
   "metadata": {},
   "outputs": [
    {
     "name": "stdout",
     "output_type": "stream",
     "text": [
      "odd\n"
     ]
    }
   ],
   "source": [
    "x = 1\n",
    "if (x % 2 == 0)\n",
    "    println(x)\n",
    "else\n",
    "    println(\"odd\")\n",
    "end"
   ]
  },
  {
   "cell_type": "markdown",
   "metadata": {},
   "source": [
    "#### with ternary operators\n",
    "In Julia, we can rewrite this code using the tenary operator \n",
    "\n",
    "```julia\n",
    "a ? b : c\n",
    "```\n",
    "\n",
    "which is equal to \n",
    "\n",
    "```julia\n",
    "if a\n",
    "    b\n",
    "else\n",
    "    c\n",
    "end\n",
    "```"
   ]
  },
  {
   "cell_type": "code",
   "execution_count": 81,
   "metadata": {},
   "outputs": [
    {
     "data": {
      "text/plain": [
       "\"odd\""
      ]
     },
     "metadata": {},
     "output_type": "display_data"
    }
   ],
   "source": [
    "(x % 2 == 0) ? x : \"odd\""
   ]
  },
  {
   "cell_type": "markdown",
   "metadata": {},
   "source": [
    "## 6. Functions"
   ]
  },
  {
   "cell_type": "markdown",
   "metadata": {},
   "source": [
    "The basic syntax for defining functions in Julia is using `function` and `end` keywords"
   ]
  },
  {
   "cell_type": "code",
   "execution_count": 82,
   "metadata": {},
   "outputs": [
    {
     "data": {
      "text/plain": [
       "sayhi (generic function with 1 method)"
      ]
     },
     "metadata": {},
     "output_type": "display_data"
    }
   ],
   "source": [
    "function sayhi(name)\n",
    "    println(\"Hi $name, it's great to see you!\")\n",
    "end"
   ]
  },
  {
   "cell_type": "code",
   "execution_count": 83,
   "metadata": {},
   "outputs": [
    {
     "name": "stdout",
     "output_type": "stream",
     "text": [
      "Hi Julia, it's great to see you!\n"
     ]
    }
   ],
   "source": [
    "sayhi(\"Julia\")"
   ]
  },
  {
   "cell_type": "code",
   "execution_count": 84,
   "metadata": {},
   "outputs": [
    {
     "data": {
      "text/plain": [
       "f (generic function with 1 method)"
      ]
     },
     "metadata": {},
     "output_type": "display_data"
    }
   ],
   "source": [
    "function f(x)\n",
    "    x^2\n",
    "end"
   ]
  },
  {
   "cell_type": "code",
   "execution_count": 85,
   "metadata": {},
   "outputs": [
    {
     "data": {
      "text/plain": [
       "225"
      ]
     },
     "metadata": {},
     "output_type": "display_data"
    }
   ],
   "source": [
    "f(15)"
   ]
  },
  {
   "cell_type": "markdown",
   "metadata": {},
   "source": [
    "Alternatively, we could have declared the above functions in just a single line"
   ]
  },
  {
   "cell_type": "code",
   "execution_count": 86,
   "metadata": {},
   "outputs": [
    {
     "data": {
      "text/plain": [
       "sayhi2 (generic function with 1 method)"
      ]
     },
     "metadata": {},
     "output_type": "display_data"
    }
   ],
   "source": [
    "sayhi2(name) = println(\"Hi $name, it's great to see you!\")"
   ]
  },
  {
   "cell_type": "code",
   "execution_count": 87,
   "metadata": {},
   "outputs": [
    {
     "data": {
      "text/plain": [
       "f2 (generic function with 1 method)"
      ]
     },
     "metadata": {},
     "output_type": "display_data"
    }
   ],
   "source": [
    "f2(x) = x^2"
   ]
  },
  {
   "cell_type": "code",
   "execution_count": 88,
   "metadata": {},
   "outputs": [
    {
     "name": "stdout",
     "output_type": "stream",
     "text": [
      "Hi Iga, it's great to see you!\n"
     ]
    }
   ],
   "source": [
    "sayhi2(\"Iga\")"
   ]
  },
  {
   "cell_type": "code",
   "execution_count": 89,
   "metadata": {},
   "outputs": [
    {
     "data": {
      "text/plain": [
       "225"
      ]
     },
     "metadata": {},
     "output_type": "display_data"
    }
   ],
   "source": [
    "f2(15)"
   ]
  },
  {
   "cell_type": "markdown",
   "metadata": {},
   "source": [
    "Or we could have declared them as the \"anonymous\" functions"
   ]
  },
  {
   "cell_type": "code",
   "execution_count": 90,
   "metadata": {},
   "outputs": [
    {
     "data": {
      "text/plain": [
       "#11 (generic function with 1 method)"
      ]
     },
     "metadata": {},
     "output_type": "display_data"
    }
   ],
   "source": [
    "sayhi3 = name -> println(\"Hi $name, it's great to see you!\")"
   ]
  },
  {
   "cell_type": "code",
   "execution_count": 91,
   "metadata": {},
   "outputs": [
    {
     "data": {
      "text/plain": [
       "#13 (generic function with 1 method)"
      ]
     },
     "metadata": {},
     "output_type": "display_data"
    }
   ],
   "source": [
    "f3 = x -> x^2"
   ]
  },
  {
   "cell_type": "code",
   "execution_count": 92,
   "metadata": {},
   "outputs": [
    {
     "name": "stdout",
     "output_type": "stream",
     "text": [
      "Hi Eva, it's great to see you!\n"
     ]
    }
   ],
   "source": [
    "sayhi3(\"Eva\")"
   ]
  },
  {
   "cell_type": "code",
   "execution_count": 93,
   "metadata": {},
   "outputs": [
    {
     "data": {
      "text/plain": [
       "225"
      ]
     },
     "metadata": {},
     "output_type": "display_data"
    }
   ],
   "source": [
    "f3(15)"
   ]
  },
  {
   "cell_type": "code",
   "execution_count": 94,
   "metadata": {},
   "outputs": [],
   "source": [
    "# Exercise\n",
    "# Try to make a function that prints \"Hello Julia\" if the given name is \"Julia\" and prints \"Hello World\" if the given name is different. \n",
    "# Insert your code here\n",
    "\n",
    "\n",
    "\n",
    "\n",
    "\n"
   ]
  },
  {
   "cell_type": "code",
   "execution_count": 95,
   "metadata": {},
   "outputs": [
    {
     "data": {
      "text/plain": [
       "print_hello (generic function with 1 method)"
      ]
     },
     "metadata": {},
     "output_type": "display_data"
    }
   ],
   "source": [
    "# Answer\n",
    "function print_hello(name)\n",
    "    if name == \"Julia\"\n",
    "        println(\"Hello Julia\")\n",
    "    else\n",
    "        println(\"Hello World\")\n",
    "    end \n",
    "end"
   ]
  },
  {
   "cell_type": "code",
   "execution_count": 96,
   "metadata": {},
   "outputs": [
    {
     "name": "stdout",
     "output_type": "stream",
     "text": [
      "Hello World\n"
     ]
    }
   ],
   "source": [
    "print_hello(\"Alex\")"
   ]
  },
  {
   "cell_type": "markdown",
   "metadata": {},
   "source": [
    "### Mutating vs non-mutating functions"
   ]
  },
  {
   "cell_type": "markdown",
   "metadata": {},
   "source": [
    "Using a non-mutating function `sort` without `!` "
   ]
  },
  {
   "cell_type": "code",
   "execution_count": 97,
   "metadata": {},
   "outputs": [
    {
     "data": {
      "text/plain": [
       "3-element Vector{Int64}:\n",
       " 3\n",
       " 5\n",
       " 2"
      ]
     },
     "metadata": {},
     "output_type": "display_data"
    }
   ],
   "source": [
    "v = [3, 5, 2]"
   ]
  },
  {
   "cell_type": "code",
   "execution_count": 98,
   "metadata": {},
   "outputs": [
    {
     "data": {
      "text/plain": [
       "3-element Vector{Int64}:\n",
       " 2\n",
       " 3\n",
       " 5"
      ]
     },
     "metadata": {},
     "output_type": "display_data"
    }
   ],
   "source": [
    "sort(v)"
   ]
  },
  {
   "cell_type": "code",
   "execution_count": 99,
   "metadata": {},
   "outputs": [
    {
     "data": {
      "text/plain": [
       "3-element Vector{Int64}:\n",
       " 3\n",
       " 5\n",
       " 2"
      ]
     },
     "metadata": {},
     "output_type": "display_data"
    }
   ],
   "source": [
    "v"
   ]
  },
  {
   "cell_type": "markdown",
   "metadata": {},
   "source": [
    "The exclamation mark `!` at the end of a function `sort!` performs a mutation on its arguments. Well, let's see."
   ]
  },
  {
   "cell_type": "code",
   "execution_count": 100,
   "metadata": {},
   "outputs": [
    {
     "data": {
      "text/plain": [
       "3-element Vector{Int64}:\n",
       " 2\n",
       " 3\n",
       " 5"
      ]
     },
     "metadata": {},
     "output_type": "display_data"
    }
   ],
   "source": [
    "sort!(v)"
   ]
  },
  {
   "cell_type": "code",
   "execution_count": 101,
   "metadata": {},
   "outputs": [
    {
     "data": {
      "text/plain": [
       "3-element Vector{Int64}:\n",
       " 2\n",
       " 3\n",
       " 5"
      ]
     },
     "metadata": {},
     "output_type": "display_data"
    }
   ],
   "source": [
    "v"
   ]
  },
  {
   "cell_type": "markdown",
   "metadata": {},
   "source": [
    "### Broadcasting"
   ]
  },
  {
   "cell_type": "markdown",
   "metadata": {},
   "source": [
    "1) We can apply a function element-wise to arrays or collections without explicitly using loops by *broadcasting* using the dot `.` syntax. "
   ]
  },
  {
   "cell_type": "code",
   "execution_count": 102,
   "metadata": {},
   "outputs": [
    {
     "data": {
      "text/plain": [
       "3-element Vector{Int64}:\n",
       " 1\n",
       " 4\n",
       " 9"
      ]
     },
     "metadata": {},
     "output_type": "display_data"
    }
   ],
   "source": [
    "f.([1, 2, 3])"
   ]
  },
  {
   "cell_type": "markdown",
   "metadata": {},
   "source": [
    "2) Multiply each element of A by the scalar x."
   ]
  },
  {
   "cell_type": "code",
   "execution_count": 103,
   "metadata": {},
   "outputs": [
    {
     "data": {
      "text/plain": [
       "3×3 Matrix{Int64}:\n",
       " 1  2  3\n",
       " 4  5  6\n",
       " 7  8  9"
      ]
     },
     "metadata": {},
     "output_type": "display_data"
    }
   ],
   "source": [
    "A = [1 2 3; 4 5 6; 7 8 9]"
   ]
  },
  {
   "cell_type": "code",
   "execution_count": 104,
   "metadata": {},
   "outputs": [
    {
     "data": {
      "text/plain": [
       "2"
      ]
     },
     "metadata": {},
     "output_type": "display_data"
    }
   ],
   "source": [
    "x = 2"
   ]
  },
  {
   "cell_type": "code",
   "execution_count": 105,
   "metadata": {},
   "outputs": [
    {
     "data": {
      "text/plain": [
       "3×3 Matrix{Int64}:\n",
       "  2   4   6\n",
       "  8  10  12\n",
       " 14  16  18"
      ]
     },
     "metadata": {},
     "output_type": "display_data"
    }
   ],
   "source": [
    "result = A .* x"
   ]
  },
  {
   "cell_type": "markdown",
   "metadata": {},
   "source": [
    "## 7. Multiple Dispatch \n",
    "A key feature of Julia that makes your code *generic* and *fast*. "
   ]
  },
  {
   "cell_type": "markdown",
   "metadata": {},
   "source": [
    "Julia is a dynamically typed language, meaning we don't need to specify the types of our input arguments when declaring a function. It is optional because Julia dynamically determines the correct types on the fly. However, we can still explicitly specify types if we want to:"
   ]
  },
  {
   "cell_type": "code",
   "execution_count": 106,
   "metadata": {},
   "outputs": [
    {
     "data": {
      "text/plain": [
       "add (generic function with 1 method)"
      ]
     },
     "metadata": {},
     "output_type": "display_data"
    }
   ],
   "source": [
    "function add(x::Int, y::Int)\n",
    "    return x + y\n",
    "end"
   ]
  },
  {
   "cell_type": "code",
   "execution_count": 107,
   "metadata": {},
   "outputs": [
    {
     "data": {
      "text/plain": [
       "add (generic function with 2 methods)"
      ]
     },
     "metadata": {},
     "output_type": "display_data"
    }
   ],
   "source": [
    "function add(x::Float64, y::Float64)\n",
    "    return x + y\n",
    "end"
   ]
  },
  {
   "cell_type": "markdown",
   "metadata": {},
   "source": [
    "It doesn't mean that we overwrite or replace any of the functions we declared. We are simply adding an additional **method** to the generic function called add."
   ]
  },
  {
   "cell_type": "code",
   "execution_count": 108,
   "metadata": {},
   "outputs": [
    {
     "data": {
      "text/plain": [
       "8"
      ]
     },
     "metadata": {},
     "output_type": "display_data"
    }
   ],
   "source": [
    "result_int = add(5, 3)         "
   ]
  },
  {
   "cell_type": "code",
   "execution_count": 109,
   "metadata": {},
   "outputs": [
    {
     "data": {
      "text/plain": [
       "6.0"
      ]
     },
     "metadata": {},
     "output_type": "display_data"
    }
   ],
   "source": [
    "result_float = add(3.5, 2.5)  "
   ]
  },
  {
   "cell_type": "markdown",
   "metadata": {},
   "source": [
    "We can use the `methods` function to see how many methods there are for the function."
   ]
  },
  {
   "cell_type": "code",
   "execution_count": 110,
   "metadata": {},
   "outputs": [
    {
     "data": {
      "text/html": [
       "# 2 methods for generic function <b>add</b> from \u001b[35mMain\u001b[39m:<ul><li> add(x::<b>Int64</b>, y::<b>Int64</b>) in Main at <a href=\"file:///Users/igaszczesniak/Desktop/coding/juliaeo24_notebook/Introduction_to_Julia.ipynb\" target=\"_blank\">/Users/igaszczesniak/Desktop/coding/juliaeo24_notebook/Introduction_to_Julia.ipynb:1</a></li> <li> add(x::<b>Float64</b>, y::<b>Float64</b>) in Main at <a href=\"file:///Users/igaszczesniak/Desktop/coding/juliaeo24_notebook/Introduction_to_Julia.ipynb\" target=\"_blank\">/Users/igaszczesniak/Desktop/coding/juliaeo24_notebook/Introduction_to_Julia.ipynb:1</a></li> </ul>"
      ],
      "text/plain": [
       "# 2 methods for generic function \"add\" from \u001b[35mMain\u001b[39m:\n",
       " [1] add(\u001b[90mx\u001b[39m::\u001b[1mInt64\u001b[22m, \u001b[90my\u001b[39m::\u001b[1mInt64\u001b[22m)\n",
       "\u001b[90m     @\u001b[39m \u001b[90m~/Desktop/coding/juliaeo24_notebook/\u001b[39m\u001b[90m\u001b[4mIntroduction_to_Julia.ipynb:1\u001b[24m\u001b[39m\n",
       " [2] add(\u001b[90mx\u001b[39m::\u001b[1mFloat64\u001b[22m, \u001b[90my\u001b[39m::\u001b[1mFloat64\u001b[22m)\n",
       "\u001b[90m     @\u001b[39m \u001b[90m~/Desktop/coding/juliaeo24_notebook/\u001b[39m\u001b[90m\u001b[4mIntroduction_to_Julia.ipynb:1\u001b[24m\u001b[39m"
      ]
     },
     "metadata": {},
     "output_type": "display_data"
    }
   ],
   "source": [
    "methods(add)"
   ]
  },
  {
   "cell_type": "markdown",
   "metadata": {},
   "source": [
    "To see which method is being dispatched when we call a generic function, we can use @which."
   ]
  },
  {
   "cell_type": "code",
   "execution_count": 111,
   "metadata": {},
   "outputs": [
    {
     "data": {
      "text/html": [
       "add(x::<b>Int64</b>, y::<b>Int64</b>) in Main at <a href=\"file:///Users/igaszczesniak/Desktop/coding/juliaeo24_notebook/Introduction_to_Julia.ipynb\" target=\"_blank\">/Users/igaszczesniak/Desktop/coding/juliaeo24_notebook/Introduction_to_Julia.ipynb:1</a>"
      ],
      "text/plain": [
       "add(\u001b[90mx\u001b[39m::\u001b[1mInt64\u001b[22m, \u001b[90my\u001b[39m::\u001b[1mInt64\u001b[22m)\n",
       "\u001b[90m     @\u001b[39m \u001b[90mMain\u001b[39m \u001b[90m~/Desktop/coding/juliaeo24_notebook/\u001b[39m\u001b[90m\u001b[4mIntroduction_to_Julia.ipynb:1\u001b[24m\u001b[39m"
      ]
     },
     "metadata": {},
     "output_type": "display_data"
    }
   ],
   "source": [
    "@which add(8, 9)"
   ]
  },
  {
   "cell_type": "markdown",
   "metadata": {},
   "source": [
    "## 8. Package Manager\n",
    "Julia has a built-in package manager called `Pkg`, which simplifies reusing other people's code, eliminating the need for external tools such as anaconda and pip. Here are some of its functions:\n",
    "\n",
    "- Installing and uninstalling packages.\n",
    "- Creating project environments with Project.toml.\n",
    "- Ensuring complete project reproducibility via Manifest.toml.\n",
    "- Defining compatibility with dependencies.\n",
    "- Facilitating development of packages."
   ]
  },
  {
   "cell_type": "code",
   "execution_count": 112,
   "metadata": {},
   "outputs": [],
   "source": [
    "using Pkg"
   ]
  },
  {
   "cell_type": "code",
   "execution_count": 113,
   "metadata": {},
   "outputs": [
    {
     "name": "stdout",
     "output_type": "stream",
     "text": [
      "\u001b[32m\u001b[1mStatus\u001b[22m\u001b[39m `~/Desktop/coding/juliaeo24_notebook/Project.toml`\n",
      "\u001b[32m⌃\u001b[39m \u001b[90m[336ed68f] \u001b[39mCSV v0.10.11\n",
      "\u001b[32m⌃\u001b[39m \u001b[90m[13f3f980] \u001b[39mCairoMakie v0.11.3\n",
      "  \u001b[90m[324d7699] \u001b[39mCategoricalArrays v0.10.8\n",
      "  \u001b[90m[a93c6f00] \u001b[39mDataFrames v1.6.1\n",
      "\u001b[33m⌅\u001b[39m \u001b[90m[ee78f7c6] \u001b[39mMakie v0.20.2\n",
      "  \u001b[90m[f43a241f] \u001b[39mDownloads v1.6.0\n",
      "  \u001b[90m[10745b16] \u001b[39mStatistics v1.9.0\n",
      "\u001b[36m\u001b[1mInfo\u001b[22m\u001b[39m Packages marked with \u001b[32m⌃\u001b[39m and \u001b[33m⌅\u001b[39m have new versions available, but those with \u001b[33m⌅\u001b[39m are restricted by compatibility constraints from upgrading. To see why use `status --outdated`\n"
     ]
    }
   ],
   "source": [
    "Pkg.status()"
   ]
  },
  {
   "cell_type": "code",
   "execution_count": 114,
   "metadata": {},
   "outputs": [
    {
     "name": "stderr",
     "output_type": "stream",
     "text": [
      "\u001b[32m\u001b[1m  Activating\u001b[22m\u001b[39m project at `~/Desktop/coding/juliaeo24_notebook`\n"
     ]
    }
   ],
   "source": [
    "Pkg.activate(\".\")"
   ]
  },
  {
   "cell_type": "markdown",
   "metadata": {},
   "source": [
    "The first time you use a package on a given Julia installation, you need to use the package manager to add it."
   ]
  },
  {
   "cell_type": "code",
   "execution_count": 115,
   "metadata": {},
   "outputs": [
    {
     "name": "stderr",
     "output_type": "stream",
     "text": [
      "\u001b[32m\u001b[1m    Updating\u001b[22m\u001b[39m registry at `~/.julia/registries/General.toml`\n"
     ]
    },
    {
     "name": "stderr",
     "output_type": "stream",
     "text": [
      "\u001b[32m\u001b[1m   Resolving\u001b[22m\u001b[39m package versions...\n"
     ]
    },
    {
     "name": "stderr",
     "output_type": "stream",
     "text": [
      "\u001b[32m\u001b[1m  No Changes\u001b[22m\u001b[39m to `~/Desktop/coding/juliaeo24_notebook/Project.toml`\n",
      "\u001b[32m\u001b[1m  No Changes\u001b[22m\u001b[39m to `~/Desktop/coding/juliaeo24_notebook/Manifest.toml`\n"
     ]
    }
   ],
   "source": [
    "Pkg.add(\"CSV\")"
   ]
  },
  {
   "cell_type": "code",
   "execution_count": 116,
   "metadata": {},
   "outputs": [
    {
     "name": "stdout",
     "output_type": "stream",
     "text": [
      "\u001b[32m\u001b[1mStatus\u001b[22m\u001b[39m `~/Desktop/coding/juliaeo24_notebook/Project.toml`\n"
     ]
    },
    {
     "name": "stdout",
     "output_type": "stream",
     "text": [
      "\u001b[32m⌃\u001b[39m \u001b[90m[336ed68f] \u001b[39mCSV v0.10.11\n",
      "\u001b[32m⌃\u001b[39m \u001b[90m[13f3f980] \u001b[39mCairoMakie v0.11.3\n",
      "  \u001b[90m[324d7699] \u001b[39mCategoricalArrays v0.10.8\n",
      "  \u001b[90m[a93c6f00] \u001b[39mDataFrames v1.6.1\n",
      "\u001b[33m⌅\u001b[39m \u001b[90m[ee78f7c6] \u001b[39mMakie v0.20.2\n",
      "  \u001b[90m[f43a241f] \u001b[39mDownloads v1.6.0\n",
      "  \u001b[90m[10745b16] \u001b[39mStatistics v1.9.0\n",
      "\u001b[36m\u001b[1mInfo\u001b[22m\u001b[39m Packages marked with \u001b[32m⌃\u001b[39m and \u001b[33m⌅\u001b[39m have new versions available, but those with \u001b[33m⌅\u001b[39m are restricted by compatibility constraints from upgrading. To see why use `status --outdated`\n"
     ]
    }
   ],
   "source": [
    "Pkg.status()"
   ]
  },
  {
   "cell_type": "code",
   "execution_count": 117,
   "metadata": {},
   "outputs": [
    {
     "name": "stderr",
     "output_type": "stream",
     "text": [
      "\u001b[32m\u001b[1m   Resolving\u001b[22m\u001b[39m package versions...\n"
     ]
    },
    {
     "name": "stderr",
     "output_type": "stream",
     "text": [
      "\u001b[32m\u001b[1m  No Changes\u001b[22m\u001b[39m to `~/Desktop/coding/juliaeo24_notebook/Project.toml`\n",
      "\u001b[32m\u001b[1m  No Changes\u001b[22m\u001b[39m to `~/Desktop/coding/juliaeo24_notebook/Manifest.toml`\n"
     ]
    }
   ],
   "source": [
    "Pkg.add(\"DataFrames\") "
   ]
  },
  {
   "cell_type": "code",
   "execution_count": 118,
   "metadata": {},
   "outputs": [
    {
     "name": "stderr",
     "output_type": "stream",
     "text": [
      "\u001b[32m\u001b[1m   Resolving\u001b[22m\u001b[39m package versions...\n"
     ]
    },
    {
     "name": "stderr",
     "output_type": "stream",
     "text": [
      "\u001b[32m\u001b[1m  No Changes\u001b[22m\u001b[39m to `~/Desktop/coding/juliaeo24_notebook/Project.toml`\n",
      "\u001b[32m\u001b[1m  No Changes\u001b[22m\u001b[39m to `~/Desktop/coding/juliaeo24_notebook/Manifest.toml`\n"
     ]
    }
   ],
   "source": [
    "Pkg.add(\"Statistics\")"
   ]
  },
  {
   "cell_type": "markdown",
   "metadata": {},
   "source": [
    "Every time you use Julia (start a new session at the REPL or open a notebook for the first time) you need to load the package with the `using` keyword."
   ]
  },
  {
   "cell_type": "code",
   "execution_count": 119,
   "metadata": {},
   "outputs": [],
   "source": [
    "using DataFrames"
   ]
  },
  {
   "cell_type": "markdown",
   "metadata": {},
   "source": [
    "## 9. Tabular data\n",
    "The commonly used packages for working with tabular data in Julia are **CSV.jl**, **Downloads.jl**, **DataFrames.jl**, and **Statistics.jl**. Now, we will explore some of their features in the *Exercise_1.ipynb*."
   ]
  },
  {
   "cell_type": "code",
   "execution_count": 120,
   "metadata": {},
   "outputs": [
    {
     "name": "stderr",
     "output_type": "stream",
     "text": [
      "\u001b[32m\u001b[1m   Resolving\u001b[22m\u001b[39m package versions...\n"
     ]
    },
    {
     "name": "stderr",
     "output_type": "stream",
     "text": [
      "\u001b[32m\u001b[1m  No Changes\u001b[22m\u001b[39m to `~/Desktop/coding/juliaeo24_notebook/Project.toml`\n",
      "\u001b[32m\u001b[1m  No Changes\u001b[22m\u001b[39m to `~/Desktop/coding/juliaeo24_notebook/Manifest.toml`\n"
     ]
    }
   ],
   "source": [
    "Pkg.add(\"Downloads\")"
   ]
  },
  {
   "cell_type": "code",
   "execution_count": 121,
   "metadata": {},
   "outputs": [],
   "source": [
    "using DataFrames, CSV, Downloads "
   ]
  },
  {
   "cell_type": "code",
   "execution_count": 122,
   "metadata": {},
   "outputs": [
    {
     "data": {
      "text/html": [
       "<div><div style = \"float: left;\"><span>76321×12 DataFrame</span></div><div style = \"float: right;\"><span style = \"font-style: italic;\">76296 rows omitted</span></div><div style = \"clear: both;\"></div></div><div class = \"data-frame\" style = \"overflow-x: scroll;\"><table class = \"data-frame\" style = \"margin-bottom: 6px;\"><thead><tr class = \"header\"><th class = \"rowNumber\" style = \"font-weight: bold; text-align: right;\">Row</th><th style = \"text-align: left;\">Column1</th><th style = \"text-align: left;\">dev_eui</th><th style = \"text-align: left;\">gw_eui</th><th style = \"text-align: left;\">timestamp_utc_iso_string</th><th style = \"text-align: left;\">rssi_dbm</th><th style = \"text-align: left;\">snr_db</th><th style = \"text-align: left;\">dev_lon_deg_wgs84</th><th style = \"text-align: left;\">dev_lat_deg_wgs84</th><th style = \"text-align: left;\">battery_v</th><th style = \"text-align: left;\">gw_lon_deg_wgs84</th><th style = \"text-align: left;\">gw_lat_deg_wgs84</th><th style = \"text-align: left;\">signal_quality</th></tr><tr class = \"subheader headerLastRow\"><th class = \"rowNumber\" style = \"font-weight: bold; text-align: right;\"></th><th title = \"Int64\" style = \"text-align: left;\">Int64</th><th title = \"String31\" style = \"text-align: left;\">String31</th><th title = \"String31\" style = \"text-align: left;\">String31</th><th title = \"String31\" style = \"text-align: left;\">String31</th><th title = \"Int64\" style = \"text-align: left;\">Int64</th><th title = \"Float64\" style = \"text-align: left;\">Float64</th><th title = \"Float64\" style = \"text-align: left;\">Float64</th><th title = \"Float64\" style = \"text-align: left;\">Float64</th><th title = \"Float64\" style = \"text-align: left;\">Float64</th><th title = \"Float64\" style = \"text-align: left;\">Float64</th><th title = \"Float64\" style = \"text-align: left;\">Float64</th><th title = \"String31\" style = \"text-align: left;\">String31</th></tr></thead><tbody><tr><td class = \"rowNumber\" style = \"font-weight: bold; text-align: right;\">1</td><td style = \"text-align: right;\">0</td><td style = \"text-align: left;\">0200000000000000</td><td style = \"text-align: left;\">7076FF0056060728</td><td style = \"text-align: left;\">2022-03-16 03:10:48</td><td style = \"text-align: right;\">-112</td><td style = \"text-align: right;\">6.2</td><td style = \"text-align: right;\">-27.2673</td><td style = \"text-align: right;\">38.6557</td><td style = \"text-align: right;\">0.0</td><td style = \"text-align: right;\">0.0</td><td style = \"text-align: right;\">0.0</td><td style = \"text-align: left;\">Poor</td></tr><tr><td class = \"rowNumber\" style = \"font-weight: bold; text-align: right;\">2</td><td style = \"text-align: right;\">1</td><td style = \"text-align: left;\">0200000000000000</td><td style = \"text-align: left;\">7076FF0056060728</td><td style = \"text-align: left;\">2022-03-16 03:22:19</td><td style = \"text-align: right;\">-120</td><td style = \"text-align: right;\">0.2</td><td style = \"text-align: right;\">-27.2675</td><td style = \"text-align: right;\">38.6555</td><td style = \"text-align: right;\">0.0</td><td style = \"text-align: right;\">0.0</td><td style = \"text-align: right;\">0.0</td><td style = \"text-align: left;\">Poor</td></tr><tr><td class = \"rowNumber\" style = \"font-weight: bold; text-align: right;\">3</td><td style = \"text-align: right;\">2</td><td style = \"text-align: left;\">0200000000000000</td><td style = \"text-align: left;\">7076FF0056060728</td><td style = \"text-align: left;\">2022-03-16 05:41:10</td><td style = \"text-align: right;\">-100</td><td style = \"text-align: right;\">10.2</td><td style = \"text-align: right;\">-27.2671</td><td style = \"text-align: right;\">38.6556</td><td style = \"text-align: right;\">0.0</td><td style = \"text-align: right;\">0.0</td><td style = \"text-align: right;\">0.0</td><td style = \"text-align: left;\">Fair</td></tr><tr><td class = \"rowNumber\" style = \"font-weight: bold; text-align: right;\">4</td><td style = \"text-align: right;\">3</td><td style = \"text-align: left;\">0200000000000000</td><td style = \"text-align: left;\">7076FF0056060728</td><td style = \"text-align: left;\">2022-03-16 05:43:30</td><td style = \"text-align: right;\">-105</td><td style = \"text-align: right;\">9.2</td><td style = \"text-align: right;\">-27.2672</td><td style = \"text-align: right;\">38.6554</td><td style = \"text-align: right;\">0.0</td><td style = \"text-align: right;\">0.0</td><td style = \"text-align: right;\">0.0</td><td style = \"text-align: left;\">Fair</td></tr><tr><td class = \"rowNumber\" style = \"font-weight: bold; text-align: right;\">5</td><td style = \"text-align: right;\">4</td><td style = \"text-align: left;\">0200000000000000</td><td style = \"text-align: left;\">7076FF0056060728</td><td style = \"text-align: left;\">2022-03-16 12:18:26</td><td style = \"text-align: right;\">-105</td><td style = \"text-align: right;\">8.2</td><td style = \"text-align: right;\">-27.2666</td><td style = \"text-align: right;\">38.6562</td><td style = \"text-align: right;\">0.0</td><td style = \"text-align: right;\">0.0</td><td style = \"text-align: right;\">0.0</td><td style = \"text-align: left;\">Fair</td></tr><tr><td class = \"rowNumber\" style = \"font-weight: bold; text-align: right;\">6</td><td style = \"text-align: right;\">5</td><td style = \"text-align: left;\">0200000000000000</td><td style = \"text-align: left;\">7076FF0056060728</td><td style = \"text-align: left;\">2022-03-16 15:38:22</td><td style = \"text-align: right;\">-102</td><td style = \"text-align: right;\">9.8</td><td style = \"text-align: right;\">-27.2673</td><td style = \"text-align: right;\">38.6556</td><td style = \"text-align: right;\">0.0</td><td style = \"text-align: right;\">0.0</td><td style = \"text-align: right;\">0.0</td><td style = \"text-align: left;\">Fair</td></tr><tr><td class = \"rowNumber\" style = \"font-weight: bold; text-align: right;\">7</td><td style = \"text-align: right;\">6</td><td style = \"text-align: left;\">0200000000000000</td><td style = \"text-align: left;\">7076FF0056060728</td><td style = \"text-align: left;\">2022-03-16 23:57:15</td><td style = \"text-align: right;\">-108</td><td style = \"text-align: right;\">8.2</td><td style = \"text-align: right;\">-27.2668</td><td style = \"text-align: right;\">38.6561</td><td style = \"text-align: right;\">0.0</td><td style = \"text-align: right;\">0.0</td><td style = \"text-align: right;\">0.0</td><td style = \"text-align: left;\">Fair</td></tr><tr><td class = \"rowNumber\" style = \"font-weight: bold; text-align: right;\">8</td><td style = \"text-align: right;\">7</td><td style = \"text-align: left;\">0200000000000000</td><td style = \"text-align: left;\">7076FF0056060728</td><td style = \"text-align: left;\">2022-03-16 23:59:34</td><td style = \"text-align: right;\">-105</td><td style = \"text-align: right;\">8.0</td><td style = \"text-align: right;\">-27.267</td><td style = \"text-align: right;\">38.6561</td><td style = \"text-align: right;\">0.0</td><td style = \"text-align: right;\">0.0</td><td style = \"text-align: right;\">0.0</td><td style = \"text-align: left;\">Fair</td></tr><tr><td class = \"rowNumber\" style = \"font-weight: bold; text-align: right;\">9</td><td style = \"text-align: right;\">8</td><td style = \"text-align: left;\">0200000000000000</td><td style = \"text-align: left;\">7076FF0056060728</td><td style = \"text-align: left;\">2022-03-17 00:01:53</td><td style = \"text-align: right;\">-107</td><td style = \"text-align: right;\">8.0</td><td style = \"text-align: right;\">-27.267</td><td style = \"text-align: right;\">38.656</td><td style = \"text-align: right;\">0.0</td><td style = \"text-align: right;\">0.0</td><td style = \"text-align: right;\">0.0</td><td style = \"text-align: left;\">Fair</td></tr><tr><td class = \"rowNumber\" style = \"font-weight: bold; text-align: right;\">10</td><td style = \"text-align: right;\">9</td><td style = \"text-align: left;\">0200000000000000</td><td style = \"text-align: left;\">7076FF0056060728</td><td style = \"text-align: left;\">2022-03-17 00:04:12</td><td style = \"text-align: right;\">-105</td><td style = \"text-align: right;\">9.2</td><td style = \"text-align: right;\">-27.2671</td><td style = \"text-align: right;\">38.6558</td><td style = \"text-align: right;\">0.0</td><td style = \"text-align: right;\">0.0</td><td style = \"text-align: right;\">0.0</td><td style = \"text-align: left;\">Fair</td></tr><tr><td class = \"rowNumber\" style = \"font-weight: bold; text-align: right;\">11</td><td style = \"text-align: right;\">10</td><td style = \"text-align: left;\">0200000000000000</td><td style = \"text-align: left;\">7076FF0056060728</td><td style = \"text-align: left;\">2022-03-17 19:05:30</td><td style = \"text-align: right;\">-102</td><td style = \"text-align: right;\">9.0</td><td style = \"text-align: right;\">-27.2671</td><td style = \"text-align: right;\">38.6557</td><td style = \"text-align: right;\">0.0</td><td style = \"text-align: right;\">0.0</td><td style = \"text-align: right;\">0.0</td><td style = \"text-align: left;\">Fair</td></tr><tr><td class = \"rowNumber\" style = \"font-weight: bold; text-align: right;\">12</td><td style = \"text-align: right;\">11</td><td style = \"text-align: left;\">0200000000000000</td><td style = \"text-align: left;\">7076FF0056060728</td><td style = \"text-align: left;\">2022-03-17 23:00:17</td><td style = \"text-align: right;\">-101</td><td style = \"text-align: right;\">8.8</td><td style = \"text-align: right;\">-27.2671</td><td style = \"text-align: right;\">38.6552</td><td style = \"text-align: right;\">0.0</td><td style = \"text-align: right;\">0.0</td><td style = \"text-align: right;\">0.0</td><td style = \"text-align: left;\">Fair</td></tr><tr><td class = \"rowNumber\" style = \"font-weight: bold; text-align: right;\">13</td><td style = \"text-align: right;\">12</td><td style = \"text-align: left;\">0200000000000000</td><td style = \"text-align: left;\">7076FF0056060728</td><td style = \"text-align: left;\">2022-03-17 23:37:14</td><td style = \"text-align: right;\">-105</td><td style = \"text-align: right;\">9.5</td><td style = \"text-align: right;\">-27.2671</td><td style = \"text-align: right;\">38.6554</td><td style = \"text-align: right;\">0.0</td><td style = \"text-align: right;\">0.0</td><td style = \"text-align: right;\">0.0</td><td style = \"text-align: left;\">Fair</td></tr><tr><td style = \"text-align: right;\">&vellip;</td><td style = \"text-align: right;\">&vellip;</td><td style = \"text-align: right;\">&vellip;</td><td style = \"text-align: right;\">&vellip;</td><td style = \"text-align: right;\">&vellip;</td><td style = \"text-align: right;\">&vellip;</td><td style = \"text-align: right;\">&vellip;</td><td style = \"text-align: right;\">&vellip;</td><td style = \"text-align: right;\">&vellip;</td><td style = \"text-align: right;\">&vellip;</td><td style = \"text-align: right;\">&vellip;</td><td style = \"text-align: right;\">&vellip;</td><td style = \"text-align: right;\">&vellip;</td></tr><tr><td class = \"rowNumber\" style = \"font-weight: bold; text-align: right;\">76310</td><td style = \"text-align: right;\">76309</td><td style = \"text-align: left;\">70B3D5705000B993</td><td style = \"text-align: left;\">7276FF000B03183D</td><td style = \"text-align: left;\">2023-05-11 08:39:18</td><td style = \"text-align: right;\">-127</td><td style = \"text-align: right;\">-18.2</td><td style = \"text-align: right;\">-27.2133</td><td style = \"text-align: right;\">38.6612</td><td style = \"text-align: right;\">4.3</td><td style = \"text-align: right;\">0.0</td><td style = \"text-align: right;\">0.0</td><td style = \"text-align: left;\">Very Poor</td></tr><tr><td class = \"rowNumber\" style = \"font-weight: bold; text-align: right;\">76311</td><td style = \"text-align: right;\">76310</td><td style = \"text-align: left;\">70B3D5705000B993</td><td style = \"text-align: left;\">7276FF000B03183D</td><td style = \"text-align: left;\">2023-05-11 08:47:06</td><td style = \"text-align: right;\">-93</td><td style = \"text-align: right;\">5.8</td><td style = \"text-align: right;\">-27.1831</td><td style = \"text-align: right;\">38.6925</td><td style = \"text-align: right;\">4.3</td><td style = \"text-align: right;\">0.0</td><td style = \"text-align: right;\">0.0</td><td style = \"text-align: left;\">Good</td></tr><tr><td class = \"rowNumber\" style = \"font-weight: bold; text-align: right;\">76312</td><td style = \"text-align: right;\">76311</td><td style = \"text-align: left;\">70B3D5705000B993</td><td style = \"text-align: left;\">7276FF000B03183D</td><td style = \"text-align: left;\">2023-05-11 18:31:16</td><td style = \"text-align: right;\">-125</td><td style = \"text-align: right;\">-8.8</td><td style = \"text-align: right;\">-27.206</td><td style = \"text-align: right;\">38.6814</td><td style = \"text-align: right;\">4.3</td><td style = \"text-align: right;\">0.0</td><td style = \"text-align: right;\">0.0</td><td style = \"text-align: left;\">Very Poor</td></tr><tr><td class = \"rowNumber\" style = \"font-weight: bold; text-align: right;\">76313</td><td style = \"text-align: right;\">76312</td><td style = \"text-align: left;\">70B3D5705000B993</td><td style = \"text-align: left;\">7276FF000B03183D</td><td style = \"text-align: left;\">2023-05-12 08:51:56</td><td style = \"text-align: right;\">-90</td><td style = \"text-align: right;\">11.5</td><td style = \"text-align: right;\">-27.1878</td><td style = \"text-align: right;\">38.6891</td><td style = \"text-align: right;\">4.3</td><td style = \"text-align: right;\">0.0</td><td style = \"text-align: right;\">0.0</td><td style = \"text-align: left;\">Good</td></tr><tr><td class = \"rowNumber\" style = \"font-weight: bold; text-align: right;\">76314</td><td style = \"text-align: right;\">76313</td><td style = \"text-align: left;\">70B3D5705000B993</td><td style = \"text-align: left;\">7276FF000B03183D</td><td style = \"text-align: left;\">2023-05-12 12:21:47</td><td style = \"text-align: right;\">-127</td><td style = \"text-align: right;\">-15.8</td><td style = \"text-align: right;\">-27.2137</td><td style = \"text-align: right;\">38.6763</td><td style = \"text-align: right;\">4.3</td><td style = \"text-align: right;\">0.0</td><td style = \"text-align: right;\">0.0</td><td style = \"text-align: left;\">Very Poor</td></tr><tr><td class = \"rowNumber\" style = \"font-weight: bold; text-align: right;\">76315</td><td style = \"text-align: right;\">76314</td><td style = \"text-align: left;\">70B3D5705000B993</td><td style = \"text-align: left;\">7276FF000B03183D</td><td style = \"text-align: left;\">2023-05-15 09:50:48</td><td style = \"text-align: right;\">-126</td><td style = \"text-align: right;\">-18.2</td><td style = \"text-align: right;\">-27.2122</td><td style = \"text-align: right;\">38.6619</td><td style = \"text-align: right;\">4.3</td><td style = \"text-align: right;\">0.0</td><td style = \"text-align: right;\">0.0</td><td style = \"text-align: left;\">Very Poor</td></tr><tr><td class = \"rowNumber\" style = \"font-weight: bold; text-align: right;\">76316</td><td style = \"text-align: right;\">76315</td><td style = \"text-align: left;\">70B3D5705000B993</td><td style = \"text-align: left;\">7276FF000B03183D</td><td style = \"text-align: left;\">2023-05-18 12:19:37</td><td style = \"text-align: right;\">-126</td><td style = \"text-align: right;\">-11.5</td><td style = \"text-align: right;\">-27.2075</td><td style = \"text-align: right;\">38.678</td><td style = \"text-align: right;\">4.33</td><td style = \"text-align: right;\">0.0</td><td style = \"text-align: right;\">0.0</td><td style = \"text-align: left;\">Very Poor</td></tr><tr><td class = \"rowNumber\" style = \"font-weight: bold; text-align: right;\">76317</td><td style = \"text-align: right;\">76316</td><td style = \"text-align: left;\">70B3D5705000B993</td><td style = \"text-align: left;\">7276FF000B03183D</td><td style = \"text-align: left;\">2023-05-18 12:42:28</td><td style = \"text-align: right;\">-123</td><td style = \"text-align: right;\">-12.0</td><td style = \"text-align: right;\">-27.2155</td><td style = \"text-align: right;\">38.668</td><td style = \"text-align: right;\">4.33</td><td style = \"text-align: right;\">0.0</td><td style = \"text-align: right;\">0.0</td><td style = \"text-align: left;\">Very Poor</td></tr><tr><td class = \"rowNumber\" style = \"font-weight: bold; text-align: right;\">76318</td><td style = \"text-align: right;\">76317</td><td style = \"text-align: left;\">70B3D5705000B993</td><td style = \"text-align: left;\">7276FF000B03183D</td><td style = \"text-align: left;\">2023-05-18 19:50:44</td><td style = \"text-align: right;\">-126</td><td style = \"text-align: right;\">-8.8</td><td style = \"text-align: right;\">-27.2113</td><td style = \"text-align: right;\">38.6753</td><td style = \"text-align: right;\">4.33</td><td style = \"text-align: right;\">0.0</td><td style = \"text-align: right;\">0.0</td><td style = \"text-align: left;\">Very Poor</td></tr><tr><td class = \"rowNumber\" style = \"font-weight: bold; text-align: right;\">76319</td><td style = \"text-align: right;\">76318</td><td style = \"text-align: left;\">70B3D5705000B993</td><td style = \"text-align: left;\">7276FF000B03183D</td><td style = \"text-align: left;\">2023-05-20 19:56:53</td><td style = \"text-align: right;\">-124</td><td style = \"text-align: right;\">-17.0</td><td style = \"text-align: right;\">-27.2165</td><td style = \"text-align: right;\">38.6678</td><td style = \"text-align: right;\">4.28</td><td style = \"text-align: right;\">0.0</td><td style = \"text-align: right;\">0.0</td><td style = \"text-align: left;\">Very Poor</td></tr><tr><td class = \"rowNumber\" style = \"font-weight: bold; text-align: right;\">76320</td><td style = \"text-align: right;\">76319</td><td style = \"text-align: left;\">70B3D5705000B993</td><td style = \"text-align: left;\">7276FF000B03183D</td><td style = \"text-align: left;\">2023-06-02 08:36:03</td><td style = \"text-align: right;\">-125</td><td style = \"text-align: right;\">-12.0</td><td style = \"text-align: right;\">-27.2134</td><td style = \"text-align: right;\">38.6613</td><td style = \"text-align: right;\">4.2</td><td style = \"text-align: right;\">0.0</td><td style = \"text-align: right;\">0.0</td><td style = \"text-align: left;\">Very Poor</td></tr><tr><td class = \"rowNumber\" style = \"font-weight: bold; text-align: right;\">76321</td><td style = \"text-align: right;\">76320</td><td style = \"text-align: left;\">70B3D5705000B993</td><td style = \"text-align: left;\">7276FF000B03183D</td><td style = \"text-align: left;\">2023-06-22 11:46:52</td><td style = \"text-align: right;\">-92</td><td style = \"text-align: right;\">10.0</td><td style = \"text-align: right;\">-27.1781</td><td style = \"text-align: right;\">38.696</td><td style = \"text-align: right;\">4.05</td><td style = \"text-align: right;\">0.0</td><td style = \"text-align: right;\">0.0</td><td style = \"text-align: left;\">Good Signal Quality</td></tr></tbody></table></div>"
      ],
      "text/latex": [
       "\\begin{tabular}{r|cccccc}\n",
       "\t& Column1 & dev\\_eui & gw\\_eui & timestamp\\_utc\\_iso\\_string & rssi\\_dbm & \\\\\n",
       "\t\\hline\n",
       "\t& Int64 & String31 & String31 & String31 & Int64 & \\\\\n",
       "\t\\hline\n",
       "\t1 & 0 & 0200000000000000 & 7076FF0056060728 & 2022-03-16 03:10:48 & -112 & $\\dots$ \\\\\n",
       "\t2 & 1 & 0200000000000000 & 7076FF0056060728 & 2022-03-16 03:22:19 & -120 & $\\dots$ \\\\\n",
       "\t3 & 2 & 0200000000000000 & 7076FF0056060728 & 2022-03-16 05:41:10 & -100 & $\\dots$ \\\\\n",
       "\t4 & 3 & 0200000000000000 & 7076FF0056060728 & 2022-03-16 05:43:30 & -105 & $\\dots$ \\\\\n",
       "\t5 & 4 & 0200000000000000 & 7076FF0056060728 & 2022-03-16 12:18:26 & -105 & $\\dots$ \\\\\n",
       "\t6 & 5 & 0200000000000000 & 7076FF0056060728 & 2022-03-16 15:38:22 & -102 & $\\dots$ \\\\\n",
       "\t7 & 6 & 0200000000000000 & 7076FF0056060728 & 2022-03-16 23:57:15 & -108 & $\\dots$ \\\\\n",
       "\t8 & 7 & 0200000000000000 & 7076FF0056060728 & 2022-03-16 23:59:34 & -105 & $\\dots$ \\\\\n",
       "\t9 & 8 & 0200000000000000 & 7076FF0056060728 & 2022-03-17 00:01:53 & -107 & $\\dots$ \\\\\n",
       "\t10 & 9 & 0200000000000000 & 7076FF0056060728 & 2022-03-17 00:04:12 & -105 & $\\dots$ \\\\\n",
       "\t11 & 10 & 0200000000000000 & 7076FF0056060728 & 2022-03-17 19:05:30 & -102 & $\\dots$ \\\\\n",
       "\t12 & 11 & 0200000000000000 & 7076FF0056060728 & 2022-03-17 23:00:17 & -101 & $\\dots$ \\\\\n",
       "\t13 & 12 & 0200000000000000 & 7076FF0056060728 & 2022-03-17 23:37:14 & -105 & $\\dots$ \\\\\n",
       "\t14 & 13 & 0200000000000000 & 7076FF0056060728 & 2022-03-17 23:44:09 & -101 & $\\dots$ \\\\\n",
       "\t15 & 14 & 0200000000000000 & 7076FF0056060728 & 2022-03-18 00:46:35 & -103 & $\\dots$ \\\\\n",
       "\t16 & 15 & 0200000000000000 & 7076FF0056060728 & 2022-03-18 00:55:48 & -103 & $\\dots$ \\\\\n",
       "\t17 & 16 & 0200000000000000 & 7076FF0056060728 & 2022-03-18 01:05:01 & -106 & $\\dots$ \\\\\n",
       "\t18 & 17 & 0200000000000000 & 7076FF0056060728 & 2022-03-18 01:09:38 & -102 & $\\dots$ \\\\\n",
       "\t19 & 18 & 0200000000000000 & 7076FF0056060728 & 2022-03-18 01:12:00 & -100 & $\\dots$ \\\\\n",
       "\t20 & 19 & 0200000000000000 & 7076FF0056060728 & 2022-03-18 01:23:30 & -108 & $\\dots$ \\\\\n",
       "\t21 & 20 & 0200000000000000 & 7076FF0056060728 & 2022-03-18 01:25:49 & -104 & $\\dots$ \\\\\n",
       "\t22 & 21 & 0200000000000000 & 7076FF0056060728 & 2022-03-18 01:32:43 & -101 & $\\dots$ \\\\\n",
       "\t23 & 22 & 0200000000000000 & 7076FF0056060728 & 2022-03-18 01:35:01 & -102 & $\\dots$ \\\\\n",
       "\t24 & 23 & 0200000000000000 & 7076FF0056060728 & 2022-03-18 01:46:30 & -102 & $\\dots$ \\\\\n",
       "\t$\\dots$ & $\\dots$ & $\\dots$ & $\\dots$ & $\\dots$ & $\\dots$ &  \\\\\n",
       "\\end{tabular}\n"
      ],
      "text/plain": [
       "\u001b[1m76321×12 DataFrame\u001b[0m\n",
       "\u001b[1m   Row \u001b[0m│\u001b[1m Column1 \u001b[0m\u001b[1m dev_eui          \u001b[0m\u001b[1m gw_eui           \u001b[0m\u001b[1m timestamp_utc_iso_string\u001b[0m ⋯\n",
       "       │\u001b[90m Int64   \u001b[0m\u001b[90m String31         \u001b[0m\u001b[90m String31         \u001b[0m\u001b[90m String31                \u001b[0m ⋯\n",
       "───────┼────────────────────────────────────────────────────────────────────────\n",
       "     1 │       0  0200000000000000  7076FF0056060728  2022-03-16 03:10:48      ⋯\n",
       "     2 │       1  0200000000000000  7076FF0056060728  2022-03-16 03:22:19\n",
       "     3 │       2  0200000000000000  7076FF0056060728  2022-03-16 05:41:10\n",
       "     4 │       3  0200000000000000  7076FF0056060728  2022-03-16 05:43:30\n",
       "     5 │       4  0200000000000000  7076FF0056060728  2022-03-16 12:18:26      ⋯\n",
       "     6 │       5  0200000000000000  7076FF0056060728  2022-03-16 15:38:22\n",
       "     7 │       6  0200000000000000  7076FF0056060728  2022-03-16 23:57:15\n",
       "     8 │       7  0200000000000000  7076FF0056060728  2022-03-16 23:59:34\n",
       "   ⋮   │    ⋮            ⋮                 ⋮                     ⋮             ⋱\n",
       " 76315 │   76314  70B3D5705000B993  7276FF000B03183D  2023-05-15 09:50:48      ⋯\n",
       " 76316 │   76315  70B3D5705000B993  7276FF000B03183D  2023-05-18 12:19:37\n",
       " 76317 │   76316  70B3D5705000B993  7276FF000B03183D  2023-05-18 12:42:28\n",
       " 76318 │   76317  70B3D5705000B993  7276FF000B03183D  2023-05-18 19:50:44\n",
       " 76319 │   76318  70B3D5705000B993  7276FF000B03183D  2023-05-20 19:56:53      ⋯\n",
       " 76320 │   76319  70B3D5705000B993  7276FF000B03183D  2023-06-02 08:36:03\n",
       " 76321 │   76320  70B3D5705000B993  7276FF000B03183D  2023-06-22 11:46:52\n",
       "\u001b[36m                                                8 columns and 76306 rows omitted\u001b[0m"
      ]
     },
     "metadata": {},
     "output_type": "display_data"
    }
   ],
   "source": [
    "df = CSV.read(\"data/vessel_locations.csv\", DataFrame)"
   ]
  },
  {
   "cell_type": "code",
   "execution_count": 123,
   "metadata": {},
   "outputs": [
    {
     "data": {
      "text/plain": [
       "76321-element PooledArrays.PooledVector{String31, UInt32, Vector{UInt32}}:\n",
       " \"7076FF0056060728\"\n",
       " \"7076FF0056060728\"\n",
       " \"7076FF0056060728\"\n",
       " \"7076FF0056060728\"\n",
       " \"7076FF0056060728\"\n",
       " \"7076FF0056060728\"\n",
       " \"7076FF0056060728\"\n",
       " \"7076FF0056060728\"\n",
       " \"7076FF0056060728\"\n",
       " \"7076FF0056060728\"\n",
       " ⋮\n",
       " \"7276FF000B03183D\"\n",
       " \"7276FF000B03183D\"\n",
       " \"7276FF000B03183D\"\n",
       " \"7276FF000B03183D\"\n",
       " \"7276FF000B03183D\"\n",
       " \"7276FF000B03183D\"\n",
       " \"7276FF000B03183D\"\n",
       " \"7276FF000B03183D\"\n",
       " \"7276FF000B03183D\""
      ]
     },
     "metadata": {},
     "output_type": "display_data"
    }
   ],
   "source": [
    "df.gw_eui"
   ]
  },
  {
   "cell_type": "code",
   "execution_count": 124,
   "metadata": {},
   "outputs": [
    {
     "data": {
      "text/plain": [
       "76321-element PooledArrays.PooledVector{String31, UInt32, Vector{UInt32}}:\n",
       " \"7076FF0056060728\"\n",
       " \"7076FF0056060728\"\n",
       " \"7076FF0056060728\"\n",
       " \"7076FF0056060728\"\n",
       " \"7076FF0056060728\"\n",
       " \"7076FF0056060728\"\n",
       " \"7076FF0056060728\"\n",
       " \"7076FF0056060728\"\n",
       " \"7076FF0056060728\"\n",
       " \"7076FF0056060728\"\n",
       " ⋮\n",
       " \"7276FF000B03183D\"\n",
       " \"7276FF000B03183D\"\n",
       " \"7276FF000B03183D\"\n",
       " \"7276FF000B03183D\"\n",
       " \"7276FF000B03183D\"\n",
       " \"7276FF000B03183D\"\n",
       " \"7276FF000B03183D\"\n",
       " \"7276FF000B03183D\"\n",
       " \"7276FF000B03183D\""
      ]
     },
     "metadata": {},
     "output_type": "display_data"
    }
   ],
   "source": [
    "df[!, :gw_eui]"
   ]
  },
  {
   "cell_type": "code",
   "execution_count": 125,
   "metadata": {},
   "outputs": [
    {
     "data": {
      "text/plain": [
       "9-element Vector{String31}:\n",
       " \"7076FF0056060728\"\n",
       " \"7076FF0056060729\"\n",
       " \"7076FF00560705D1\"\n",
       " \"7076FF00560705D7\"\n",
       " \"7076FF00560720B7\"\n",
       " \"7276FF000B031748\"\n",
       " \"7276FF000B031818\"\n",
       " \"7276FF000B03183A\"\n",
       " \"7276FF000B03183D\""
      ]
     },
     "metadata": {},
     "output_type": "display_data"
    }
   ],
   "source": [
    "unique(df.gw_eui)"
   ]
  },
  {
   "cell_type": "code",
   "execution_count": 126,
   "metadata": {},
   "outputs": [
    {
     "data": {
      "text/plain": [
       "\"7076FF0056060728\""
      ]
     },
     "metadata": {},
     "output_type": "display_data"
    }
   ],
   "source": [
    "df[1, :gw_eui]"
   ]
  },
  {
   "cell_type": "code",
   "execution_count": 127,
   "metadata": {},
   "outputs": [
    {
     "data": {
      "text/plain": [
       "2-element PooledArrays.PooledVector{String31, UInt32, Vector{UInt32}}:\n",
       " \"7076FF0056060728\"\n",
       " \"7076FF0056060728\""
      ]
     },
     "metadata": {},
     "output_type": "display_data"
    }
   ],
   "source": [
    "df[1:2, :gw_eui]"
   ]
  },
  {
   "cell_type": "markdown",
   "metadata": {},
   "source": [
    "**Filtering**"
   ]
  },
  {
   "cell_type": "code",
   "execution_count": 128,
   "metadata": {},
   "outputs": [
    {
     "data": {
      "text/plain": [
       "2-element Vector{Int64}:\n",
       " 4\n",
       " 5"
      ]
     },
     "metadata": {},
     "output_type": "display_data"
    }
   ],
   "source": [
    "# For a vector\n",
    "filter(x-> x>3, [1,2,3,4,5])"
   ]
  },
  {
   "cell_type": "code",
   "execution_count": 129,
   "metadata": {},
   "outputs": [
    {
     "data": {
      "text/plain": [
       "signal_excellent (generic function with 1 method)"
      ]
     },
     "metadata": {},
     "output_type": "display_data"
    }
   ],
   "source": [
    "# For a dataframe\n",
    "signal_excellent(signal_quality) = signal_quality == \"Excellent\""
   ]
  },
  {
   "cell_type": "code",
   "execution_count": 130,
   "metadata": {},
   "outputs": [
    {
     "data": {
      "text/html": [
       "<div><div style = \"float: left;\"><span>383×12 DataFrame</span></div><div style = \"float: right;\"><span style = \"font-style: italic;\">358 rows omitted</span></div><div style = \"clear: both;\"></div></div><div class = \"data-frame\" style = \"overflow-x: scroll;\"><table class = \"data-frame\" style = \"margin-bottom: 6px;\"><thead><tr class = \"header\"><th class = \"rowNumber\" style = \"font-weight: bold; text-align: right;\">Row</th><th style = \"text-align: left;\">Column1</th><th style = \"text-align: left;\">dev_eui</th><th style = \"text-align: left;\">gw_eui</th><th style = \"text-align: left;\">timestamp_utc_iso_string</th><th style = \"text-align: left;\">rssi_dbm</th><th style = \"text-align: left;\">snr_db</th><th style = \"text-align: left;\">dev_lon_deg_wgs84</th><th style = \"text-align: left;\">dev_lat_deg_wgs84</th><th style = \"text-align: left;\">battery_v</th><th style = \"text-align: left;\">gw_lon_deg_wgs84</th><th style = \"text-align: left;\">gw_lat_deg_wgs84</th><th style = \"text-align: left;\">signal_quality</th></tr><tr class = \"subheader headerLastRow\"><th class = \"rowNumber\" style = \"font-weight: bold; text-align: right;\"></th><th title = \"Int64\" style = \"text-align: left;\">Int64</th><th title = \"String31\" style = \"text-align: left;\">String31</th><th title = \"String31\" style = \"text-align: left;\">String31</th><th title = \"String31\" style = \"text-align: left;\">String31</th><th title = \"Int64\" style = \"text-align: left;\">Int64</th><th title = \"Float64\" style = \"text-align: left;\">Float64</th><th title = \"Float64\" style = \"text-align: left;\">Float64</th><th title = \"Float64\" style = \"text-align: left;\">Float64</th><th title = \"Float64\" style = \"text-align: left;\">Float64</th><th title = \"Float64\" style = \"text-align: left;\">Float64</th><th title = \"Float64\" style = \"text-align: left;\">Float64</th><th title = \"String31\" style = \"text-align: left;\">String31</th></tr></thead><tbody><tr><td class = \"rowNumber\" style = \"font-weight: bold; text-align: right;\">1</td><td style = \"text-align: right;\">21193</td><td style = \"text-align: left;\">0200000000000000</td><td style = \"text-align: left;\">7076FF0056060729</td><td style = \"text-align: left;\">2022-05-07 19:46:37</td><td style = \"text-align: right;\">-54</td><td style = \"text-align: right;\">13.5</td><td style = \"text-align: right;\">-28.3902</td><td style = \"text-align: right;\">38.4219</td><td style = \"text-align: right;\">0.0</td><td style = \"text-align: right;\">0.0</td><td style = \"text-align: right;\">0.0</td><td style = \"text-align: left;\">Excellent</td></tr><tr><td class = \"rowNumber\" style = \"font-weight: bold; text-align: right;\">2</td><td style = \"text-align: right;\">21194</td><td style = \"text-align: left;\">0200000000000000</td><td style = \"text-align: left;\">7076FF0056060729</td><td style = \"text-align: left;\">2022-05-07 19:49:14</td><td style = \"text-align: right;\">-56</td><td style = \"text-align: right;\">12.0</td><td style = \"text-align: right;\">-28.3901</td><td style = \"text-align: right;\">38.4219</td><td style = \"text-align: right;\">0.0</td><td style = \"text-align: right;\">0.0</td><td style = \"text-align: right;\">0.0</td><td style = \"text-align: left;\">Excellent</td></tr><tr><td class = \"rowNumber\" style = \"font-weight: bold; text-align: right;\">3</td><td style = \"text-align: right;\">21195</td><td style = \"text-align: left;\">0200000000000000</td><td style = \"text-align: left;\">7076FF0056060729</td><td style = \"text-align: left;\">2022-05-07 19:51:56</td><td style = \"text-align: right;\">-54</td><td style = \"text-align: right;\">12.2</td><td style = \"text-align: right;\">-28.3901</td><td style = \"text-align: right;\">38.4218</td><td style = \"text-align: right;\">0.0</td><td style = \"text-align: right;\">0.0</td><td style = \"text-align: right;\">0.0</td><td style = \"text-align: left;\">Excellent</td></tr><tr><td class = \"rowNumber\" style = \"font-weight: bold; text-align: right;\">4</td><td style = \"text-align: right;\">21197</td><td style = \"text-align: left;\">0200000000000000</td><td style = \"text-align: left;\">7076FF0056060729</td><td style = \"text-align: left;\">2022-05-09 08:52:11</td><td style = \"text-align: right;\">-58</td><td style = \"text-align: right;\">11.0</td><td style = \"text-align: right;\">-28.3902</td><td style = \"text-align: right;\">38.4218</td><td style = \"text-align: right;\">0.0</td><td style = \"text-align: right;\">0.0</td><td style = \"text-align: right;\">0.0</td><td style = \"text-align: left;\">Excellent</td></tr><tr><td class = \"rowNumber\" style = \"font-weight: bold; text-align: right;\">5</td><td style = \"text-align: right;\">21198</td><td style = \"text-align: left;\">0200000000000000</td><td style = \"text-align: left;\">7076FF0056060729</td><td style = \"text-align: left;\">2022-05-09 08:54:47</td><td style = \"text-align: right;\">-56</td><td style = \"text-align: right;\">11.8</td><td style = \"text-align: right;\">-28.3903</td><td style = \"text-align: right;\">38.4218</td><td style = \"text-align: right;\">0.0</td><td style = \"text-align: right;\">0.0</td><td style = \"text-align: right;\">0.0</td><td style = \"text-align: left;\">Excellent</td></tr><tr><td class = \"rowNumber\" style = \"font-weight: bold; text-align: right;\">6</td><td style = \"text-align: right;\">21200</td><td style = \"text-align: left;\">0200000000000000</td><td style = \"text-align: left;\">7076FF0056060729</td><td style = \"text-align: left;\">2022-05-09 09:00:32</td><td style = \"text-align: right;\">-56</td><td style = \"text-align: right;\">12.2</td><td style = \"text-align: right;\">-28.3903</td><td style = \"text-align: right;\">38.4218</td><td style = \"text-align: right;\">0.0</td><td style = \"text-align: right;\">0.0</td><td style = \"text-align: right;\">0.0</td><td style = \"text-align: left;\">Excellent</td></tr><tr><td class = \"rowNumber\" style = \"font-weight: bold; text-align: right;\">7</td><td style = \"text-align: right;\">21203</td><td style = \"text-align: left;\">0200000000000000</td><td style = \"text-align: left;\">7076FF0056060729</td><td style = \"text-align: left;\">2022-05-12 12:02:22</td><td style = \"text-align: right;\">-54</td><td style = \"text-align: right;\">11.8</td><td style = \"text-align: right;\">-28.3902</td><td style = \"text-align: right;\">38.4218</td><td style = \"text-align: right;\">0.0</td><td style = \"text-align: right;\">0.0</td><td style = \"text-align: right;\">0.0</td><td style = \"text-align: left;\">Excellent</td></tr><tr><td class = \"rowNumber\" style = \"font-weight: bold; text-align: right;\">8</td><td style = \"text-align: right;\">21204</td><td style = \"text-align: left;\">0200000000000000</td><td style = \"text-align: left;\">7076FF0056060729</td><td style = \"text-align: left;\">2022-05-16 13:30:27</td><td style = \"text-align: right;\">-71</td><td style = \"text-align: right;\">11.5</td><td style = \"text-align: right;\">-28.3902</td><td style = \"text-align: right;\">38.4218</td><td style = \"text-align: right;\">0.0</td><td style = \"text-align: right;\">0.0</td><td style = \"text-align: right;\">0.0</td><td style = \"text-align: left;\">Excellent</td></tr><tr><td class = \"rowNumber\" style = \"font-weight: bold; text-align: right;\">9</td><td style = \"text-align: right;\">21205</td><td style = \"text-align: left;\">0200000000000000</td><td style = \"text-align: left;\">7076FF0056060729</td><td style = \"text-align: left;\">2022-05-17 11:44:15</td><td style = \"text-align: right;\">-60</td><td style = \"text-align: right;\">14.0</td><td style = \"text-align: right;\">-28.3903</td><td style = \"text-align: right;\">38.4218</td><td style = \"text-align: right;\">0.0</td><td style = \"text-align: right;\">0.0</td><td style = \"text-align: right;\">0.0</td><td style = \"text-align: left;\">Excellent</td></tr><tr><td class = \"rowNumber\" style = \"font-weight: bold; text-align: right;\">10</td><td style = \"text-align: right;\">21206</td><td style = \"text-align: left;\">0200000000000000</td><td style = \"text-align: left;\">7076FF0056060729</td><td style = \"text-align: left;\">2022-05-17 11:47:35</td><td style = \"text-align: right;\">-59</td><td style = \"text-align: right;\">10.5</td><td style = \"text-align: right;\">-28.3903</td><td style = \"text-align: right;\">38.4219</td><td style = \"text-align: right;\">0.0</td><td style = \"text-align: right;\">0.0</td><td style = \"text-align: right;\">0.0</td><td style = \"text-align: left;\">Excellent</td></tr><tr><td class = \"rowNumber\" style = \"font-weight: bold; text-align: right;\">11</td><td style = \"text-align: right;\">21208</td><td style = \"text-align: left;\">0200000000000000</td><td style = \"text-align: left;\">7076FF0056060729</td><td style = \"text-align: left;\">2022-05-18 12:52:41</td><td style = \"text-align: right;\">-58</td><td style = \"text-align: right;\">13.2</td><td style = \"text-align: right;\">-28.3903</td><td style = \"text-align: right;\">38.4218</td><td style = \"text-align: right;\">0.0</td><td style = \"text-align: right;\">0.0</td><td style = \"text-align: right;\">0.0</td><td style = \"text-align: left;\">Excellent</td></tr><tr><td class = \"rowNumber\" style = \"font-weight: bold; text-align: right;\">12</td><td style = \"text-align: right;\">21209</td><td style = \"text-align: left;\">0200000000000000</td><td style = \"text-align: left;\">7076FF0056060729</td><td style = \"text-align: left;\">2022-05-18 13:01:27</td><td style = \"text-align: right;\">-58</td><td style = \"text-align: right;\">15.5</td><td style = \"text-align: right;\">-28.3902</td><td style = \"text-align: right;\">38.4218</td><td style = \"text-align: right;\">0.0</td><td style = \"text-align: right;\">0.0</td><td style = \"text-align: right;\">0.0</td><td style = \"text-align: left;\">Excellent</td></tr><tr><td class = \"rowNumber\" style = \"font-weight: bold; text-align: right;\">13</td><td style = \"text-align: right;\">21211</td><td style = \"text-align: left;\">0200000000000000</td><td style = \"text-align: left;\">7076FF0056060729</td><td style = \"text-align: left;\">2022-05-18 13:07:36</td><td style = \"text-align: right;\">-57</td><td style = \"text-align: right;\">12.5</td><td style = \"text-align: right;\">-28.3904</td><td style = \"text-align: right;\">38.4218</td><td style = \"text-align: right;\">0.0</td><td style = \"text-align: right;\">0.0</td><td style = \"text-align: right;\">0.0</td><td style = \"text-align: left;\">Excellent</td></tr><tr><td style = \"text-align: right;\">&vellip;</td><td style = \"text-align: right;\">&vellip;</td><td style = \"text-align: right;\">&vellip;</td><td style = \"text-align: right;\">&vellip;</td><td style = \"text-align: right;\">&vellip;</td><td style = \"text-align: right;\">&vellip;</td><td style = \"text-align: right;\">&vellip;</td><td style = \"text-align: right;\">&vellip;</td><td style = \"text-align: right;\">&vellip;</td><td style = \"text-align: right;\">&vellip;</td><td style = \"text-align: right;\">&vellip;</td><td style = \"text-align: right;\">&vellip;</td><td style = \"text-align: right;\">&vellip;</td></tr><tr><td class = \"rowNumber\" style = \"font-weight: bold; text-align: right;\">372</td><td style = \"text-align: right;\">74738</td><td style = \"text-align: left;\">0200000000000000</td><td style = \"text-align: left;\">7276FF000B03183A</td><td style = \"text-align: left;\">2022-03-23 15:02:34</td><td style = \"text-align: right;\">-84</td><td style = \"text-align: right;\">10.5</td><td style = \"text-align: right;\">-27.2271</td><td style = \"text-align: right;\">38.6559</td><td style = \"text-align: right;\">0.0</td><td style = \"text-align: right;\">-27.2248</td><td style = \"text-align: right;\">38.6569</td><td style = \"text-align: left;\">Excellent</td></tr><tr><td class = \"rowNumber\" style = \"font-weight: bold; text-align: right;\">373</td><td style = \"text-align: right;\">75011</td><td style = \"text-align: left;\">0200000000000000</td><td style = \"text-align: left;\">7276FF000B03183A</td><td style = \"text-align: left;\">2022-05-06 17:53:34</td><td style = \"text-align: right;\">-74</td><td style = \"text-align: right;\">11.2</td><td style = \"text-align: right;\">-27.223</td><td style = \"text-align: right;\">38.6559</td><td style = \"text-align: right;\">0.0</td><td style = \"text-align: right;\">-27.2248</td><td style = \"text-align: right;\">38.6569</td><td style = \"text-align: left;\">Excellent</td></tr><tr><td class = \"rowNumber\" style = \"font-weight: bold; text-align: right;\">374</td><td style = \"text-align: right;\">75040</td><td style = \"text-align: left;\">0200000000000000</td><td style = \"text-align: left;\">7276FF000B03183A</td><td style = \"text-align: left;\">2022-05-21 15:57:46</td><td style = \"text-align: right;\">-86</td><td style = \"text-align: right;\">12.8</td><td style = \"text-align: right;\">-27.2672</td><td style = \"text-align: right;\">38.6532</td><td style = \"text-align: right;\">0.0</td><td style = \"text-align: right;\">-27.2248</td><td style = \"text-align: right;\">38.6569</td><td style = \"text-align: left;\">Excellent</td></tr><tr><td class = \"rowNumber\" style = \"font-weight: bold; text-align: right;\">375</td><td style = \"text-align: right;\">75272</td><td style = \"text-align: left;\">0200000000000000</td><td style = \"text-align: left;\">7276FF000B03183A</td><td style = \"text-align: left;\">2022-09-02 17:36:37</td><td style = \"text-align: right;\">-75</td><td style = \"text-align: right;\">11.2</td><td style = \"text-align: right;\">-27.2283</td><td style = \"text-align: right;\">38.6549</td><td style = \"text-align: right;\">0.0</td><td style = \"text-align: right;\">-27.2248</td><td style = \"text-align: right;\">38.6569</td><td style = \"text-align: left;\">Excellent</td></tr><tr><td class = \"rowNumber\" style = \"font-weight: bold; text-align: right;\">376</td><td style = \"text-align: right;\">75622</td><td style = \"text-align: left;\">70B3D5705000B993</td><td style = \"text-align: left;\">7276FF000B03183A</td><td style = \"text-align: left;\">2023-05-05 16:02:13</td><td style = \"text-align: right;\">-84</td><td style = \"text-align: right;\">11.5</td><td style = \"text-align: right;\">-27.2248</td><td style = \"text-align: right;\">38.6545</td><td style = \"text-align: right;\">4.33</td><td style = \"text-align: right;\">-27.2248</td><td style = \"text-align: right;\">38.6569</td><td style = \"text-align: left;\">Excellent</td></tr><tr><td class = \"rowNumber\" style = \"font-weight: bold; text-align: right;\">377</td><td style = \"text-align: right;\">75651</td><td style = \"text-align: left;\">70B3D5705000B993</td><td style = \"text-align: left;\">7276FF000B03183A</td><td style = \"text-align: left;\">2023-05-27 20:29:45</td><td style = \"text-align: right;\">-73</td><td style = \"text-align: right;\">11.0</td><td style = \"text-align: right;\">-27.2247</td><td style = \"text-align: right;\">38.657</td><td style = \"text-align: right;\">4.23</td><td style = \"text-align: right;\">-27.2248</td><td style = \"text-align: right;\">38.6569</td><td style = \"text-align: left;\">Excellent</td></tr><tr><td class = \"rowNumber\" style = \"font-weight: bold; text-align: right;\">378</td><td style = \"text-align: right;\">75653</td><td style = \"text-align: left;\">70B3D5705000B993</td><td style = \"text-align: left;\">7276FF000B03183A</td><td style = \"text-align: left;\">2023-05-30 16:57:15</td><td style = \"text-align: right;\">-83</td><td style = \"text-align: right;\">11.8</td><td style = \"text-align: right;\">-27.2247</td><td style = \"text-align: right;\">38.6543</td><td style = \"text-align: right;\">4.2</td><td style = \"text-align: right;\">-27.2248</td><td style = \"text-align: right;\">38.6569</td><td style = \"text-align: left;\">Excellent</td></tr><tr><td class = \"rowNumber\" style = \"font-weight: bold; text-align: right;\">379</td><td style = \"text-align: right;\">75680</td><td style = \"text-align: left;\">70B3D5705000B993</td><td style = \"text-align: left;\">7276FF000B03183A</td><td style = \"text-align: left;\">2023-06-13 17:20:43</td><td style = \"text-align: right;\">-84</td><td style = \"text-align: right;\">13.5</td><td style = \"text-align: right;\">-27.2257</td><td style = \"text-align: right;\">38.6551</td><td style = \"text-align: right;\">4.1</td><td style = \"text-align: right;\">-27.2248</td><td style = \"text-align: right;\">38.6569</td><td style = \"text-align: left;\">Excellent</td></tr><tr><td class = \"rowNumber\" style = \"font-weight: bold; text-align: right;\">380</td><td style = \"text-align: right;\">76131</td><td style = \"text-align: left;\">0200000000000000</td><td style = \"text-align: left;\">7276FF000B03183D</td><td style = \"text-align: left;\">2022-06-30 17:22:20</td><td style = \"text-align: right;\">-75</td><td style = \"text-align: right;\">10.2</td><td style = \"text-align: right;\">-27.1842</td><td style = \"text-align: right;\">38.6918</td><td style = \"text-align: right;\">0.0</td><td style = \"text-align: right;\">0.0</td><td style = \"text-align: right;\">0.0</td><td style = \"text-align: left;\">Excellent</td></tr><tr><td class = \"rowNumber\" style = \"font-weight: bold; text-align: right;\">381</td><td style = \"text-align: right;\">76132</td><td style = \"text-align: left;\">0200000000000000</td><td style = \"text-align: left;\">7276FF000B03183D</td><td style = \"text-align: left;\">2022-06-30 17:22:20</td><td style = \"text-align: right;\">-75</td><td style = \"text-align: right;\">10.2</td><td style = \"text-align: right;\">-27.1842</td><td style = \"text-align: right;\">38.6918</td><td style = \"text-align: right;\">0.0</td><td style = \"text-align: right;\">0.0</td><td style = \"text-align: right;\">0.0</td><td style = \"text-align: left;\">Excellent</td></tr><tr><td class = \"rowNumber\" style = \"font-weight: bold; text-align: right;\">382</td><td style = \"text-align: right;\">76133</td><td style = \"text-align: left;\">0200000000000000</td><td style = \"text-align: left;\">7276FF000B03183D</td><td style = \"text-align: left;\">2022-07-01 09:48:52</td><td style = \"text-align: right;\">-74</td><td style = \"text-align: right;\">10.2</td><td style = \"text-align: right;\">-27.184</td><td style = \"text-align: right;\">38.692</td><td style = \"text-align: right;\">0.0</td><td style = \"text-align: right;\">0.0</td><td style = \"text-align: right;\">0.0</td><td style = \"text-align: left;\">Excellent</td></tr><tr><td class = \"rowNumber\" style = \"font-weight: bold; text-align: right;\">383</td><td style = \"text-align: right;\">76134</td><td style = \"text-align: left;\">0200000000000000</td><td style = \"text-align: left;\">7276FF000B03183D</td><td style = \"text-align: left;\">2022-07-01 09:48:52</td><td style = \"text-align: right;\">-74</td><td style = \"text-align: right;\">10.2</td><td style = \"text-align: right;\">-27.184</td><td style = \"text-align: right;\">38.692</td><td style = \"text-align: right;\">0.0</td><td style = \"text-align: right;\">0.0</td><td style = \"text-align: right;\">0.0</td><td style = \"text-align: left;\">Excellent</td></tr></tbody></table></div>"
      ],
      "text/latex": [
       "\\begin{tabular}{r|cccccc}\n",
       "\t& Column1 & dev\\_eui & gw\\_eui & timestamp\\_utc\\_iso\\_string & rssi\\_dbm & \\\\\n",
       "\t\\hline\n",
       "\t& Int64 & String31 & String31 & String31 & Int64 & \\\\\n",
       "\t\\hline\n",
       "\t1 & 21193 & 0200000000000000 & 7076FF0056060729 & 2022-05-07 19:46:37 & -54 & $\\dots$ \\\\\n",
       "\t2 & 21194 & 0200000000000000 & 7076FF0056060729 & 2022-05-07 19:49:14 & -56 & $\\dots$ \\\\\n",
       "\t3 & 21195 & 0200000000000000 & 7076FF0056060729 & 2022-05-07 19:51:56 & -54 & $\\dots$ \\\\\n",
       "\t4 & 21197 & 0200000000000000 & 7076FF0056060729 & 2022-05-09 08:52:11 & -58 & $\\dots$ \\\\\n",
       "\t5 & 21198 & 0200000000000000 & 7076FF0056060729 & 2022-05-09 08:54:47 & -56 & $\\dots$ \\\\\n",
       "\t6 & 21200 & 0200000000000000 & 7076FF0056060729 & 2022-05-09 09:00:32 & -56 & $\\dots$ \\\\\n",
       "\t7 & 21203 & 0200000000000000 & 7076FF0056060729 & 2022-05-12 12:02:22 & -54 & $\\dots$ \\\\\n",
       "\t8 & 21204 & 0200000000000000 & 7076FF0056060729 & 2022-05-16 13:30:27 & -71 & $\\dots$ \\\\\n",
       "\t9 & 21205 & 0200000000000000 & 7076FF0056060729 & 2022-05-17 11:44:15 & -60 & $\\dots$ \\\\\n",
       "\t10 & 21206 & 0200000000000000 & 7076FF0056060729 & 2022-05-17 11:47:35 & -59 & $\\dots$ \\\\\n",
       "\t11 & 21208 & 0200000000000000 & 7076FF0056060729 & 2022-05-18 12:52:41 & -58 & $\\dots$ \\\\\n",
       "\t12 & 21209 & 0200000000000000 & 7076FF0056060729 & 2022-05-18 13:01:27 & -58 & $\\dots$ \\\\\n",
       "\t13 & 21211 & 0200000000000000 & 7076FF0056060729 & 2022-05-18 13:07:36 & -57 & $\\dots$ \\\\\n",
       "\t14 & 21212 & 0200000000000000 & 7076FF0056060729 & 2022-05-18 13:10:17 & -57 & $\\dots$ \\\\\n",
       "\t15 & 21213 & 0200000000000000 & 7076FF0056060729 & 2022-05-18 13:12:59 & -63 & $\\dots$ \\\\\n",
       "\t16 & 21215 & 0200000000000000 & 7076FF0056060729 & 2022-05-18 13:18:25 & -69 & $\\dots$ \\\\\n",
       "\t17 & 21216 & 0200000000000000 & 7076FF0056060729 & 2022-05-19 14:21:11 & -64 & $\\dots$ \\\\\n",
       "\t18 & 21218 & 0200000000000000 & 7076FF0056060729 & 2022-05-21 12:08:06 & -84 & $\\dots$ \\\\\n",
       "\t19 & 23296 & 0200000000000000 & 7076FF00560705D1 & 2022-02-24 12:03:21 & -88 & $\\dots$ \\\\\n",
       "\t20 & 23297 & 0200000000000000 & 7076FF00560705D1 & 2022-02-24 12:03:54 & -89 & $\\dots$ \\\\\n",
       "\t21 & 23301 & 0200000000000000 & 7076FF00560705D1 & 2022-02-24 12:31:34 & -84 & $\\dots$ \\\\\n",
       "\t22 & 23304 & 0200000000000000 & 7076FF00560705D1 & 2022-02-24 12:33:14 & -89 & $\\dots$ \\\\\n",
       "\t23 & 23313 & 0200000000000000 & 7076FF00560705D1 & 2022-02-24 13:25:22 & -89 & $\\dots$ \\\\\n",
       "\t24 & 23315 & 0200000000000000 & 7076FF00560705D1 & 2022-02-24 13:26:29 & -88 & $\\dots$ \\\\\n",
       "\t$\\dots$ & $\\dots$ & $\\dots$ & $\\dots$ & $\\dots$ & $\\dots$ &  \\\\\n",
       "\\end{tabular}\n"
      ],
      "text/plain": [
       "\u001b[1m383×12 DataFrame\u001b[0m\n",
       "\u001b[1m Row \u001b[0m│\u001b[1m Column1 \u001b[0m\u001b[1m dev_eui          \u001b[0m\u001b[1m gw_eui           \u001b[0m\u001b[1m timestamp_utc_iso_string \u001b[0m\u001b[1m \u001b[0m ⋯\n",
       "     │\u001b[90m Int64   \u001b[0m\u001b[90m String31         \u001b[0m\u001b[90m String31         \u001b[0m\u001b[90m String31                 \u001b[0m\u001b[90m \u001b[0m ⋯\n",
       "─────┼──────────────────────────────────────────────────────────────────────────\n",
       "   1 │   21193  0200000000000000  7076FF0056060729  2022-05-07 19:46:37        ⋯\n",
       "   2 │   21194  0200000000000000  7076FF0056060729  2022-05-07 19:49:14\n",
       "   3 │   21195  0200000000000000  7076FF0056060729  2022-05-07 19:51:56\n",
       "   4 │   21197  0200000000000000  7076FF0056060729  2022-05-09 08:52:11\n",
       "   5 │   21198  0200000000000000  7076FF0056060729  2022-05-09 08:54:47        ⋯\n",
       "   6 │   21200  0200000000000000  7076FF0056060729  2022-05-09 09:00:32\n",
       "   7 │   21203  0200000000000000  7076FF0056060729  2022-05-12 12:02:22\n",
       "   8 │   21204  0200000000000000  7076FF0056060729  2022-05-16 13:30:27\n",
       "  ⋮  │    ⋮            ⋮                 ⋮                     ⋮               ⋱\n",
       " 377 │   75651  70B3D5705000B993  7276FF000B03183A  2023-05-27 20:29:45        ⋯\n",
       " 378 │   75653  70B3D5705000B993  7276FF000B03183A  2023-05-30 16:57:15\n",
       " 379 │   75680  70B3D5705000B993  7276FF000B03183A  2023-06-13 17:20:43\n",
       " 380 │   76131  0200000000000000  7276FF000B03183D  2022-06-30 17:22:20\n",
       " 381 │   76132  0200000000000000  7276FF000B03183D  2022-06-30 17:22:20        ⋯\n",
       " 382 │   76133  0200000000000000  7276FF000B03183D  2022-07-01 09:48:52\n",
       " 383 │   76134  0200000000000000  7276FF000B03183D  2022-07-01 09:48:52\n",
       "\u001b[36m                                                  8 columns and 368 rows omitted\u001b[0m"
      ]
     },
     "metadata": {},
     "output_type": "display_data"
    }
   ],
   "source": [
    "filter(:signal_quality => signal_excellent, df)"
   ]
  },
  {
   "cell_type": "markdown",
   "metadata": {},
   "source": [
    "**Subset**"
   ]
  },
  {
   "cell_type": "code",
   "execution_count": 131,
   "metadata": {},
   "outputs": [
    {
     "data": {
      "text/html": [
       "<div><div style = \"float: left;\"><span>16273×12 DataFrame</span></div><div style = \"float: right;\"><span style = \"font-style: italic;\">16248 rows omitted</span></div><div style = \"clear: both;\"></div></div><div class = \"data-frame\" style = \"overflow-x: scroll;\"><table class = \"data-frame\" style = \"margin-bottom: 6px;\"><thead><tr class = \"header\"><th class = \"rowNumber\" style = \"font-weight: bold; text-align: right;\">Row</th><th style = \"text-align: left;\">Column1</th><th style = \"text-align: left;\">dev_eui</th><th style = \"text-align: left;\">gw_eui</th><th style = \"text-align: left;\">timestamp_utc_iso_string</th><th style = \"text-align: left;\">rssi_dbm</th><th style = \"text-align: left;\">snr_db</th><th style = \"text-align: left;\">dev_lon_deg_wgs84</th><th style = \"text-align: left;\">dev_lat_deg_wgs84</th><th style = \"text-align: left;\">battery_v</th><th style = \"text-align: left;\">gw_lon_deg_wgs84</th><th style = \"text-align: left;\">gw_lat_deg_wgs84</th><th style = \"text-align: left;\">signal_quality</th></tr><tr class = \"subheader headerLastRow\"><th class = \"rowNumber\" style = \"font-weight: bold; text-align: right;\"></th><th title = \"Int64\" style = \"text-align: left;\">Int64</th><th title = \"String31\" style = \"text-align: left;\">String31</th><th title = \"String31\" style = \"text-align: left;\">String31</th><th title = \"String31\" style = \"text-align: left;\">String31</th><th title = \"Int64\" style = \"text-align: left;\">Int64</th><th title = \"Float64\" style = \"text-align: left;\">Float64</th><th title = \"Float64\" style = \"text-align: left;\">Float64</th><th title = \"Float64\" style = \"text-align: left;\">Float64</th><th title = \"Float64\" style = \"text-align: left;\">Float64</th><th title = \"Float64\" style = \"text-align: left;\">Float64</th><th title = \"Float64\" style = \"text-align: left;\">Float64</th><th title = \"String31\" style = \"text-align: left;\">String31</th></tr></thead><tbody><tr><td class = \"rowNumber\" style = \"font-weight: bold; text-align: right;\">1</td><td style = \"text-align: right;\">2</td><td style = \"text-align: left;\">0200000000000000</td><td style = \"text-align: left;\">7076FF0056060728</td><td style = \"text-align: left;\">2022-03-16 05:41:10</td><td style = \"text-align: right;\">-100</td><td style = \"text-align: right;\">10.2</td><td style = \"text-align: right;\">-27.2671</td><td style = \"text-align: right;\">38.6556</td><td style = \"text-align: right;\">0.0</td><td style = \"text-align: right;\">0.0</td><td style = \"text-align: right;\">0.0</td><td style = \"text-align: left;\">Fair</td></tr><tr><td class = \"rowNumber\" style = \"font-weight: bold; text-align: right;\">2</td><td style = \"text-align: right;\">3</td><td style = \"text-align: left;\">0200000000000000</td><td style = \"text-align: left;\">7076FF0056060728</td><td style = \"text-align: left;\">2022-03-16 05:43:30</td><td style = \"text-align: right;\">-105</td><td style = \"text-align: right;\">9.2</td><td style = \"text-align: right;\">-27.2672</td><td style = \"text-align: right;\">38.6554</td><td style = \"text-align: right;\">0.0</td><td style = \"text-align: right;\">0.0</td><td style = \"text-align: right;\">0.0</td><td style = \"text-align: left;\">Fair</td></tr><tr><td class = \"rowNumber\" style = \"font-weight: bold; text-align: right;\">3</td><td style = \"text-align: right;\">4</td><td style = \"text-align: left;\">0200000000000000</td><td style = \"text-align: left;\">7076FF0056060728</td><td style = \"text-align: left;\">2022-03-16 12:18:26</td><td style = \"text-align: right;\">-105</td><td style = \"text-align: right;\">8.2</td><td style = \"text-align: right;\">-27.2666</td><td style = \"text-align: right;\">38.6562</td><td style = \"text-align: right;\">0.0</td><td style = \"text-align: right;\">0.0</td><td style = \"text-align: right;\">0.0</td><td style = \"text-align: left;\">Fair</td></tr><tr><td class = \"rowNumber\" style = \"font-weight: bold; text-align: right;\">4</td><td style = \"text-align: right;\">5</td><td style = \"text-align: left;\">0200000000000000</td><td style = \"text-align: left;\">7076FF0056060728</td><td style = \"text-align: left;\">2022-03-16 15:38:22</td><td style = \"text-align: right;\">-102</td><td style = \"text-align: right;\">9.8</td><td style = \"text-align: right;\">-27.2673</td><td style = \"text-align: right;\">38.6556</td><td style = \"text-align: right;\">0.0</td><td style = \"text-align: right;\">0.0</td><td style = \"text-align: right;\">0.0</td><td style = \"text-align: left;\">Fair</td></tr><tr><td class = \"rowNumber\" style = \"font-weight: bold; text-align: right;\">5</td><td style = \"text-align: right;\">6</td><td style = \"text-align: left;\">0200000000000000</td><td style = \"text-align: left;\">7076FF0056060728</td><td style = \"text-align: left;\">2022-03-16 23:57:15</td><td style = \"text-align: right;\">-108</td><td style = \"text-align: right;\">8.2</td><td style = \"text-align: right;\">-27.2668</td><td style = \"text-align: right;\">38.6561</td><td style = \"text-align: right;\">0.0</td><td style = \"text-align: right;\">0.0</td><td style = \"text-align: right;\">0.0</td><td style = \"text-align: left;\">Fair</td></tr><tr><td class = \"rowNumber\" style = \"font-weight: bold; text-align: right;\">6</td><td style = \"text-align: right;\">7</td><td style = \"text-align: left;\">0200000000000000</td><td style = \"text-align: left;\">7076FF0056060728</td><td style = \"text-align: left;\">2022-03-16 23:59:34</td><td style = \"text-align: right;\">-105</td><td style = \"text-align: right;\">8.0</td><td style = \"text-align: right;\">-27.267</td><td style = \"text-align: right;\">38.6561</td><td style = \"text-align: right;\">0.0</td><td style = \"text-align: right;\">0.0</td><td style = \"text-align: right;\">0.0</td><td style = \"text-align: left;\">Fair</td></tr><tr><td class = \"rowNumber\" style = \"font-weight: bold; text-align: right;\">7</td><td style = \"text-align: right;\">8</td><td style = \"text-align: left;\">0200000000000000</td><td style = \"text-align: left;\">7076FF0056060728</td><td style = \"text-align: left;\">2022-03-17 00:01:53</td><td style = \"text-align: right;\">-107</td><td style = \"text-align: right;\">8.0</td><td style = \"text-align: right;\">-27.267</td><td style = \"text-align: right;\">38.656</td><td style = \"text-align: right;\">0.0</td><td style = \"text-align: right;\">0.0</td><td style = \"text-align: right;\">0.0</td><td style = \"text-align: left;\">Fair</td></tr><tr><td class = \"rowNumber\" style = \"font-weight: bold; text-align: right;\">8</td><td style = \"text-align: right;\">9</td><td style = \"text-align: left;\">0200000000000000</td><td style = \"text-align: left;\">7076FF0056060728</td><td style = \"text-align: left;\">2022-03-17 00:04:12</td><td style = \"text-align: right;\">-105</td><td style = \"text-align: right;\">9.2</td><td style = \"text-align: right;\">-27.2671</td><td style = \"text-align: right;\">38.6558</td><td style = \"text-align: right;\">0.0</td><td style = \"text-align: right;\">0.0</td><td style = \"text-align: right;\">0.0</td><td style = \"text-align: left;\">Fair</td></tr><tr><td class = \"rowNumber\" style = \"font-weight: bold; text-align: right;\">9</td><td style = \"text-align: right;\">10</td><td style = \"text-align: left;\">0200000000000000</td><td style = \"text-align: left;\">7076FF0056060728</td><td style = \"text-align: left;\">2022-03-17 19:05:30</td><td style = \"text-align: right;\">-102</td><td style = \"text-align: right;\">9.0</td><td style = \"text-align: right;\">-27.2671</td><td style = \"text-align: right;\">38.6557</td><td style = \"text-align: right;\">0.0</td><td style = \"text-align: right;\">0.0</td><td style = \"text-align: right;\">0.0</td><td style = \"text-align: left;\">Fair</td></tr><tr><td class = \"rowNumber\" style = \"font-weight: bold; text-align: right;\">10</td><td style = \"text-align: right;\">11</td><td style = \"text-align: left;\">0200000000000000</td><td style = \"text-align: left;\">7076FF0056060728</td><td style = \"text-align: left;\">2022-03-17 23:00:17</td><td style = \"text-align: right;\">-101</td><td style = \"text-align: right;\">8.8</td><td style = \"text-align: right;\">-27.2671</td><td style = \"text-align: right;\">38.6552</td><td style = \"text-align: right;\">0.0</td><td style = \"text-align: right;\">0.0</td><td style = \"text-align: right;\">0.0</td><td style = \"text-align: left;\">Fair</td></tr><tr><td class = \"rowNumber\" style = \"font-weight: bold; text-align: right;\">11</td><td style = \"text-align: right;\">12</td><td style = \"text-align: left;\">0200000000000000</td><td style = \"text-align: left;\">7076FF0056060728</td><td style = \"text-align: left;\">2022-03-17 23:37:14</td><td style = \"text-align: right;\">-105</td><td style = \"text-align: right;\">9.5</td><td style = \"text-align: right;\">-27.2671</td><td style = \"text-align: right;\">38.6554</td><td style = \"text-align: right;\">0.0</td><td style = \"text-align: right;\">0.0</td><td style = \"text-align: right;\">0.0</td><td style = \"text-align: left;\">Fair</td></tr><tr><td class = \"rowNumber\" style = \"font-weight: bold; text-align: right;\">12</td><td style = \"text-align: right;\">13</td><td style = \"text-align: left;\">0200000000000000</td><td style = \"text-align: left;\">7076FF0056060728</td><td style = \"text-align: left;\">2022-03-17 23:44:09</td><td style = \"text-align: right;\">-101</td><td style = \"text-align: right;\">9.8</td><td style = \"text-align: right;\">-27.2671</td><td style = \"text-align: right;\">38.6555</td><td style = \"text-align: right;\">0.0</td><td style = \"text-align: right;\">0.0</td><td style = \"text-align: right;\">0.0</td><td style = \"text-align: left;\">Fair</td></tr><tr><td class = \"rowNumber\" style = \"font-weight: bold; text-align: right;\">13</td><td style = \"text-align: right;\">14</td><td style = \"text-align: left;\">0200000000000000</td><td style = \"text-align: left;\">7076FF0056060728</td><td style = \"text-align: left;\">2022-03-18 00:46:35</td><td style = \"text-align: right;\">-103</td><td style = \"text-align: right;\">8.0</td><td style = \"text-align: right;\">-27.2674</td><td style = \"text-align: right;\">38.6556</td><td style = \"text-align: right;\">0.0</td><td style = \"text-align: right;\">0.0</td><td style = \"text-align: right;\">0.0</td><td style = \"text-align: left;\">Fair</td></tr><tr><td style = \"text-align: right;\">&vellip;</td><td style = \"text-align: right;\">&vellip;</td><td style = \"text-align: right;\">&vellip;</td><td style = \"text-align: right;\">&vellip;</td><td style = \"text-align: right;\">&vellip;</td><td style = \"text-align: right;\">&vellip;</td><td style = \"text-align: right;\">&vellip;</td><td style = \"text-align: right;\">&vellip;</td><td style = \"text-align: right;\">&vellip;</td><td style = \"text-align: right;\">&vellip;</td><td style = \"text-align: right;\">&vellip;</td><td style = \"text-align: right;\">&vellip;</td><td style = \"text-align: right;\">&vellip;</td></tr><tr><td class = \"rowNumber\" style = \"font-weight: bold; text-align: right;\">16262</td><td style = \"text-align: right;\">75849</td><td style = \"text-align: left;\">0200000000000000</td><td style = \"text-align: left;\">7276FF000B03183D</td><td style = \"text-align: left;\">2022-03-28 10:08:58</td><td style = \"text-align: right;\">-107</td><td style = \"text-align: right;\">9.5</td><td style = \"text-align: right;\">-27.1519</td><td style = \"text-align: right;\">38.6831</td><td style = \"text-align: right;\">0.0</td><td style = \"text-align: right;\">0.0</td><td style = \"text-align: right;\">0.0</td><td style = \"text-align: left;\">Fair</td></tr><tr><td class = \"rowNumber\" style = \"font-weight: bold; text-align: right;\">16263</td><td style = \"text-align: right;\">75850</td><td style = \"text-align: left;\">0200000000000000</td><td style = \"text-align: left;\">7276FF000B03183D</td><td style = \"text-align: left;\">2022-03-28 10:53:13</td><td style = \"text-align: right;\">-103</td><td style = \"text-align: right;\">8.2</td><td style = \"text-align: right;\">-27.1542</td><td style = \"text-align: right;\">38.6884</td><td style = \"text-align: right;\">0.0</td><td style = \"text-align: right;\">0.0</td><td style = \"text-align: right;\">0.0</td><td style = \"text-align: left;\">Fair</td></tr><tr><td class = \"rowNumber\" style = \"font-weight: bold; text-align: right;\">16264</td><td style = \"text-align: right;\">75853</td><td style = \"text-align: left;\">0200000000000000</td><td style = \"text-align: left;\">7276FF000B03183D</td><td style = \"text-align: left;\">2022-03-28 15:23:29</td><td style = \"text-align: right;\">-105</td><td style = \"text-align: right;\">8.5</td><td style = \"text-align: right;\">-27.1562</td><td style = \"text-align: right;\">38.684</td><td style = \"text-align: right;\">0.0</td><td style = \"text-align: right;\">0.0</td><td style = \"text-align: right;\">0.0</td><td style = \"text-align: left;\">Fair</td></tr><tr><td class = \"rowNumber\" style = \"font-weight: bold; text-align: right;\">16265</td><td style = \"text-align: right;\">75941</td><td style = \"text-align: left;\">0200000000000000</td><td style = \"text-align: left;\">7276FF000B03183D</td><td style = \"text-align: left;\">2022-05-07 15:10:42</td><td style = \"text-align: right;\">-100</td><td style = \"text-align: right;\">10.8</td><td style = \"text-align: right;\">-27.1878</td><td style = \"text-align: right;\">38.6893</td><td style = \"text-align: right;\">0.0</td><td style = \"text-align: right;\">0.0</td><td style = \"text-align: right;\">0.0</td><td style = \"text-align: left;\">Fair</td></tr><tr><td class = \"rowNumber\" style = \"font-weight: bold; text-align: right;\">16266</td><td style = \"text-align: right;\">76008</td><td style = \"text-align: left;\">0200000000000000</td><td style = \"text-align: left;\">7276FF000B03183D</td><td style = \"text-align: left;\">2022-06-22 11:09:01</td><td style = \"text-align: right;\">-108</td><td style = \"text-align: right;\">0.8</td><td style = \"text-align: right;\">-27.1768</td><td style = \"text-align: right;\">38.6851</td><td style = \"text-align: right;\">0.0</td><td style = \"text-align: right;\">0.0</td><td style = \"text-align: right;\">0.0</td><td style = \"text-align: left;\">Fair</td></tr><tr><td class = \"rowNumber\" style = \"font-weight: bold; text-align: right;\">16267</td><td style = \"text-align: right;\">76009</td><td style = \"text-align: left;\">0200000000000000</td><td style = \"text-align: left;\">7276FF000B03183D</td><td style = \"text-align: left;\">2022-06-22 11:09:01</td><td style = \"text-align: right;\">-108</td><td style = \"text-align: right;\">0.8</td><td style = \"text-align: right;\">-27.1768</td><td style = \"text-align: right;\">38.6851</td><td style = \"text-align: right;\">0.0</td><td style = \"text-align: right;\">0.0</td><td style = \"text-align: right;\">0.0</td><td style = \"text-align: left;\">Fair</td></tr><tr><td class = \"rowNumber\" style = \"font-weight: bold; text-align: right;\">16268</td><td style = \"text-align: right;\">76109</td><td style = \"text-align: left;\">0200000000000000</td><td style = \"text-align: left;\">7276FF000B03183D</td><td style = \"text-align: left;\">2022-06-29 14:01:31</td><td style = \"text-align: right;\">-108</td><td style = \"text-align: right;\">3.5</td><td style = \"text-align: right;\">-27.1757</td><td style = \"text-align: right;\">38.6889</td><td style = \"text-align: right;\">0.0</td><td style = \"text-align: right;\">0.0</td><td style = \"text-align: right;\">0.0</td><td style = \"text-align: left;\">Fair</td></tr><tr><td class = \"rowNumber\" style = \"font-weight: bold; text-align: right;\">16269</td><td style = \"text-align: right;\">76110</td><td style = \"text-align: left;\">0200000000000000</td><td style = \"text-align: left;\">7276FF000B03183D</td><td style = \"text-align: left;\">2022-06-29 14:01:31</td><td style = \"text-align: right;\">-108</td><td style = \"text-align: right;\">3.5</td><td style = \"text-align: right;\">-27.1757</td><td style = \"text-align: right;\">38.6889</td><td style = \"text-align: right;\">0.0</td><td style = \"text-align: right;\">0.0</td><td style = \"text-align: right;\">0.0</td><td style = \"text-align: left;\">Fair</td></tr><tr><td class = \"rowNumber\" style = \"font-weight: bold; text-align: right;\">16270</td><td style = \"text-align: right;\">76113</td><td style = \"text-align: left;\">0200000000000000</td><td style = \"text-align: left;\">7276FF000B03183D</td><td style = \"text-align: left;\">2022-06-29 14:09:16</td><td style = \"text-align: right;\">-103</td><td style = \"text-align: right;\">9.2</td><td style = \"text-align: right;\">-27.1757</td><td style = \"text-align: right;\">38.6926</td><td style = \"text-align: right;\">0.0</td><td style = \"text-align: right;\">0.0</td><td style = \"text-align: right;\">0.0</td><td style = \"text-align: left;\">Fair</td></tr><tr><td class = \"rowNumber\" style = \"font-weight: bold; text-align: right;\">16271</td><td style = \"text-align: right;\">76114</td><td style = \"text-align: left;\">0200000000000000</td><td style = \"text-align: left;\">7276FF000B03183D</td><td style = \"text-align: left;\">2022-06-29 14:09:16</td><td style = \"text-align: right;\">-103</td><td style = \"text-align: right;\">9.2</td><td style = \"text-align: right;\">-27.1757</td><td style = \"text-align: right;\">38.6926</td><td style = \"text-align: right;\">0.0</td><td style = \"text-align: right;\">0.0</td><td style = \"text-align: right;\">0.0</td><td style = \"text-align: left;\">Fair</td></tr><tr><td class = \"rowNumber\" style = \"font-weight: bold; text-align: right;\">16272</td><td style = \"text-align: right;\">76185</td><td style = \"text-align: left;\">0200000000000000</td><td style = \"text-align: left;\">7276FF000B03183D</td><td style = \"text-align: left;\">2022-07-05 11:24:42</td><td style = \"text-align: right;\">-109</td><td style = \"text-align: right;\">8.2</td><td style = \"text-align: right;\">-27.1556</td><td style = \"text-align: right;\">38.6832</td><td style = \"text-align: right;\">0.0</td><td style = \"text-align: right;\">0.0</td><td style = \"text-align: right;\">0.0</td><td style = \"text-align: left;\">Fair</td></tr><tr><td class = \"rowNumber\" style = \"font-weight: bold; text-align: right;\">16273</td><td style = \"text-align: right;\">76186</td><td style = \"text-align: left;\">0200000000000000</td><td style = \"text-align: left;\">7276FF000B03183D</td><td style = \"text-align: left;\">2022-07-05 11:24:42</td><td style = \"text-align: right;\">-109</td><td style = \"text-align: right;\">8.2</td><td style = \"text-align: right;\">-27.1556</td><td style = \"text-align: right;\">38.6832</td><td style = \"text-align: right;\">0.0</td><td style = \"text-align: right;\">0.0</td><td style = \"text-align: right;\">0.0</td><td style = \"text-align: left;\">Fair</td></tr></tbody></table></div>"
      ],
      "text/latex": [
       "\\begin{tabular}{r|cccccc}\n",
       "\t& Column1 & dev\\_eui & gw\\_eui & timestamp\\_utc\\_iso\\_string & rssi\\_dbm & \\\\\n",
       "\t\\hline\n",
       "\t& Int64 & String31 & String31 & String31 & Int64 & \\\\\n",
       "\t\\hline\n",
       "\t1 & 2 & 0200000000000000 & 7076FF0056060728 & 2022-03-16 05:41:10 & -100 & $\\dots$ \\\\\n",
       "\t2 & 3 & 0200000000000000 & 7076FF0056060728 & 2022-03-16 05:43:30 & -105 & $\\dots$ \\\\\n",
       "\t3 & 4 & 0200000000000000 & 7076FF0056060728 & 2022-03-16 12:18:26 & -105 & $\\dots$ \\\\\n",
       "\t4 & 5 & 0200000000000000 & 7076FF0056060728 & 2022-03-16 15:38:22 & -102 & $\\dots$ \\\\\n",
       "\t5 & 6 & 0200000000000000 & 7076FF0056060728 & 2022-03-16 23:57:15 & -108 & $\\dots$ \\\\\n",
       "\t6 & 7 & 0200000000000000 & 7076FF0056060728 & 2022-03-16 23:59:34 & -105 & $\\dots$ \\\\\n",
       "\t7 & 8 & 0200000000000000 & 7076FF0056060728 & 2022-03-17 00:01:53 & -107 & $\\dots$ \\\\\n",
       "\t8 & 9 & 0200000000000000 & 7076FF0056060728 & 2022-03-17 00:04:12 & -105 & $\\dots$ \\\\\n",
       "\t9 & 10 & 0200000000000000 & 7076FF0056060728 & 2022-03-17 19:05:30 & -102 & $\\dots$ \\\\\n",
       "\t10 & 11 & 0200000000000000 & 7076FF0056060728 & 2022-03-17 23:00:17 & -101 & $\\dots$ \\\\\n",
       "\t11 & 12 & 0200000000000000 & 7076FF0056060728 & 2022-03-17 23:37:14 & -105 & $\\dots$ \\\\\n",
       "\t12 & 13 & 0200000000000000 & 7076FF0056060728 & 2022-03-17 23:44:09 & -101 & $\\dots$ \\\\\n",
       "\t13 & 14 & 0200000000000000 & 7076FF0056060728 & 2022-03-18 00:46:35 & -103 & $\\dots$ \\\\\n",
       "\t14 & 15 & 0200000000000000 & 7076FF0056060728 & 2022-03-18 00:55:48 & -103 & $\\dots$ \\\\\n",
       "\t15 & 16 & 0200000000000000 & 7076FF0056060728 & 2022-03-18 01:05:01 & -106 & $\\dots$ \\\\\n",
       "\t16 & 17 & 0200000000000000 & 7076FF0056060728 & 2022-03-18 01:09:38 & -102 & $\\dots$ \\\\\n",
       "\t17 & 18 & 0200000000000000 & 7076FF0056060728 & 2022-03-18 01:12:00 & -100 & $\\dots$ \\\\\n",
       "\t18 & 19 & 0200000000000000 & 7076FF0056060728 & 2022-03-18 01:23:30 & -108 & $\\dots$ \\\\\n",
       "\t19 & 20 & 0200000000000000 & 7076FF0056060728 & 2022-03-18 01:25:49 & -104 & $\\dots$ \\\\\n",
       "\t20 & 21 & 0200000000000000 & 7076FF0056060728 & 2022-03-18 01:32:43 & -101 & $\\dots$ \\\\\n",
       "\t21 & 22 & 0200000000000000 & 7076FF0056060728 & 2022-03-18 01:35:01 & -102 & $\\dots$ \\\\\n",
       "\t22 & 23 & 0200000000000000 & 7076FF0056060728 & 2022-03-18 01:46:30 & -102 & $\\dots$ \\\\\n",
       "\t23 & 24 & 0200000000000000 & 7076FF0056060728 & 2022-03-18 01:51:08 & -103 & $\\dots$ \\\\\n",
       "\t24 & 25 & 0200000000000000 & 7076FF0056060728 & 2022-03-18 01:55:44 & -105 & $\\dots$ \\\\\n",
       "\t$\\dots$ & $\\dots$ & $\\dots$ & $\\dots$ & $\\dots$ & $\\dots$ &  \\\\\n",
       "\\end{tabular}\n"
      ],
      "text/plain": [
       "\u001b[1m16273×12 DataFrame\u001b[0m\n",
       "\u001b[1m   Row \u001b[0m│\u001b[1m Column1 \u001b[0m\u001b[1m dev_eui          \u001b[0m\u001b[1m gw_eui           \u001b[0m\u001b[1m timestamp_utc_iso_string\u001b[0m ⋯\n",
       "       │\u001b[90m Int64   \u001b[0m\u001b[90m String31         \u001b[0m\u001b[90m String31         \u001b[0m\u001b[90m String31                \u001b[0m ⋯\n",
       "───────┼────────────────────────────────────────────────────────────────────────\n",
       "     1 │       2  0200000000000000  7076FF0056060728  2022-03-16 05:41:10      ⋯\n",
       "     2 │       3  0200000000000000  7076FF0056060728  2022-03-16 05:43:30\n",
       "     3 │       4  0200000000000000  7076FF0056060728  2022-03-16 12:18:26\n",
       "     4 │       5  0200000000000000  7076FF0056060728  2022-03-16 15:38:22\n",
       "     5 │       6  0200000000000000  7076FF0056060728  2022-03-16 23:57:15      ⋯\n",
       "     6 │       7  0200000000000000  7076FF0056060728  2022-03-16 23:59:34\n",
       "     7 │       8  0200000000000000  7076FF0056060728  2022-03-17 00:01:53\n",
       "     8 │       9  0200000000000000  7076FF0056060728  2022-03-17 00:04:12\n",
       "   ⋮   │    ⋮            ⋮                 ⋮                     ⋮             ⋱\n",
       " 16267 │   76009  0200000000000000  7276FF000B03183D  2022-06-22 11:09:01      ⋯\n",
       " 16268 │   76109  0200000000000000  7276FF000B03183D  2022-06-29 14:01:31\n",
       " 16269 │   76110  0200000000000000  7276FF000B03183D  2022-06-29 14:01:31\n",
       " 16270 │   76113  0200000000000000  7276FF000B03183D  2022-06-29 14:09:16\n",
       " 16271 │   76114  0200000000000000  7276FF000B03183D  2022-06-29 14:09:16      ⋯\n",
       " 16272 │   76185  0200000000000000  7276FF000B03183D  2022-07-05 11:24:42\n",
       " 16273 │   76186  0200000000000000  7276FF000B03183D  2022-07-05 11:24:42\n",
       "\u001b[36m                                                8 columns and 16258 rows omitted\u001b[0m"
      ]
     },
     "metadata": {},
     "output_type": "display_data"
    }
   ],
   "source": [
    "subset(df, :signal_quality => ByRow(==(\"Fair\")))"
   ]
  },
  {
   "cell_type": "code",
   "execution_count": 132,
   "metadata": {},
   "outputs": [
    {
     "data": {
      "text/html": [
       "<div><div style = \"float: left;\"><span>16273×12 DataFrame</span></div><div style = \"float: right;\"><span style = \"font-style: italic;\">16248 rows omitted</span></div><div style = \"clear: both;\"></div></div><div class = \"data-frame\" style = \"overflow-x: scroll;\"><table class = \"data-frame\" style = \"margin-bottom: 6px;\"><thead><tr class = \"header\"><th class = \"rowNumber\" style = \"font-weight: bold; text-align: right;\">Row</th><th style = \"text-align: left;\">Column1</th><th style = \"text-align: left;\">dev_eui</th><th style = \"text-align: left;\">gw_eui</th><th style = \"text-align: left;\">timestamp_utc_iso_string</th><th style = \"text-align: left;\">rssi_dbm</th><th style = \"text-align: left;\">snr_db</th><th style = \"text-align: left;\">dev_lon_deg_wgs84</th><th style = \"text-align: left;\">dev_lat_deg_wgs84</th><th style = \"text-align: left;\">battery_v</th><th style = \"text-align: left;\">gw_lon_deg_wgs84</th><th style = \"text-align: left;\">gw_lat_deg_wgs84</th><th style = \"text-align: left;\">signal_quality</th></tr><tr class = \"subheader headerLastRow\"><th class = \"rowNumber\" style = \"font-weight: bold; text-align: right;\"></th><th title = \"Int64\" style = \"text-align: left;\">Int64</th><th title = \"String31\" style = \"text-align: left;\">String31</th><th title = \"String31\" style = \"text-align: left;\">String31</th><th title = \"String31\" style = \"text-align: left;\">String31</th><th title = \"Int64\" style = \"text-align: left;\">Int64</th><th title = \"Float64\" style = \"text-align: left;\">Float64</th><th title = \"Float64\" style = \"text-align: left;\">Float64</th><th title = \"Float64\" style = \"text-align: left;\">Float64</th><th title = \"Float64\" style = \"text-align: left;\">Float64</th><th title = \"Float64\" style = \"text-align: left;\">Float64</th><th title = \"Float64\" style = \"text-align: left;\">Float64</th><th title = \"String31\" style = \"text-align: left;\">String31</th></tr></thead><tbody><tr><td class = \"rowNumber\" style = \"font-weight: bold; text-align: right;\">1</td><td style = \"text-align: right;\">2</td><td style = \"text-align: left;\">0200000000000000</td><td style = \"text-align: left;\">7076FF0056060728</td><td style = \"text-align: left;\">2022-03-16 05:41:10</td><td style = \"text-align: right;\">-100</td><td style = \"text-align: right;\">10.2</td><td style = \"text-align: right;\">-27.2671</td><td style = \"text-align: right;\">38.6556</td><td style = \"text-align: right;\">0.0</td><td style = \"text-align: right;\">0.0</td><td style = \"text-align: right;\">0.0</td><td style = \"text-align: left;\">Fair</td></tr><tr><td class = \"rowNumber\" style = \"font-weight: bold; text-align: right;\">2</td><td style = \"text-align: right;\">3</td><td style = \"text-align: left;\">0200000000000000</td><td style = \"text-align: left;\">7076FF0056060728</td><td style = \"text-align: left;\">2022-03-16 05:43:30</td><td style = \"text-align: right;\">-105</td><td style = \"text-align: right;\">9.2</td><td style = \"text-align: right;\">-27.2672</td><td style = \"text-align: right;\">38.6554</td><td style = \"text-align: right;\">0.0</td><td style = \"text-align: right;\">0.0</td><td style = \"text-align: right;\">0.0</td><td style = \"text-align: left;\">Fair</td></tr><tr><td class = \"rowNumber\" style = \"font-weight: bold; text-align: right;\">3</td><td style = \"text-align: right;\">4</td><td style = \"text-align: left;\">0200000000000000</td><td style = \"text-align: left;\">7076FF0056060728</td><td style = \"text-align: left;\">2022-03-16 12:18:26</td><td style = \"text-align: right;\">-105</td><td style = \"text-align: right;\">8.2</td><td style = \"text-align: right;\">-27.2666</td><td style = \"text-align: right;\">38.6562</td><td style = \"text-align: right;\">0.0</td><td style = \"text-align: right;\">0.0</td><td style = \"text-align: right;\">0.0</td><td style = \"text-align: left;\">Fair</td></tr><tr><td class = \"rowNumber\" style = \"font-weight: bold; text-align: right;\">4</td><td style = \"text-align: right;\">5</td><td style = \"text-align: left;\">0200000000000000</td><td style = \"text-align: left;\">7076FF0056060728</td><td style = \"text-align: left;\">2022-03-16 15:38:22</td><td style = \"text-align: right;\">-102</td><td style = \"text-align: right;\">9.8</td><td style = \"text-align: right;\">-27.2673</td><td style = \"text-align: right;\">38.6556</td><td style = \"text-align: right;\">0.0</td><td style = \"text-align: right;\">0.0</td><td style = \"text-align: right;\">0.0</td><td style = \"text-align: left;\">Fair</td></tr><tr><td class = \"rowNumber\" style = \"font-weight: bold; text-align: right;\">5</td><td style = \"text-align: right;\">6</td><td style = \"text-align: left;\">0200000000000000</td><td style = \"text-align: left;\">7076FF0056060728</td><td style = \"text-align: left;\">2022-03-16 23:57:15</td><td style = \"text-align: right;\">-108</td><td style = \"text-align: right;\">8.2</td><td style = \"text-align: right;\">-27.2668</td><td style = \"text-align: right;\">38.6561</td><td style = \"text-align: right;\">0.0</td><td style = \"text-align: right;\">0.0</td><td style = \"text-align: right;\">0.0</td><td style = \"text-align: left;\">Fair</td></tr><tr><td class = \"rowNumber\" style = \"font-weight: bold; text-align: right;\">6</td><td style = \"text-align: right;\">7</td><td style = \"text-align: left;\">0200000000000000</td><td style = \"text-align: left;\">7076FF0056060728</td><td style = \"text-align: left;\">2022-03-16 23:59:34</td><td style = \"text-align: right;\">-105</td><td style = \"text-align: right;\">8.0</td><td style = \"text-align: right;\">-27.267</td><td style = \"text-align: right;\">38.6561</td><td style = \"text-align: right;\">0.0</td><td style = \"text-align: right;\">0.0</td><td style = \"text-align: right;\">0.0</td><td style = \"text-align: left;\">Fair</td></tr><tr><td class = \"rowNumber\" style = \"font-weight: bold; text-align: right;\">7</td><td style = \"text-align: right;\">8</td><td style = \"text-align: left;\">0200000000000000</td><td style = \"text-align: left;\">7076FF0056060728</td><td style = \"text-align: left;\">2022-03-17 00:01:53</td><td style = \"text-align: right;\">-107</td><td style = \"text-align: right;\">8.0</td><td style = \"text-align: right;\">-27.267</td><td style = \"text-align: right;\">38.656</td><td style = \"text-align: right;\">0.0</td><td style = \"text-align: right;\">0.0</td><td style = \"text-align: right;\">0.0</td><td style = \"text-align: left;\">Fair</td></tr><tr><td class = \"rowNumber\" style = \"font-weight: bold; text-align: right;\">8</td><td style = \"text-align: right;\">9</td><td style = \"text-align: left;\">0200000000000000</td><td style = \"text-align: left;\">7076FF0056060728</td><td style = \"text-align: left;\">2022-03-17 00:04:12</td><td style = \"text-align: right;\">-105</td><td style = \"text-align: right;\">9.2</td><td style = \"text-align: right;\">-27.2671</td><td style = \"text-align: right;\">38.6558</td><td style = \"text-align: right;\">0.0</td><td style = \"text-align: right;\">0.0</td><td style = \"text-align: right;\">0.0</td><td style = \"text-align: left;\">Fair</td></tr><tr><td class = \"rowNumber\" style = \"font-weight: bold; text-align: right;\">9</td><td style = \"text-align: right;\">10</td><td style = \"text-align: left;\">0200000000000000</td><td style = \"text-align: left;\">7076FF0056060728</td><td style = \"text-align: left;\">2022-03-17 19:05:30</td><td style = \"text-align: right;\">-102</td><td style = \"text-align: right;\">9.0</td><td style = \"text-align: right;\">-27.2671</td><td style = \"text-align: right;\">38.6557</td><td style = \"text-align: right;\">0.0</td><td style = \"text-align: right;\">0.0</td><td style = \"text-align: right;\">0.0</td><td style = \"text-align: left;\">Fair</td></tr><tr><td class = \"rowNumber\" style = \"font-weight: bold; text-align: right;\">10</td><td style = \"text-align: right;\">11</td><td style = \"text-align: left;\">0200000000000000</td><td style = \"text-align: left;\">7076FF0056060728</td><td style = \"text-align: left;\">2022-03-17 23:00:17</td><td style = \"text-align: right;\">-101</td><td style = \"text-align: right;\">8.8</td><td style = \"text-align: right;\">-27.2671</td><td style = \"text-align: right;\">38.6552</td><td style = \"text-align: right;\">0.0</td><td style = \"text-align: right;\">0.0</td><td style = \"text-align: right;\">0.0</td><td style = \"text-align: left;\">Fair</td></tr><tr><td class = \"rowNumber\" style = \"font-weight: bold; text-align: right;\">11</td><td style = \"text-align: right;\">12</td><td style = \"text-align: left;\">0200000000000000</td><td style = \"text-align: left;\">7076FF0056060728</td><td style = \"text-align: left;\">2022-03-17 23:37:14</td><td style = \"text-align: right;\">-105</td><td style = \"text-align: right;\">9.5</td><td style = \"text-align: right;\">-27.2671</td><td style = \"text-align: right;\">38.6554</td><td style = \"text-align: right;\">0.0</td><td style = \"text-align: right;\">0.0</td><td style = \"text-align: right;\">0.0</td><td style = \"text-align: left;\">Fair</td></tr><tr><td class = \"rowNumber\" style = \"font-weight: bold; text-align: right;\">12</td><td style = \"text-align: right;\">13</td><td style = \"text-align: left;\">0200000000000000</td><td style = \"text-align: left;\">7076FF0056060728</td><td style = \"text-align: left;\">2022-03-17 23:44:09</td><td style = \"text-align: right;\">-101</td><td style = \"text-align: right;\">9.8</td><td style = \"text-align: right;\">-27.2671</td><td style = \"text-align: right;\">38.6555</td><td style = \"text-align: right;\">0.0</td><td style = \"text-align: right;\">0.0</td><td style = \"text-align: right;\">0.0</td><td style = \"text-align: left;\">Fair</td></tr><tr><td class = \"rowNumber\" style = \"font-weight: bold; text-align: right;\">13</td><td style = \"text-align: right;\">14</td><td style = \"text-align: left;\">0200000000000000</td><td style = \"text-align: left;\">7076FF0056060728</td><td style = \"text-align: left;\">2022-03-18 00:46:35</td><td style = \"text-align: right;\">-103</td><td style = \"text-align: right;\">8.0</td><td style = \"text-align: right;\">-27.2674</td><td style = \"text-align: right;\">38.6556</td><td style = \"text-align: right;\">0.0</td><td style = \"text-align: right;\">0.0</td><td style = \"text-align: right;\">0.0</td><td style = \"text-align: left;\">Fair</td></tr><tr><td style = \"text-align: right;\">&vellip;</td><td style = \"text-align: right;\">&vellip;</td><td style = \"text-align: right;\">&vellip;</td><td style = \"text-align: right;\">&vellip;</td><td style = \"text-align: right;\">&vellip;</td><td style = \"text-align: right;\">&vellip;</td><td style = \"text-align: right;\">&vellip;</td><td style = \"text-align: right;\">&vellip;</td><td style = \"text-align: right;\">&vellip;</td><td style = \"text-align: right;\">&vellip;</td><td style = \"text-align: right;\">&vellip;</td><td style = \"text-align: right;\">&vellip;</td><td style = \"text-align: right;\">&vellip;</td></tr><tr><td class = \"rowNumber\" style = \"font-weight: bold; text-align: right;\">16262</td><td style = \"text-align: right;\">75849</td><td style = \"text-align: left;\">0200000000000000</td><td style = \"text-align: left;\">7276FF000B03183D</td><td style = \"text-align: left;\">2022-03-28 10:08:58</td><td style = \"text-align: right;\">-107</td><td style = \"text-align: right;\">9.5</td><td style = \"text-align: right;\">-27.1519</td><td style = \"text-align: right;\">38.6831</td><td style = \"text-align: right;\">0.0</td><td style = \"text-align: right;\">0.0</td><td style = \"text-align: right;\">0.0</td><td style = \"text-align: left;\">Fair</td></tr><tr><td class = \"rowNumber\" style = \"font-weight: bold; text-align: right;\">16263</td><td style = \"text-align: right;\">75850</td><td style = \"text-align: left;\">0200000000000000</td><td style = \"text-align: left;\">7276FF000B03183D</td><td style = \"text-align: left;\">2022-03-28 10:53:13</td><td style = \"text-align: right;\">-103</td><td style = \"text-align: right;\">8.2</td><td style = \"text-align: right;\">-27.1542</td><td style = \"text-align: right;\">38.6884</td><td style = \"text-align: right;\">0.0</td><td style = \"text-align: right;\">0.0</td><td style = \"text-align: right;\">0.0</td><td style = \"text-align: left;\">Fair</td></tr><tr><td class = \"rowNumber\" style = \"font-weight: bold; text-align: right;\">16264</td><td style = \"text-align: right;\">75853</td><td style = \"text-align: left;\">0200000000000000</td><td style = \"text-align: left;\">7276FF000B03183D</td><td style = \"text-align: left;\">2022-03-28 15:23:29</td><td style = \"text-align: right;\">-105</td><td style = \"text-align: right;\">8.5</td><td style = \"text-align: right;\">-27.1562</td><td style = \"text-align: right;\">38.684</td><td style = \"text-align: right;\">0.0</td><td style = \"text-align: right;\">0.0</td><td style = \"text-align: right;\">0.0</td><td style = \"text-align: left;\">Fair</td></tr><tr><td class = \"rowNumber\" style = \"font-weight: bold; text-align: right;\">16265</td><td style = \"text-align: right;\">75941</td><td style = \"text-align: left;\">0200000000000000</td><td style = \"text-align: left;\">7276FF000B03183D</td><td style = \"text-align: left;\">2022-05-07 15:10:42</td><td style = \"text-align: right;\">-100</td><td style = \"text-align: right;\">10.8</td><td style = \"text-align: right;\">-27.1878</td><td style = \"text-align: right;\">38.6893</td><td style = \"text-align: right;\">0.0</td><td style = \"text-align: right;\">0.0</td><td style = \"text-align: right;\">0.0</td><td style = \"text-align: left;\">Fair</td></tr><tr><td class = \"rowNumber\" style = \"font-weight: bold; text-align: right;\">16266</td><td style = \"text-align: right;\">76008</td><td style = \"text-align: left;\">0200000000000000</td><td style = \"text-align: left;\">7276FF000B03183D</td><td style = \"text-align: left;\">2022-06-22 11:09:01</td><td style = \"text-align: right;\">-108</td><td style = \"text-align: right;\">0.8</td><td style = \"text-align: right;\">-27.1768</td><td style = \"text-align: right;\">38.6851</td><td style = \"text-align: right;\">0.0</td><td style = \"text-align: right;\">0.0</td><td style = \"text-align: right;\">0.0</td><td style = \"text-align: left;\">Fair</td></tr><tr><td class = \"rowNumber\" style = \"font-weight: bold; text-align: right;\">16267</td><td style = \"text-align: right;\">76009</td><td style = \"text-align: left;\">0200000000000000</td><td style = \"text-align: left;\">7276FF000B03183D</td><td style = \"text-align: left;\">2022-06-22 11:09:01</td><td style = \"text-align: right;\">-108</td><td style = \"text-align: right;\">0.8</td><td style = \"text-align: right;\">-27.1768</td><td style = \"text-align: right;\">38.6851</td><td style = \"text-align: right;\">0.0</td><td style = \"text-align: right;\">0.0</td><td style = \"text-align: right;\">0.0</td><td style = \"text-align: left;\">Fair</td></tr><tr><td class = \"rowNumber\" style = \"font-weight: bold; text-align: right;\">16268</td><td style = \"text-align: right;\">76109</td><td style = \"text-align: left;\">0200000000000000</td><td style = \"text-align: left;\">7276FF000B03183D</td><td style = \"text-align: left;\">2022-06-29 14:01:31</td><td style = \"text-align: right;\">-108</td><td style = \"text-align: right;\">3.5</td><td style = \"text-align: right;\">-27.1757</td><td style = \"text-align: right;\">38.6889</td><td style = \"text-align: right;\">0.0</td><td style = \"text-align: right;\">0.0</td><td style = \"text-align: right;\">0.0</td><td style = \"text-align: left;\">Fair</td></tr><tr><td class = \"rowNumber\" style = \"font-weight: bold; text-align: right;\">16269</td><td style = \"text-align: right;\">76110</td><td style = \"text-align: left;\">0200000000000000</td><td style = \"text-align: left;\">7276FF000B03183D</td><td style = \"text-align: left;\">2022-06-29 14:01:31</td><td style = \"text-align: right;\">-108</td><td style = \"text-align: right;\">3.5</td><td style = \"text-align: right;\">-27.1757</td><td style = \"text-align: right;\">38.6889</td><td style = \"text-align: right;\">0.0</td><td style = \"text-align: right;\">0.0</td><td style = \"text-align: right;\">0.0</td><td style = \"text-align: left;\">Fair</td></tr><tr><td class = \"rowNumber\" style = \"font-weight: bold; text-align: right;\">16270</td><td style = \"text-align: right;\">76113</td><td style = \"text-align: left;\">0200000000000000</td><td style = \"text-align: left;\">7276FF000B03183D</td><td style = \"text-align: left;\">2022-06-29 14:09:16</td><td style = \"text-align: right;\">-103</td><td style = \"text-align: right;\">9.2</td><td style = \"text-align: right;\">-27.1757</td><td style = \"text-align: right;\">38.6926</td><td style = \"text-align: right;\">0.0</td><td style = \"text-align: right;\">0.0</td><td style = \"text-align: right;\">0.0</td><td style = \"text-align: left;\">Fair</td></tr><tr><td class = \"rowNumber\" style = \"font-weight: bold; text-align: right;\">16271</td><td style = \"text-align: right;\">76114</td><td style = \"text-align: left;\">0200000000000000</td><td style = \"text-align: left;\">7276FF000B03183D</td><td style = \"text-align: left;\">2022-06-29 14:09:16</td><td style = \"text-align: right;\">-103</td><td style = \"text-align: right;\">9.2</td><td style = \"text-align: right;\">-27.1757</td><td style = \"text-align: right;\">38.6926</td><td style = \"text-align: right;\">0.0</td><td style = \"text-align: right;\">0.0</td><td style = \"text-align: right;\">0.0</td><td style = \"text-align: left;\">Fair</td></tr><tr><td class = \"rowNumber\" style = \"font-weight: bold; text-align: right;\">16272</td><td style = \"text-align: right;\">76185</td><td style = \"text-align: left;\">0200000000000000</td><td style = \"text-align: left;\">7276FF000B03183D</td><td style = \"text-align: left;\">2022-07-05 11:24:42</td><td style = \"text-align: right;\">-109</td><td style = \"text-align: right;\">8.2</td><td style = \"text-align: right;\">-27.1556</td><td style = \"text-align: right;\">38.6832</td><td style = \"text-align: right;\">0.0</td><td style = \"text-align: right;\">0.0</td><td style = \"text-align: right;\">0.0</td><td style = \"text-align: left;\">Fair</td></tr><tr><td class = \"rowNumber\" style = \"font-weight: bold; text-align: right;\">16273</td><td style = \"text-align: right;\">76186</td><td style = \"text-align: left;\">0200000000000000</td><td style = \"text-align: left;\">7276FF000B03183D</td><td style = \"text-align: left;\">2022-07-05 11:24:42</td><td style = \"text-align: right;\">-109</td><td style = \"text-align: right;\">8.2</td><td style = \"text-align: right;\">-27.1556</td><td style = \"text-align: right;\">38.6832</td><td style = \"text-align: right;\">0.0</td><td style = \"text-align: right;\">0.0</td><td style = \"text-align: right;\">0.0</td><td style = \"text-align: left;\">Fair</td></tr></tbody></table></div>"
      ],
      "text/latex": [
       "\\begin{tabular}{r|cccccc}\n",
       "\t& Column1 & dev\\_eui & gw\\_eui & timestamp\\_utc\\_iso\\_string & rssi\\_dbm & \\\\\n",
       "\t\\hline\n",
       "\t& Int64 & String31 & String31 & String31 & Int64 & \\\\\n",
       "\t\\hline\n",
       "\t1 & 2 & 0200000000000000 & 7076FF0056060728 & 2022-03-16 05:41:10 & -100 & $\\dots$ \\\\\n",
       "\t2 & 3 & 0200000000000000 & 7076FF0056060728 & 2022-03-16 05:43:30 & -105 & $\\dots$ \\\\\n",
       "\t3 & 4 & 0200000000000000 & 7076FF0056060728 & 2022-03-16 12:18:26 & -105 & $\\dots$ \\\\\n",
       "\t4 & 5 & 0200000000000000 & 7076FF0056060728 & 2022-03-16 15:38:22 & -102 & $\\dots$ \\\\\n",
       "\t5 & 6 & 0200000000000000 & 7076FF0056060728 & 2022-03-16 23:57:15 & -108 & $\\dots$ \\\\\n",
       "\t6 & 7 & 0200000000000000 & 7076FF0056060728 & 2022-03-16 23:59:34 & -105 & $\\dots$ \\\\\n",
       "\t7 & 8 & 0200000000000000 & 7076FF0056060728 & 2022-03-17 00:01:53 & -107 & $\\dots$ \\\\\n",
       "\t8 & 9 & 0200000000000000 & 7076FF0056060728 & 2022-03-17 00:04:12 & -105 & $\\dots$ \\\\\n",
       "\t9 & 10 & 0200000000000000 & 7076FF0056060728 & 2022-03-17 19:05:30 & -102 & $\\dots$ \\\\\n",
       "\t10 & 11 & 0200000000000000 & 7076FF0056060728 & 2022-03-17 23:00:17 & -101 & $\\dots$ \\\\\n",
       "\t11 & 12 & 0200000000000000 & 7076FF0056060728 & 2022-03-17 23:37:14 & -105 & $\\dots$ \\\\\n",
       "\t12 & 13 & 0200000000000000 & 7076FF0056060728 & 2022-03-17 23:44:09 & -101 & $\\dots$ \\\\\n",
       "\t13 & 14 & 0200000000000000 & 7076FF0056060728 & 2022-03-18 00:46:35 & -103 & $\\dots$ \\\\\n",
       "\t14 & 15 & 0200000000000000 & 7076FF0056060728 & 2022-03-18 00:55:48 & -103 & $\\dots$ \\\\\n",
       "\t15 & 16 & 0200000000000000 & 7076FF0056060728 & 2022-03-18 01:05:01 & -106 & $\\dots$ \\\\\n",
       "\t16 & 17 & 0200000000000000 & 7076FF0056060728 & 2022-03-18 01:09:38 & -102 & $\\dots$ \\\\\n",
       "\t17 & 18 & 0200000000000000 & 7076FF0056060728 & 2022-03-18 01:12:00 & -100 & $\\dots$ \\\\\n",
       "\t18 & 19 & 0200000000000000 & 7076FF0056060728 & 2022-03-18 01:23:30 & -108 & $\\dots$ \\\\\n",
       "\t19 & 20 & 0200000000000000 & 7076FF0056060728 & 2022-03-18 01:25:49 & -104 & $\\dots$ \\\\\n",
       "\t20 & 21 & 0200000000000000 & 7076FF0056060728 & 2022-03-18 01:32:43 & -101 & $\\dots$ \\\\\n",
       "\t21 & 22 & 0200000000000000 & 7076FF0056060728 & 2022-03-18 01:35:01 & -102 & $\\dots$ \\\\\n",
       "\t22 & 23 & 0200000000000000 & 7076FF0056060728 & 2022-03-18 01:46:30 & -102 & $\\dots$ \\\\\n",
       "\t23 & 24 & 0200000000000000 & 7076FF0056060728 & 2022-03-18 01:51:08 & -103 & $\\dots$ \\\\\n",
       "\t24 & 25 & 0200000000000000 & 7076FF0056060728 & 2022-03-18 01:55:44 & -105 & $\\dots$ \\\\\n",
       "\t$\\dots$ & $\\dots$ & $\\dots$ & $\\dots$ & $\\dots$ & $\\dots$ &  \\\\\n",
       "\\end{tabular}\n"
      ],
      "text/plain": [
       "\u001b[1m16273×12 DataFrame\u001b[0m\n",
       "\u001b[1m   Row \u001b[0m│\u001b[1m Column1 \u001b[0m\u001b[1m dev_eui          \u001b[0m\u001b[1m gw_eui           \u001b[0m\u001b[1m timestamp_utc_iso_string\u001b[0m ⋯\n",
       "       │\u001b[90m Int64   \u001b[0m\u001b[90m String31         \u001b[0m\u001b[90m String31         \u001b[0m\u001b[90m String31                \u001b[0m ⋯\n",
       "───────┼────────────────────────────────────────────────────────────────────────\n",
       "     1 │       2  0200000000000000  7076FF0056060728  2022-03-16 05:41:10      ⋯\n",
       "     2 │       3  0200000000000000  7076FF0056060728  2022-03-16 05:43:30\n",
       "     3 │       4  0200000000000000  7076FF0056060728  2022-03-16 12:18:26\n",
       "     4 │       5  0200000000000000  7076FF0056060728  2022-03-16 15:38:22\n",
       "     5 │       6  0200000000000000  7076FF0056060728  2022-03-16 23:57:15      ⋯\n",
       "     6 │       7  0200000000000000  7076FF0056060728  2022-03-16 23:59:34\n",
       "     7 │       8  0200000000000000  7076FF0056060728  2022-03-17 00:01:53\n",
       "     8 │       9  0200000000000000  7076FF0056060728  2022-03-17 00:04:12\n",
       "   ⋮   │    ⋮            ⋮                 ⋮                     ⋮             ⋱\n",
       " 16267 │   76009  0200000000000000  7276FF000B03183D  2022-06-22 11:09:01      ⋯\n",
       " 16268 │   76109  0200000000000000  7276FF000B03183D  2022-06-29 14:01:31\n",
       " 16269 │   76110  0200000000000000  7276FF000B03183D  2022-06-29 14:01:31\n",
       " 16270 │   76113  0200000000000000  7276FF000B03183D  2022-06-29 14:09:16\n",
       " 16271 │   76114  0200000000000000  7276FF000B03183D  2022-06-29 14:09:16      ⋯\n",
       " 16272 │   76185  0200000000000000  7276FF000B03183D  2022-07-05 11:24:42\n",
       " 16273 │   76186  0200000000000000  7276FF000B03183D  2022-07-05 11:24:42\n",
       "\u001b[36m                                                8 columns and 16258 rows omitted\u001b[0m"
      ]
     },
     "metadata": {},
     "output_type": "display_data"
    }
   ],
   "source": [
    "subset(df, :signal_quality => ByRow(name -> name == \"Fair\"))"
   ]
  },
  {
   "cell_type": "markdown",
   "metadata": {},
   "source": [
    "**Select**"
   ]
  },
  {
   "cell_type": "code",
   "execution_count": 133,
   "metadata": {},
   "outputs": [
    {
     "data": {
      "text/html": [
       "<div><div style = \"float: left;\"><span>76321×2 DataFrame</span></div><div style = \"float: right;\"><span style = \"font-style: italic;\">76296 rows omitted</span></div><div style = \"clear: both;\"></div></div><div class = \"data-frame\" style = \"overflow-x: scroll;\"><table class = \"data-frame\" style = \"margin-bottom: 6px;\"><thead><tr class = \"header\"><th class = \"rowNumber\" style = \"font-weight: bold; text-align: right;\">Row</th><th style = \"text-align: left;\">gw_eui</th><th style = \"text-align: left;\">timestamp_utc_iso_string</th></tr><tr class = \"subheader headerLastRow\"><th class = \"rowNumber\" style = \"font-weight: bold; text-align: right;\"></th><th title = \"String31\" style = \"text-align: left;\">String31</th><th title = \"String31\" style = \"text-align: left;\">String31</th></tr></thead><tbody><tr><td class = \"rowNumber\" style = \"font-weight: bold; text-align: right;\">1</td><td style = \"text-align: left;\">7076FF0056060728</td><td style = \"text-align: left;\">2022-03-16 03:10:48</td></tr><tr><td class = \"rowNumber\" style = \"font-weight: bold; text-align: right;\">2</td><td style = \"text-align: left;\">7076FF0056060728</td><td style = \"text-align: left;\">2022-03-16 03:22:19</td></tr><tr><td class = \"rowNumber\" style = \"font-weight: bold; text-align: right;\">3</td><td style = \"text-align: left;\">7076FF0056060728</td><td style = \"text-align: left;\">2022-03-16 05:41:10</td></tr><tr><td class = \"rowNumber\" style = \"font-weight: bold; text-align: right;\">4</td><td style = \"text-align: left;\">7076FF0056060728</td><td style = \"text-align: left;\">2022-03-16 05:43:30</td></tr><tr><td class = \"rowNumber\" style = \"font-weight: bold; text-align: right;\">5</td><td style = \"text-align: left;\">7076FF0056060728</td><td style = \"text-align: left;\">2022-03-16 12:18:26</td></tr><tr><td class = \"rowNumber\" style = \"font-weight: bold; text-align: right;\">6</td><td style = \"text-align: left;\">7076FF0056060728</td><td style = \"text-align: left;\">2022-03-16 15:38:22</td></tr><tr><td class = \"rowNumber\" style = \"font-weight: bold; text-align: right;\">7</td><td style = \"text-align: left;\">7076FF0056060728</td><td style = \"text-align: left;\">2022-03-16 23:57:15</td></tr><tr><td class = \"rowNumber\" style = \"font-weight: bold; text-align: right;\">8</td><td style = \"text-align: left;\">7076FF0056060728</td><td style = \"text-align: left;\">2022-03-16 23:59:34</td></tr><tr><td class = \"rowNumber\" style = \"font-weight: bold; text-align: right;\">9</td><td style = \"text-align: left;\">7076FF0056060728</td><td style = \"text-align: left;\">2022-03-17 00:01:53</td></tr><tr><td class = \"rowNumber\" style = \"font-weight: bold; text-align: right;\">10</td><td style = \"text-align: left;\">7076FF0056060728</td><td style = \"text-align: left;\">2022-03-17 00:04:12</td></tr><tr><td class = \"rowNumber\" style = \"font-weight: bold; text-align: right;\">11</td><td style = \"text-align: left;\">7076FF0056060728</td><td style = \"text-align: left;\">2022-03-17 19:05:30</td></tr><tr><td class = \"rowNumber\" style = \"font-weight: bold; text-align: right;\">12</td><td style = \"text-align: left;\">7076FF0056060728</td><td style = \"text-align: left;\">2022-03-17 23:00:17</td></tr><tr><td class = \"rowNumber\" style = \"font-weight: bold; text-align: right;\">13</td><td style = \"text-align: left;\">7076FF0056060728</td><td style = \"text-align: left;\">2022-03-17 23:37:14</td></tr><tr><td style = \"text-align: right;\">&vellip;</td><td style = \"text-align: right;\">&vellip;</td><td style = \"text-align: right;\">&vellip;</td></tr><tr><td class = \"rowNumber\" style = \"font-weight: bold; text-align: right;\">76310</td><td style = \"text-align: left;\">7276FF000B03183D</td><td style = \"text-align: left;\">2023-05-11 08:39:18</td></tr><tr><td class = \"rowNumber\" style = \"font-weight: bold; text-align: right;\">76311</td><td style = \"text-align: left;\">7276FF000B03183D</td><td style = \"text-align: left;\">2023-05-11 08:47:06</td></tr><tr><td class = \"rowNumber\" style = \"font-weight: bold; text-align: right;\">76312</td><td style = \"text-align: left;\">7276FF000B03183D</td><td style = \"text-align: left;\">2023-05-11 18:31:16</td></tr><tr><td class = \"rowNumber\" style = \"font-weight: bold; text-align: right;\">76313</td><td style = \"text-align: left;\">7276FF000B03183D</td><td style = \"text-align: left;\">2023-05-12 08:51:56</td></tr><tr><td class = \"rowNumber\" style = \"font-weight: bold; text-align: right;\">76314</td><td style = \"text-align: left;\">7276FF000B03183D</td><td style = \"text-align: left;\">2023-05-12 12:21:47</td></tr><tr><td class = \"rowNumber\" style = \"font-weight: bold; text-align: right;\">76315</td><td style = \"text-align: left;\">7276FF000B03183D</td><td style = \"text-align: left;\">2023-05-15 09:50:48</td></tr><tr><td class = \"rowNumber\" style = \"font-weight: bold; text-align: right;\">76316</td><td style = \"text-align: left;\">7276FF000B03183D</td><td style = \"text-align: left;\">2023-05-18 12:19:37</td></tr><tr><td class = \"rowNumber\" style = \"font-weight: bold; text-align: right;\">76317</td><td style = \"text-align: left;\">7276FF000B03183D</td><td style = \"text-align: left;\">2023-05-18 12:42:28</td></tr><tr><td class = \"rowNumber\" style = \"font-weight: bold; text-align: right;\">76318</td><td style = \"text-align: left;\">7276FF000B03183D</td><td style = \"text-align: left;\">2023-05-18 19:50:44</td></tr><tr><td class = \"rowNumber\" style = \"font-weight: bold; text-align: right;\">76319</td><td style = \"text-align: left;\">7276FF000B03183D</td><td style = \"text-align: left;\">2023-05-20 19:56:53</td></tr><tr><td class = \"rowNumber\" style = \"font-weight: bold; text-align: right;\">76320</td><td style = \"text-align: left;\">7276FF000B03183D</td><td style = \"text-align: left;\">2023-06-02 08:36:03</td></tr><tr><td class = \"rowNumber\" style = \"font-weight: bold; text-align: right;\">76321</td><td style = \"text-align: left;\">7276FF000B03183D</td><td style = \"text-align: left;\">2023-06-22 11:46:52</td></tr></tbody></table></div>"
      ],
      "text/latex": [
       "\\begin{tabular}{r|cc}\n",
       "\t& gw\\_eui & timestamp\\_utc\\_iso\\_string\\\\\n",
       "\t\\hline\n",
       "\t& String31 & String31\\\\\n",
       "\t\\hline\n",
       "\t1 & 7076FF0056060728 & 2022-03-16 03:10:48 \\\\\n",
       "\t2 & 7076FF0056060728 & 2022-03-16 03:22:19 \\\\\n",
       "\t3 & 7076FF0056060728 & 2022-03-16 05:41:10 \\\\\n",
       "\t4 & 7076FF0056060728 & 2022-03-16 05:43:30 \\\\\n",
       "\t5 & 7076FF0056060728 & 2022-03-16 12:18:26 \\\\\n",
       "\t6 & 7076FF0056060728 & 2022-03-16 15:38:22 \\\\\n",
       "\t7 & 7076FF0056060728 & 2022-03-16 23:57:15 \\\\\n",
       "\t8 & 7076FF0056060728 & 2022-03-16 23:59:34 \\\\\n",
       "\t9 & 7076FF0056060728 & 2022-03-17 00:01:53 \\\\\n",
       "\t10 & 7076FF0056060728 & 2022-03-17 00:04:12 \\\\\n",
       "\t11 & 7076FF0056060728 & 2022-03-17 19:05:30 \\\\\n",
       "\t12 & 7076FF0056060728 & 2022-03-17 23:00:17 \\\\\n",
       "\t13 & 7076FF0056060728 & 2022-03-17 23:37:14 \\\\\n",
       "\t14 & 7076FF0056060728 & 2022-03-17 23:44:09 \\\\\n",
       "\t15 & 7076FF0056060728 & 2022-03-18 00:46:35 \\\\\n",
       "\t16 & 7076FF0056060728 & 2022-03-18 00:55:48 \\\\\n",
       "\t17 & 7076FF0056060728 & 2022-03-18 01:05:01 \\\\\n",
       "\t18 & 7076FF0056060728 & 2022-03-18 01:09:38 \\\\\n",
       "\t19 & 7076FF0056060728 & 2022-03-18 01:12:00 \\\\\n",
       "\t20 & 7076FF0056060728 & 2022-03-18 01:23:30 \\\\\n",
       "\t21 & 7076FF0056060728 & 2022-03-18 01:25:49 \\\\\n",
       "\t22 & 7076FF0056060728 & 2022-03-18 01:32:43 \\\\\n",
       "\t23 & 7076FF0056060728 & 2022-03-18 01:35:01 \\\\\n",
       "\t24 & 7076FF0056060728 & 2022-03-18 01:46:30 \\\\\n",
       "\t$\\dots$ & $\\dots$ & $\\dots$ \\\\\n",
       "\\end{tabular}\n"
      ],
      "text/plain": [
       "\u001b[1m76321×2 DataFrame\u001b[0m\n",
       "\u001b[1m   Row \u001b[0m│\u001b[1m gw_eui           \u001b[0m\u001b[1m timestamp_utc_iso_string \u001b[0m\n",
       "       │\u001b[90m String31         \u001b[0m\u001b[90m String31                 \u001b[0m\n",
       "───────┼────────────────────────────────────────────\n",
       "     1 │ 7076FF0056060728  2022-03-16 03:10:48\n",
       "     2 │ 7076FF0056060728  2022-03-16 03:22:19\n",
       "     3 │ 7076FF0056060728  2022-03-16 05:41:10\n",
       "     4 │ 7076FF0056060728  2022-03-16 05:43:30\n",
       "     5 │ 7076FF0056060728  2022-03-16 12:18:26\n",
       "     6 │ 7076FF0056060728  2022-03-16 15:38:22\n",
       "     7 │ 7076FF0056060728  2022-03-16 23:57:15\n",
       "     8 │ 7076FF0056060728  2022-03-16 23:59:34\n",
       "   ⋮   │        ⋮                     ⋮\n",
       " 76315 │ 7276FF000B03183D  2023-05-15 09:50:48\n",
       " 76316 │ 7276FF000B03183D  2023-05-18 12:19:37\n",
       " 76317 │ 7276FF000B03183D  2023-05-18 12:42:28\n",
       " 76318 │ 7276FF000B03183D  2023-05-18 19:50:44\n",
       " 76319 │ 7276FF000B03183D  2023-05-20 19:56:53\n",
       " 76320 │ 7276FF000B03183D  2023-06-02 08:36:03\n",
       " 76321 │ 7276FF000B03183D  2023-06-22 11:46:52\n",
       "\u001b[36m                                  76306 rows omitted\u001b[0m"
      ]
     },
     "metadata": {},
     "output_type": "display_data"
    }
   ],
   "source": [
    "select(df, :gw_eui, :timestamp_utc_iso_string)"
   ]
  },
  {
   "cell_type": "code",
   "execution_count": 134,
   "metadata": {},
   "outputs": [
    {
     "data": {
      "text/html": [
       "<div><div style = \"float: left;\"><span>76321×3 DataFrame</span></div><div style = \"float: right;\"><span style = \"font-style: italic;\">76296 rows omitted</span></div><div style = \"clear: both;\"></div></div><div class = \"data-frame\" style = \"overflow-x: scroll;\"><table class = \"data-frame\" style = \"margin-bottom: 6px;\"><thead><tr class = \"header\"><th class = \"rowNumber\" style = \"font-weight: bold; text-align: right;\">Row</th><th style = \"text-align: left;\">gw_eui</th><th style = \"text-align: left;\">timestamp_utc_iso_string</th><th style = \"text-align: left;\">signal_quality</th></tr><tr class = \"subheader headerLastRow\"><th class = \"rowNumber\" style = \"font-weight: bold; text-align: right;\"></th><th title = \"String31\" style = \"text-align: left;\">String31</th><th title = \"String31\" style = \"text-align: left;\">String31</th><th title = \"String31\" style = \"text-align: left;\">String31</th></tr></thead><tbody><tr><td class = \"rowNumber\" style = \"font-weight: bold; text-align: right;\">1</td><td style = \"text-align: left;\">7076FF0056060728</td><td style = \"text-align: left;\">2022-03-16 03:10:48</td><td style = \"text-align: left;\">Poor</td></tr><tr><td class = \"rowNumber\" style = \"font-weight: bold; text-align: right;\">2</td><td style = \"text-align: left;\">7076FF0056060728</td><td style = \"text-align: left;\">2022-03-16 03:22:19</td><td style = \"text-align: left;\">Poor</td></tr><tr><td class = \"rowNumber\" style = \"font-weight: bold; text-align: right;\">3</td><td style = \"text-align: left;\">7076FF0056060728</td><td style = \"text-align: left;\">2022-03-16 05:41:10</td><td style = \"text-align: left;\">Fair</td></tr><tr><td class = \"rowNumber\" style = \"font-weight: bold; text-align: right;\">4</td><td style = \"text-align: left;\">7076FF0056060728</td><td style = \"text-align: left;\">2022-03-16 05:43:30</td><td style = \"text-align: left;\">Fair</td></tr><tr><td class = \"rowNumber\" style = \"font-weight: bold; text-align: right;\">5</td><td style = \"text-align: left;\">7076FF0056060728</td><td style = \"text-align: left;\">2022-03-16 12:18:26</td><td style = \"text-align: left;\">Fair</td></tr><tr><td class = \"rowNumber\" style = \"font-weight: bold; text-align: right;\">6</td><td style = \"text-align: left;\">7076FF0056060728</td><td style = \"text-align: left;\">2022-03-16 15:38:22</td><td style = \"text-align: left;\">Fair</td></tr><tr><td class = \"rowNumber\" style = \"font-weight: bold; text-align: right;\">7</td><td style = \"text-align: left;\">7076FF0056060728</td><td style = \"text-align: left;\">2022-03-16 23:57:15</td><td style = \"text-align: left;\">Fair</td></tr><tr><td class = \"rowNumber\" style = \"font-weight: bold; text-align: right;\">8</td><td style = \"text-align: left;\">7076FF0056060728</td><td style = \"text-align: left;\">2022-03-16 23:59:34</td><td style = \"text-align: left;\">Fair</td></tr><tr><td class = \"rowNumber\" style = \"font-weight: bold; text-align: right;\">9</td><td style = \"text-align: left;\">7076FF0056060728</td><td style = \"text-align: left;\">2022-03-17 00:01:53</td><td style = \"text-align: left;\">Fair</td></tr><tr><td class = \"rowNumber\" style = \"font-weight: bold; text-align: right;\">10</td><td style = \"text-align: left;\">7076FF0056060728</td><td style = \"text-align: left;\">2022-03-17 00:04:12</td><td style = \"text-align: left;\">Fair</td></tr><tr><td class = \"rowNumber\" style = \"font-weight: bold; text-align: right;\">11</td><td style = \"text-align: left;\">7076FF0056060728</td><td style = \"text-align: left;\">2022-03-17 19:05:30</td><td style = \"text-align: left;\">Fair</td></tr><tr><td class = \"rowNumber\" style = \"font-weight: bold; text-align: right;\">12</td><td style = \"text-align: left;\">7076FF0056060728</td><td style = \"text-align: left;\">2022-03-17 23:00:17</td><td style = \"text-align: left;\">Fair</td></tr><tr><td class = \"rowNumber\" style = \"font-weight: bold; text-align: right;\">13</td><td style = \"text-align: left;\">7076FF0056060728</td><td style = \"text-align: left;\">2022-03-17 23:37:14</td><td style = \"text-align: left;\">Fair</td></tr><tr><td style = \"text-align: right;\">&vellip;</td><td style = \"text-align: right;\">&vellip;</td><td style = \"text-align: right;\">&vellip;</td><td style = \"text-align: right;\">&vellip;</td></tr><tr><td class = \"rowNumber\" style = \"font-weight: bold; text-align: right;\">76310</td><td style = \"text-align: left;\">7276FF000B03183D</td><td style = \"text-align: left;\">2023-05-11 08:39:18</td><td style = \"text-align: left;\">Very Poor</td></tr><tr><td class = \"rowNumber\" style = \"font-weight: bold; text-align: right;\">76311</td><td style = \"text-align: left;\">7276FF000B03183D</td><td style = \"text-align: left;\">2023-05-11 08:47:06</td><td style = \"text-align: left;\">Good</td></tr><tr><td class = \"rowNumber\" style = \"font-weight: bold; text-align: right;\">76312</td><td style = \"text-align: left;\">7276FF000B03183D</td><td style = \"text-align: left;\">2023-05-11 18:31:16</td><td style = \"text-align: left;\">Very Poor</td></tr><tr><td class = \"rowNumber\" style = \"font-weight: bold; text-align: right;\">76313</td><td style = \"text-align: left;\">7276FF000B03183D</td><td style = \"text-align: left;\">2023-05-12 08:51:56</td><td style = \"text-align: left;\">Good</td></tr><tr><td class = \"rowNumber\" style = \"font-weight: bold; text-align: right;\">76314</td><td style = \"text-align: left;\">7276FF000B03183D</td><td style = \"text-align: left;\">2023-05-12 12:21:47</td><td style = \"text-align: left;\">Very Poor</td></tr><tr><td class = \"rowNumber\" style = \"font-weight: bold; text-align: right;\">76315</td><td style = \"text-align: left;\">7276FF000B03183D</td><td style = \"text-align: left;\">2023-05-15 09:50:48</td><td style = \"text-align: left;\">Very Poor</td></tr><tr><td class = \"rowNumber\" style = \"font-weight: bold; text-align: right;\">76316</td><td style = \"text-align: left;\">7276FF000B03183D</td><td style = \"text-align: left;\">2023-05-18 12:19:37</td><td style = \"text-align: left;\">Very Poor</td></tr><tr><td class = \"rowNumber\" style = \"font-weight: bold; text-align: right;\">76317</td><td style = \"text-align: left;\">7276FF000B03183D</td><td style = \"text-align: left;\">2023-05-18 12:42:28</td><td style = \"text-align: left;\">Very Poor</td></tr><tr><td class = \"rowNumber\" style = \"font-weight: bold; text-align: right;\">76318</td><td style = \"text-align: left;\">7276FF000B03183D</td><td style = \"text-align: left;\">2023-05-18 19:50:44</td><td style = \"text-align: left;\">Very Poor</td></tr><tr><td class = \"rowNumber\" style = \"font-weight: bold; text-align: right;\">76319</td><td style = \"text-align: left;\">7276FF000B03183D</td><td style = \"text-align: left;\">2023-05-20 19:56:53</td><td style = \"text-align: left;\">Very Poor</td></tr><tr><td class = \"rowNumber\" style = \"font-weight: bold; text-align: right;\">76320</td><td style = \"text-align: left;\">7276FF000B03183D</td><td style = \"text-align: left;\">2023-06-02 08:36:03</td><td style = \"text-align: left;\">Very Poor</td></tr><tr><td class = \"rowNumber\" style = \"font-weight: bold; text-align: right;\">76321</td><td style = \"text-align: left;\">7276FF000B03183D</td><td style = \"text-align: left;\">2023-06-22 11:46:52</td><td style = \"text-align: left;\">Good Signal Quality</td></tr></tbody></table></div>"
      ],
      "text/latex": [
       "\\begin{tabular}{r|ccc}\n",
       "\t& gw\\_eui & timestamp\\_utc\\_iso\\_string & signal\\_quality\\\\\n",
       "\t\\hline\n",
       "\t& String31 & String31 & String31\\\\\n",
       "\t\\hline\n",
       "\t1 & 7076FF0056060728 & 2022-03-16 03:10:48 & Poor \\\\\n",
       "\t2 & 7076FF0056060728 & 2022-03-16 03:22:19 & Poor \\\\\n",
       "\t3 & 7076FF0056060728 & 2022-03-16 05:41:10 & Fair \\\\\n",
       "\t4 & 7076FF0056060728 & 2022-03-16 05:43:30 & Fair \\\\\n",
       "\t5 & 7076FF0056060728 & 2022-03-16 12:18:26 & Fair \\\\\n",
       "\t6 & 7076FF0056060728 & 2022-03-16 15:38:22 & Fair \\\\\n",
       "\t7 & 7076FF0056060728 & 2022-03-16 23:57:15 & Fair \\\\\n",
       "\t8 & 7076FF0056060728 & 2022-03-16 23:59:34 & Fair \\\\\n",
       "\t9 & 7076FF0056060728 & 2022-03-17 00:01:53 & Fair \\\\\n",
       "\t10 & 7076FF0056060728 & 2022-03-17 00:04:12 & Fair \\\\\n",
       "\t11 & 7076FF0056060728 & 2022-03-17 19:05:30 & Fair \\\\\n",
       "\t12 & 7076FF0056060728 & 2022-03-17 23:00:17 & Fair \\\\\n",
       "\t13 & 7076FF0056060728 & 2022-03-17 23:37:14 & Fair \\\\\n",
       "\t14 & 7076FF0056060728 & 2022-03-17 23:44:09 & Fair \\\\\n",
       "\t15 & 7076FF0056060728 & 2022-03-18 00:46:35 & Fair \\\\\n",
       "\t16 & 7076FF0056060728 & 2022-03-18 00:55:48 & Fair \\\\\n",
       "\t17 & 7076FF0056060728 & 2022-03-18 01:05:01 & Fair \\\\\n",
       "\t18 & 7076FF0056060728 & 2022-03-18 01:09:38 & Fair \\\\\n",
       "\t19 & 7076FF0056060728 & 2022-03-18 01:12:00 & Fair \\\\\n",
       "\t20 & 7076FF0056060728 & 2022-03-18 01:23:30 & Fair \\\\\n",
       "\t21 & 7076FF0056060728 & 2022-03-18 01:25:49 & Fair \\\\\n",
       "\t22 & 7076FF0056060728 & 2022-03-18 01:32:43 & Fair \\\\\n",
       "\t23 & 7076FF0056060728 & 2022-03-18 01:35:01 & Fair \\\\\n",
       "\t24 & 7076FF0056060728 & 2022-03-18 01:46:30 & Fair \\\\\n",
       "\t$\\dots$ & $\\dots$ & $\\dots$ & $\\dots$ \\\\\n",
       "\\end{tabular}\n"
      ],
      "text/plain": [
       "\u001b[1m76321×3 DataFrame\u001b[0m\n",
       "\u001b[1m   Row \u001b[0m│\u001b[1m gw_eui           \u001b[0m\u001b[1m timestamp_utc_iso_string \u001b[0m\u001b[1m signal_quality      \u001b[0m\n",
       "       │\u001b[90m String31         \u001b[0m\u001b[90m String31                 \u001b[0m\u001b[90m String31            \u001b[0m\n",
       "───────┼─────────────────────────────────────────────────────────────────\n",
       "     1 │ 7076FF0056060728  2022-03-16 03:10:48       Poor\n",
       "     2 │ 7076FF0056060728  2022-03-16 03:22:19       Poor\n",
       "     3 │ 7076FF0056060728  2022-03-16 05:41:10       Fair\n",
       "     4 │ 7076FF0056060728  2022-03-16 05:43:30       Fair\n",
       "     5 │ 7076FF0056060728  2022-03-16 12:18:26       Fair\n",
       "     6 │ 7076FF0056060728  2022-03-16 15:38:22       Fair\n",
       "     7 │ 7076FF0056060728  2022-03-16 23:57:15       Fair\n",
       "     8 │ 7076FF0056060728  2022-03-16 23:59:34       Fair\n",
       "   ⋮   │        ⋮                     ⋮                       ⋮\n",
       " 76315 │ 7276FF000B03183D  2023-05-15 09:50:48       Very Poor\n",
       " 76316 │ 7276FF000B03183D  2023-05-18 12:19:37       Very Poor\n",
       " 76317 │ 7276FF000B03183D  2023-05-18 12:42:28       Very Poor\n",
       " 76318 │ 7276FF000B03183D  2023-05-18 19:50:44       Very Poor\n",
       " 76319 │ 7276FF000B03183D  2023-05-20 19:56:53       Very Poor\n",
       " 76320 │ 7276FF000B03183D  2023-06-02 08:36:03       Very Poor\n",
       " 76321 │ 7276FF000B03183D  2023-06-22 11:46:52       Good Signal Quality\n",
       "\u001b[36m                                                       76306 rows omitted\u001b[0m"
      ]
     },
     "metadata": {},
     "output_type": "display_data"
    }
   ],
   "source": [
    "select(df, :gw_eui, :timestamp_utc_iso_string, :signal_quality)"
   ]
  },
  {
   "cell_type": "code",
   "execution_count": 135,
   "metadata": {},
   "outputs": [
    {
     "data": {
      "text/html": [
       "<div><div style = \"float: left;\"><span>76321×11 DataFrame</span></div><div style = \"float: right;\"><span style = \"font-style: italic;\">76296 rows omitted</span></div><div style = \"clear: both;\"></div></div><div class = \"data-frame\" style = \"overflow-x: scroll;\"><table class = \"data-frame\" style = \"margin-bottom: 6px;\"><thead><tr class = \"header\"><th class = \"rowNumber\" style = \"font-weight: bold; text-align: right;\">Row</th><th style = \"text-align: left;\">Column1</th><th style = \"text-align: left;\">dev_eui</th><th style = \"text-align: left;\">gw_eui</th><th style = \"text-align: left;\">timestamp_utc_iso_string</th><th style = \"text-align: left;\">rssi_dbm</th><th style = \"text-align: left;\">snr_db</th><th style = \"text-align: left;\">dev_lon_deg_wgs84</th><th style = \"text-align: left;\">dev_lat_deg_wgs84</th><th style = \"text-align: left;\">gw_lon_deg_wgs84</th><th style = \"text-align: left;\">gw_lat_deg_wgs84</th><th style = \"text-align: left;\">signal_quality</th></tr><tr class = \"subheader headerLastRow\"><th class = \"rowNumber\" style = \"font-weight: bold; text-align: right;\"></th><th title = \"Int64\" style = \"text-align: left;\">Int64</th><th title = \"String31\" style = \"text-align: left;\">String31</th><th title = \"String31\" style = \"text-align: left;\">String31</th><th title = \"String31\" style = \"text-align: left;\">String31</th><th title = \"Int64\" style = \"text-align: left;\">Int64</th><th title = \"Float64\" style = \"text-align: left;\">Float64</th><th title = \"Float64\" style = \"text-align: left;\">Float64</th><th title = \"Float64\" style = \"text-align: left;\">Float64</th><th title = \"Float64\" style = \"text-align: left;\">Float64</th><th title = \"Float64\" style = \"text-align: left;\">Float64</th><th title = \"String31\" style = \"text-align: left;\">String31</th></tr></thead><tbody><tr><td class = \"rowNumber\" style = \"font-weight: bold; text-align: right;\">1</td><td style = \"text-align: right;\">0</td><td style = \"text-align: left;\">0200000000000000</td><td style = \"text-align: left;\">7076FF0056060728</td><td style = \"text-align: left;\">2022-03-16 03:10:48</td><td style = \"text-align: right;\">-112</td><td style = \"text-align: right;\">6.2</td><td style = \"text-align: right;\">-27.2673</td><td style = \"text-align: right;\">38.6557</td><td style = \"text-align: right;\">0.0</td><td style = \"text-align: right;\">0.0</td><td style = \"text-align: left;\">Poor</td></tr><tr><td class = \"rowNumber\" style = \"font-weight: bold; text-align: right;\">2</td><td style = \"text-align: right;\">1</td><td style = \"text-align: left;\">0200000000000000</td><td style = \"text-align: left;\">7076FF0056060728</td><td style = \"text-align: left;\">2022-03-16 03:22:19</td><td style = \"text-align: right;\">-120</td><td style = \"text-align: right;\">0.2</td><td style = \"text-align: right;\">-27.2675</td><td style = \"text-align: right;\">38.6555</td><td style = \"text-align: right;\">0.0</td><td style = \"text-align: right;\">0.0</td><td style = \"text-align: left;\">Poor</td></tr><tr><td class = \"rowNumber\" style = \"font-weight: bold; text-align: right;\">3</td><td style = \"text-align: right;\">2</td><td style = \"text-align: left;\">0200000000000000</td><td style = \"text-align: left;\">7076FF0056060728</td><td style = \"text-align: left;\">2022-03-16 05:41:10</td><td style = \"text-align: right;\">-100</td><td style = \"text-align: right;\">10.2</td><td style = \"text-align: right;\">-27.2671</td><td style = \"text-align: right;\">38.6556</td><td style = \"text-align: right;\">0.0</td><td style = \"text-align: right;\">0.0</td><td style = \"text-align: left;\">Fair</td></tr><tr><td class = \"rowNumber\" style = \"font-weight: bold; text-align: right;\">4</td><td style = \"text-align: right;\">3</td><td style = \"text-align: left;\">0200000000000000</td><td style = \"text-align: left;\">7076FF0056060728</td><td style = \"text-align: left;\">2022-03-16 05:43:30</td><td style = \"text-align: right;\">-105</td><td style = \"text-align: right;\">9.2</td><td style = \"text-align: right;\">-27.2672</td><td style = \"text-align: right;\">38.6554</td><td style = \"text-align: right;\">0.0</td><td style = \"text-align: right;\">0.0</td><td style = \"text-align: left;\">Fair</td></tr><tr><td class = \"rowNumber\" style = \"font-weight: bold; text-align: right;\">5</td><td style = \"text-align: right;\">4</td><td style = \"text-align: left;\">0200000000000000</td><td style = \"text-align: left;\">7076FF0056060728</td><td style = \"text-align: left;\">2022-03-16 12:18:26</td><td style = \"text-align: right;\">-105</td><td style = \"text-align: right;\">8.2</td><td style = \"text-align: right;\">-27.2666</td><td style = \"text-align: right;\">38.6562</td><td style = \"text-align: right;\">0.0</td><td style = \"text-align: right;\">0.0</td><td style = \"text-align: left;\">Fair</td></tr><tr><td class = \"rowNumber\" style = \"font-weight: bold; text-align: right;\">6</td><td style = \"text-align: right;\">5</td><td style = \"text-align: left;\">0200000000000000</td><td style = \"text-align: left;\">7076FF0056060728</td><td style = \"text-align: left;\">2022-03-16 15:38:22</td><td style = \"text-align: right;\">-102</td><td style = \"text-align: right;\">9.8</td><td style = \"text-align: right;\">-27.2673</td><td style = \"text-align: right;\">38.6556</td><td style = \"text-align: right;\">0.0</td><td style = \"text-align: right;\">0.0</td><td style = \"text-align: left;\">Fair</td></tr><tr><td class = \"rowNumber\" style = \"font-weight: bold; text-align: right;\">7</td><td style = \"text-align: right;\">6</td><td style = \"text-align: left;\">0200000000000000</td><td style = \"text-align: left;\">7076FF0056060728</td><td style = \"text-align: left;\">2022-03-16 23:57:15</td><td style = \"text-align: right;\">-108</td><td style = \"text-align: right;\">8.2</td><td style = \"text-align: right;\">-27.2668</td><td style = \"text-align: right;\">38.6561</td><td style = \"text-align: right;\">0.0</td><td style = \"text-align: right;\">0.0</td><td style = \"text-align: left;\">Fair</td></tr><tr><td class = \"rowNumber\" style = \"font-weight: bold; text-align: right;\">8</td><td style = \"text-align: right;\">7</td><td style = \"text-align: left;\">0200000000000000</td><td style = \"text-align: left;\">7076FF0056060728</td><td style = \"text-align: left;\">2022-03-16 23:59:34</td><td style = \"text-align: right;\">-105</td><td style = \"text-align: right;\">8.0</td><td style = \"text-align: right;\">-27.267</td><td style = \"text-align: right;\">38.6561</td><td style = \"text-align: right;\">0.0</td><td style = \"text-align: right;\">0.0</td><td style = \"text-align: left;\">Fair</td></tr><tr><td class = \"rowNumber\" style = \"font-weight: bold; text-align: right;\">9</td><td style = \"text-align: right;\">8</td><td style = \"text-align: left;\">0200000000000000</td><td style = \"text-align: left;\">7076FF0056060728</td><td style = \"text-align: left;\">2022-03-17 00:01:53</td><td style = \"text-align: right;\">-107</td><td style = \"text-align: right;\">8.0</td><td style = \"text-align: right;\">-27.267</td><td style = \"text-align: right;\">38.656</td><td style = \"text-align: right;\">0.0</td><td style = \"text-align: right;\">0.0</td><td style = \"text-align: left;\">Fair</td></tr><tr><td class = \"rowNumber\" style = \"font-weight: bold; text-align: right;\">10</td><td style = \"text-align: right;\">9</td><td style = \"text-align: left;\">0200000000000000</td><td style = \"text-align: left;\">7076FF0056060728</td><td style = \"text-align: left;\">2022-03-17 00:04:12</td><td style = \"text-align: right;\">-105</td><td style = \"text-align: right;\">9.2</td><td style = \"text-align: right;\">-27.2671</td><td style = \"text-align: right;\">38.6558</td><td style = \"text-align: right;\">0.0</td><td style = \"text-align: right;\">0.0</td><td style = \"text-align: left;\">Fair</td></tr><tr><td class = \"rowNumber\" style = \"font-weight: bold; text-align: right;\">11</td><td style = \"text-align: right;\">10</td><td style = \"text-align: left;\">0200000000000000</td><td style = \"text-align: left;\">7076FF0056060728</td><td style = \"text-align: left;\">2022-03-17 19:05:30</td><td style = \"text-align: right;\">-102</td><td style = \"text-align: right;\">9.0</td><td style = \"text-align: right;\">-27.2671</td><td style = \"text-align: right;\">38.6557</td><td style = \"text-align: right;\">0.0</td><td style = \"text-align: right;\">0.0</td><td style = \"text-align: left;\">Fair</td></tr><tr><td class = \"rowNumber\" style = \"font-weight: bold; text-align: right;\">12</td><td style = \"text-align: right;\">11</td><td style = \"text-align: left;\">0200000000000000</td><td style = \"text-align: left;\">7076FF0056060728</td><td style = \"text-align: left;\">2022-03-17 23:00:17</td><td style = \"text-align: right;\">-101</td><td style = \"text-align: right;\">8.8</td><td style = \"text-align: right;\">-27.2671</td><td style = \"text-align: right;\">38.6552</td><td style = \"text-align: right;\">0.0</td><td style = \"text-align: right;\">0.0</td><td style = \"text-align: left;\">Fair</td></tr><tr><td class = \"rowNumber\" style = \"font-weight: bold; text-align: right;\">13</td><td style = \"text-align: right;\">12</td><td style = \"text-align: left;\">0200000000000000</td><td style = \"text-align: left;\">7076FF0056060728</td><td style = \"text-align: left;\">2022-03-17 23:37:14</td><td style = \"text-align: right;\">-105</td><td style = \"text-align: right;\">9.5</td><td style = \"text-align: right;\">-27.2671</td><td style = \"text-align: right;\">38.6554</td><td style = \"text-align: right;\">0.0</td><td style = \"text-align: right;\">0.0</td><td style = \"text-align: left;\">Fair</td></tr><tr><td style = \"text-align: right;\">&vellip;</td><td style = \"text-align: right;\">&vellip;</td><td style = \"text-align: right;\">&vellip;</td><td style = \"text-align: right;\">&vellip;</td><td style = \"text-align: right;\">&vellip;</td><td style = \"text-align: right;\">&vellip;</td><td style = \"text-align: right;\">&vellip;</td><td style = \"text-align: right;\">&vellip;</td><td style = \"text-align: right;\">&vellip;</td><td style = \"text-align: right;\">&vellip;</td><td style = \"text-align: right;\">&vellip;</td><td style = \"text-align: right;\">&vellip;</td></tr><tr><td class = \"rowNumber\" style = \"font-weight: bold; text-align: right;\">76310</td><td style = \"text-align: right;\">76309</td><td style = \"text-align: left;\">70B3D5705000B993</td><td style = \"text-align: left;\">7276FF000B03183D</td><td style = \"text-align: left;\">2023-05-11 08:39:18</td><td style = \"text-align: right;\">-127</td><td style = \"text-align: right;\">-18.2</td><td style = \"text-align: right;\">-27.2133</td><td style = \"text-align: right;\">38.6612</td><td style = \"text-align: right;\">0.0</td><td style = \"text-align: right;\">0.0</td><td style = \"text-align: left;\">Very Poor</td></tr><tr><td class = \"rowNumber\" style = \"font-weight: bold; text-align: right;\">76311</td><td style = \"text-align: right;\">76310</td><td style = \"text-align: left;\">70B3D5705000B993</td><td style = \"text-align: left;\">7276FF000B03183D</td><td style = \"text-align: left;\">2023-05-11 08:47:06</td><td style = \"text-align: right;\">-93</td><td style = \"text-align: right;\">5.8</td><td style = \"text-align: right;\">-27.1831</td><td style = \"text-align: right;\">38.6925</td><td style = \"text-align: right;\">0.0</td><td style = \"text-align: right;\">0.0</td><td style = \"text-align: left;\">Good</td></tr><tr><td class = \"rowNumber\" style = \"font-weight: bold; text-align: right;\">76312</td><td style = \"text-align: right;\">76311</td><td style = \"text-align: left;\">70B3D5705000B993</td><td style = \"text-align: left;\">7276FF000B03183D</td><td style = \"text-align: left;\">2023-05-11 18:31:16</td><td style = \"text-align: right;\">-125</td><td style = \"text-align: right;\">-8.8</td><td style = \"text-align: right;\">-27.206</td><td style = \"text-align: right;\">38.6814</td><td style = \"text-align: right;\">0.0</td><td style = \"text-align: right;\">0.0</td><td style = \"text-align: left;\">Very Poor</td></tr><tr><td class = \"rowNumber\" style = \"font-weight: bold; text-align: right;\">76313</td><td style = \"text-align: right;\">76312</td><td style = \"text-align: left;\">70B3D5705000B993</td><td style = \"text-align: left;\">7276FF000B03183D</td><td style = \"text-align: left;\">2023-05-12 08:51:56</td><td style = \"text-align: right;\">-90</td><td style = \"text-align: right;\">11.5</td><td style = \"text-align: right;\">-27.1878</td><td style = \"text-align: right;\">38.6891</td><td style = \"text-align: right;\">0.0</td><td style = \"text-align: right;\">0.0</td><td style = \"text-align: left;\">Good</td></tr><tr><td class = \"rowNumber\" style = \"font-weight: bold; text-align: right;\">76314</td><td style = \"text-align: right;\">76313</td><td style = \"text-align: left;\">70B3D5705000B993</td><td style = \"text-align: left;\">7276FF000B03183D</td><td style = \"text-align: left;\">2023-05-12 12:21:47</td><td style = \"text-align: right;\">-127</td><td style = \"text-align: right;\">-15.8</td><td style = \"text-align: right;\">-27.2137</td><td style = \"text-align: right;\">38.6763</td><td style = \"text-align: right;\">0.0</td><td style = \"text-align: right;\">0.0</td><td style = \"text-align: left;\">Very Poor</td></tr><tr><td class = \"rowNumber\" style = \"font-weight: bold; text-align: right;\">76315</td><td style = \"text-align: right;\">76314</td><td style = \"text-align: left;\">70B3D5705000B993</td><td style = \"text-align: left;\">7276FF000B03183D</td><td style = \"text-align: left;\">2023-05-15 09:50:48</td><td style = \"text-align: right;\">-126</td><td style = \"text-align: right;\">-18.2</td><td style = \"text-align: right;\">-27.2122</td><td style = \"text-align: right;\">38.6619</td><td style = \"text-align: right;\">0.0</td><td style = \"text-align: right;\">0.0</td><td style = \"text-align: left;\">Very Poor</td></tr><tr><td class = \"rowNumber\" style = \"font-weight: bold; text-align: right;\">76316</td><td style = \"text-align: right;\">76315</td><td style = \"text-align: left;\">70B3D5705000B993</td><td style = \"text-align: left;\">7276FF000B03183D</td><td style = \"text-align: left;\">2023-05-18 12:19:37</td><td style = \"text-align: right;\">-126</td><td style = \"text-align: right;\">-11.5</td><td style = \"text-align: right;\">-27.2075</td><td style = \"text-align: right;\">38.678</td><td style = \"text-align: right;\">0.0</td><td style = \"text-align: right;\">0.0</td><td style = \"text-align: left;\">Very Poor</td></tr><tr><td class = \"rowNumber\" style = \"font-weight: bold; text-align: right;\">76317</td><td style = \"text-align: right;\">76316</td><td style = \"text-align: left;\">70B3D5705000B993</td><td style = \"text-align: left;\">7276FF000B03183D</td><td style = \"text-align: left;\">2023-05-18 12:42:28</td><td style = \"text-align: right;\">-123</td><td style = \"text-align: right;\">-12.0</td><td style = \"text-align: right;\">-27.2155</td><td style = \"text-align: right;\">38.668</td><td style = \"text-align: right;\">0.0</td><td style = \"text-align: right;\">0.0</td><td style = \"text-align: left;\">Very Poor</td></tr><tr><td class = \"rowNumber\" style = \"font-weight: bold; text-align: right;\">76318</td><td style = \"text-align: right;\">76317</td><td style = \"text-align: left;\">70B3D5705000B993</td><td style = \"text-align: left;\">7276FF000B03183D</td><td style = \"text-align: left;\">2023-05-18 19:50:44</td><td style = \"text-align: right;\">-126</td><td style = \"text-align: right;\">-8.8</td><td style = \"text-align: right;\">-27.2113</td><td style = \"text-align: right;\">38.6753</td><td style = \"text-align: right;\">0.0</td><td style = \"text-align: right;\">0.0</td><td style = \"text-align: left;\">Very Poor</td></tr><tr><td class = \"rowNumber\" style = \"font-weight: bold; text-align: right;\">76319</td><td style = \"text-align: right;\">76318</td><td style = \"text-align: left;\">70B3D5705000B993</td><td style = \"text-align: left;\">7276FF000B03183D</td><td style = \"text-align: left;\">2023-05-20 19:56:53</td><td style = \"text-align: right;\">-124</td><td style = \"text-align: right;\">-17.0</td><td style = \"text-align: right;\">-27.2165</td><td style = \"text-align: right;\">38.6678</td><td style = \"text-align: right;\">0.0</td><td style = \"text-align: right;\">0.0</td><td style = \"text-align: left;\">Very Poor</td></tr><tr><td class = \"rowNumber\" style = \"font-weight: bold; text-align: right;\">76320</td><td style = \"text-align: right;\">76319</td><td style = \"text-align: left;\">70B3D5705000B993</td><td style = \"text-align: left;\">7276FF000B03183D</td><td style = \"text-align: left;\">2023-06-02 08:36:03</td><td style = \"text-align: right;\">-125</td><td style = \"text-align: right;\">-12.0</td><td style = \"text-align: right;\">-27.2134</td><td style = \"text-align: right;\">38.6613</td><td style = \"text-align: right;\">0.0</td><td style = \"text-align: right;\">0.0</td><td style = \"text-align: left;\">Very Poor</td></tr><tr><td class = \"rowNumber\" style = \"font-weight: bold; text-align: right;\">76321</td><td style = \"text-align: right;\">76320</td><td style = \"text-align: left;\">70B3D5705000B993</td><td style = \"text-align: left;\">7276FF000B03183D</td><td style = \"text-align: left;\">2023-06-22 11:46:52</td><td style = \"text-align: right;\">-92</td><td style = \"text-align: right;\">10.0</td><td style = \"text-align: right;\">-27.1781</td><td style = \"text-align: right;\">38.696</td><td style = \"text-align: right;\">0.0</td><td style = \"text-align: right;\">0.0</td><td style = \"text-align: left;\">Good Signal Quality</td></tr></tbody></table></div>"
      ],
      "text/latex": [
       "\\begin{tabular}{r|cccccc}\n",
       "\t& Column1 & dev\\_eui & gw\\_eui & timestamp\\_utc\\_iso\\_string & rssi\\_dbm & \\\\\n",
       "\t\\hline\n",
       "\t& Int64 & String31 & String31 & String31 & Int64 & \\\\\n",
       "\t\\hline\n",
       "\t1 & 0 & 0200000000000000 & 7076FF0056060728 & 2022-03-16 03:10:48 & -112 & $\\dots$ \\\\\n",
       "\t2 & 1 & 0200000000000000 & 7076FF0056060728 & 2022-03-16 03:22:19 & -120 & $\\dots$ \\\\\n",
       "\t3 & 2 & 0200000000000000 & 7076FF0056060728 & 2022-03-16 05:41:10 & -100 & $\\dots$ \\\\\n",
       "\t4 & 3 & 0200000000000000 & 7076FF0056060728 & 2022-03-16 05:43:30 & -105 & $\\dots$ \\\\\n",
       "\t5 & 4 & 0200000000000000 & 7076FF0056060728 & 2022-03-16 12:18:26 & -105 & $\\dots$ \\\\\n",
       "\t6 & 5 & 0200000000000000 & 7076FF0056060728 & 2022-03-16 15:38:22 & -102 & $\\dots$ \\\\\n",
       "\t7 & 6 & 0200000000000000 & 7076FF0056060728 & 2022-03-16 23:57:15 & -108 & $\\dots$ \\\\\n",
       "\t8 & 7 & 0200000000000000 & 7076FF0056060728 & 2022-03-16 23:59:34 & -105 & $\\dots$ \\\\\n",
       "\t9 & 8 & 0200000000000000 & 7076FF0056060728 & 2022-03-17 00:01:53 & -107 & $\\dots$ \\\\\n",
       "\t10 & 9 & 0200000000000000 & 7076FF0056060728 & 2022-03-17 00:04:12 & -105 & $\\dots$ \\\\\n",
       "\t11 & 10 & 0200000000000000 & 7076FF0056060728 & 2022-03-17 19:05:30 & -102 & $\\dots$ \\\\\n",
       "\t12 & 11 & 0200000000000000 & 7076FF0056060728 & 2022-03-17 23:00:17 & -101 & $\\dots$ \\\\\n",
       "\t13 & 12 & 0200000000000000 & 7076FF0056060728 & 2022-03-17 23:37:14 & -105 & $\\dots$ \\\\\n",
       "\t14 & 13 & 0200000000000000 & 7076FF0056060728 & 2022-03-17 23:44:09 & -101 & $\\dots$ \\\\\n",
       "\t15 & 14 & 0200000000000000 & 7076FF0056060728 & 2022-03-18 00:46:35 & -103 & $\\dots$ \\\\\n",
       "\t16 & 15 & 0200000000000000 & 7076FF0056060728 & 2022-03-18 00:55:48 & -103 & $\\dots$ \\\\\n",
       "\t17 & 16 & 0200000000000000 & 7076FF0056060728 & 2022-03-18 01:05:01 & -106 & $\\dots$ \\\\\n",
       "\t18 & 17 & 0200000000000000 & 7076FF0056060728 & 2022-03-18 01:09:38 & -102 & $\\dots$ \\\\\n",
       "\t19 & 18 & 0200000000000000 & 7076FF0056060728 & 2022-03-18 01:12:00 & -100 & $\\dots$ \\\\\n",
       "\t20 & 19 & 0200000000000000 & 7076FF0056060728 & 2022-03-18 01:23:30 & -108 & $\\dots$ \\\\\n",
       "\t21 & 20 & 0200000000000000 & 7076FF0056060728 & 2022-03-18 01:25:49 & -104 & $\\dots$ \\\\\n",
       "\t22 & 21 & 0200000000000000 & 7076FF0056060728 & 2022-03-18 01:32:43 & -101 & $\\dots$ \\\\\n",
       "\t23 & 22 & 0200000000000000 & 7076FF0056060728 & 2022-03-18 01:35:01 & -102 & $\\dots$ \\\\\n",
       "\t24 & 23 & 0200000000000000 & 7076FF0056060728 & 2022-03-18 01:46:30 & -102 & $\\dots$ \\\\\n",
       "\t$\\dots$ & $\\dots$ & $\\dots$ & $\\dots$ & $\\dots$ & $\\dots$ &  \\\\\n",
       "\\end{tabular}\n"
      ],
      "text/plain": [
       "\u001b[1m76321×11 DataFrame\u001b[0m\n",
       "\u001b[1m   Row \u001b[0m│\u001b[1m Column1 \u001b[0m\u001b[1m dev_eui          \u001b[0m\u001b[1m gw_eui           \u001b[0m\u001b[1m timestamp_utc_iso_string\u001b[0m ⋯\n",
       "       │\u001b[90m Int64   \u001b[0m\u001b[90m String31         \u001b[0m\u001b[90m String31         \u001b[0m\u001b[90m String31                \u001b[0m ⋯\n",
       "───────┼────────────────────────────────────────────────────────────────────────\n",
       "     1 │       0  0200000000000000  7076FF0056060728  2022-03-16 03:10:48      ⋯\n",
       "     2 │       1  0200000000000000  7076FF0056060728  2022-03-16 03:22:19\n",
       "     3 │       2  0200000000000000  7076FF0056060728  2022-03-16 05:41:10\n",
       "     4 │       3  0200000000000000  7076FF0056060728  2022-03-16 05:43:30\n",
       "     5 │       4  0200000000000000  7076FF0056060728  2022-03-16 12:18:26      ⋯\n",
       "     6 │       5  0200000000000000  7076FF0056060728  2022-03-16 15:38:22\n",
       "     7 │       6  0200000000000000  7076FF0056060728  2022-03-16 23:57:15\n",
       "     8 │       7  0200000000000000  7076FF0056060728  2022-03-16 23:59:34\n",
       "   ⋮   │    ⋮            ⋮                 ⋮                     ⋮             ⋱\n",
       " 76315 │   76314  70B3D5705000B993  7276FF000B03183D  2023-05-15 09:50:48      ⋯\n",
       " 76316 │   76315  70B3D5705000B993  7276FF000B03183D  2023-05-18 12:19:37\n",
       " 76317 │   76316  70B3D5705000B993  7276FF000B03183D  2023-05-18 12:42:28\n",
       " 76318 │   76317  70B3D5705000B993  7276FF000B03183D  2023-05-18 19:50:44\n",
       " 76319 │   76318  70B3D5705000B993  7276FF000B03183D  2023-05-20 19:56:53      ⋯\n",
       " 76320 │   76319  70B3D5705000B993  7276FF000B03183D  2023-06-02 08:36:03\n",
       " 76321 │   76320  70B3D5705000B993  7276FF000B03183D  2023-06-22 11:46:52\n",
       "\u001b[36m                                                7 columns and 76306 rows omitted\u001b[0m"
      ]
     },
     "metadata": {},
     "output_type": "display_data"
    }
   ],
   "source": [
    "select(df, Not(:battery_v))"
   ]
  },
  {
   "cell_type": "code",
   "execution_count": 136,
   "metadata": {},
   "outputs": [
    {
     "data": {
      "text/html": [
       "<div><div style = \"float: left;\"><span>76321×10 DataFrame</span></div><div style = \"float: right;\"><span style = \"font-style: italic;\">76296 rows omitted</span></div><div style = \"clear: both;\"></div></div><div class = \"data-frame\" style = \"overflow-x: scroll;\"><table class = \"data-frame\" style = \"margin-bottom: 6px;\"><thead><tr class = \"header\"><th class = \"rowNumber\" style = \"font-weight: bold; text-align: right;\">Row</th><th style = \"text-align: left;\">Column1</th><th style = \"text-align: left;\">dev_eui</th><th style = \"text-align: left;\">gw_eui</th><th style = \"text-align: left;\">timestamp_utc_iso_string</th><th style = \"text-align: left;\">rssi_dbm</th><th style = \"text-align: left;\">snr_db</th><th style = \"text-align: left;\">battery_v</th><th style = \"text-align: left;\">gw_lon_deg_wgs84</th><th style = \"text-align: left;\">gw_lat_deg_wgs84</th><th style = \"text-align: left;\">signal_quality</th></tr><tr class = \"subheader headerLastRow\"><th class = \"rowNumber\" style = \"font-weight: bold; text-align: right;\"></th><th title = \"Int64\" style = \"text-align: left;\">Int64</th><th title = \"String31\" style = \"text-align: left;\">String31</th><th title = \"String31\" style = \"text-align: left;\">String31</th><th title = \"String31\" style = \"text-align: left;\">String31</th><th title = \"Int64\" style = \"text-align: left;\">Int64</th><th title = \"Float64\" style = \"text-align: left;\">Float64</th><th title = \"Float64\" style = \"text-align: left;\">Float64</th><th title = \"Float64\" style = \"text-align: left;\">Float64</th><th title = \"Float64\" style = \"text-align: left;\">Float64</th><th title = \"String31\" style = \"text-align: left;\">String31</th></tr></thead><tbody><tr><td class = \"rowNumber\" style = \"font-weight: bold; text-align: right;\">1</td><td style = \"text-align: right;\">0</td><td style = \"text-align: left;\">0200000000000000</td><td style = \"text-align: left;\">7076FF0056060728</td><td style = \"text-align: left;\">2022-03-16 03:10:48</td><td style = \"text-align: right;\">-112</td><td style = \"text-align: right;\">6.2</td><td style = \"text-align: right;\">0.0</td><td style = \"text-align: right;\">0.0</td><td style = \"text-align: right;\">0.0</td><td style = \"text-align: left;\">Poor</td></tr><tr><td class = \"rowNumber\" style = \"font-weight: bold; text-align: right;\">2</td><td style = \"text-align: right;\">1</td><td style = \"text-align: left;\">0200000000000000</td><td style = \"text-align: left;\">7076FF0056060728</td><td style = \"text-align: left;\">2022-03-16 03:22:19</td><td style = \"text-align: right;\">-120</td><td style = \"text-align: right;\">0.2</td><td style = \"text-align: right;\">0.0</td><td style = \"text-align: right;\">0.0</td><td style = \"text-align: right;\">0.0</td><td style = \"text-align: left;\">Poor</td></tr><tr><td class = \"rowNumber\" style = \"font-weight: bold; text-align: right;\">3</td><td style = \"text-align: right;\">2</td><td style = \"text-align: left;\">0200000000000000</td><td style = \"text-align: left;\">7076FF0056060728</td><td style = \"text-align: left;\">2022-03-16 05:41:10</td><td style = \"text-align: right;\">-100</td><td style = \"text-align: right;\">10.2</td><td style = \"text-align: right;\">0.0</td><td style = \"text-align: right;\">0.0</td><td style = \"text-align: right;\">0.0</td><td style = \"text-align: left;\">Fair</td></tr><tr><td class = \"rowNumber\" style = \"font-weight: bold; text-align: right;\">4</td><td style = \"text-align: right;\">3</td><td style = \"text-align: left;\">0200000000000000</td><td style = \"text-align: left;\">7076FF0056060728</td><td style = \"text-align: left;\">2022-03-16 05:43:30</td><td style = \"text-align: right;\">-105</td><td style = \"text-align: right;\">9.2</td><td style = \"text-align: right;\">0.0</td><td style = \"text-align: right;\">0.0</td><td style = \"text-align: right;\">0.0</td><td style = \"text-align: left;\">Fair</td></tr><tr><td class = \"rowNumber\" style = \"font-weight: bold; text-align: right;\">5</td><td style = \"text-align: right;\">4</td><td style = \"text-align: left;\">0200000000000000</td><td style = \"text-align: left;\">7076FF0056060728</td><td style = \"text-align: left;\">2022-03-16 12:18:26</td><td style = \"text-align: right;\">-105</td><td style = \"text-align: right;\">8.2</td><td style = \"text-align: right;\">0.0</td><td style = \"text-align: right;\">0.0</td><td style = \"text-align: right;\">0.0</td><td style = \"text-align: left;\">Fair</td></tr><tr><td class = \"rowNumber\" style = \"font-weight: bold; text-align: right;\">6</td><td style = \"text-align: right;\">5</td><td style = \"text-align: left;\">0200000000000000</td><td style = \"text-align: left;\">7076FF0056060728</td><td style = \"text-align: left;\">2022-03-16 15:38:22</td><td style = \"text-align: right;\">-102</td><td style = \"text-align: right;\">9.8</td><td style = \"text-align: right;\">0.0</td><td style = \"text-align: right;\">0.0</td><td style = \"text-align: right;\">0.0</td><td style = \"text-align: left;\">Fair</td></tr><tr><td class = \"rowNumber\" style = \"font-weight: bold; text-align: right;\">7</td><td style = \"text-align: right;\">6</td><td style = \"text-align: left;\">0200000000000000</td><td style = \"text-align: left;\">7076FF0056060728</td><td style = \"text-align: left;\">2022-03-16 23:57:15</td><td style = \"text-align: right;\">-108</td><td style = \"text-align: right;\">8.2</td><td style = \"text-align: right;\">0.0</td><td style = \"text-align: right;\">0.0</td><td style = \"text-align: right;\">0.0</td><td style = \"text-align: left;\">Fair</td></tr><tr><td class = \"rowNumber\" style = \"font-weight: bold; text-align: right;\">8</td><td style = \"text-align: right;\">7</td><td style = \"text-align: left;\">0200000000000000</td><td style = \"text-align: left;\">7076FF0056060728</td><td style = \"text-align: left;\">2022-03-16 23:59:34</td><td style = \"text-align: right;\">-105</td><td style = \"text-align: right;\">8.0</td><td style = \"text-align: right;\">0.0</td><td style = \"text-align: right;\">0.0</td><td style = \"text-align: right;\">0.0</td><td style = \"text-align: left;\">Fair</td></tr><tr><td class = \"rowNumber\" style = \"font-weight: bold; text-align: right;\">9</td><td style = \"text-align: right;\">8</td><td style = \"text-align: left;\">0200000000000000</td><td style = \"text-align: left;\">7076FF0056060728</td><td style = \"text-align: left;\">2022-03-17 00:01:53</td><td style = \"text-align: right;\">-107</td><td style = \"text-align: right;\">8.0</td><td style = \"text-align: right;\">0.0</td><td style = \"text-align: right;\">0.0</td><td style = \"text-align: right;\">0.0</td><td style = \"text-align: left;\">Fair</td></tr><tr><td class = \"rowNumber\" style = \"font-weight: bold; text-align: right;\">10</td><td style = \"text-align: right;\">9</td><td style = \"text-align: left;\">0200000000000000</td><td style = \"text-align: left;\">7076FF0056060728</td><td style = \"text-align: left;\">2022-03-17 00:04:12</td><td style = \"text-align: right;\">-105</td><td style = \"text-align: right;\">9.2</td><td style = \"text-align: right;\">0.0</td><td style = \"text-align: right;\">0.0</td><td style = \"text-align: right;\">0.0</td><td style = \"text-align: left;\">Fair</td></tr><tr><td class = \"rowNumber\" style = \"font-weight: bold; text-align: right;\">11</td><td style = \"text-align: right;\">10</td><td style = \"text-align: left;\">0200000000000000</td><td style = \"text-align: left;\">7076FF0056060728</td><td style = \"text-align: left;\">2022-03-17 19:05:30</td><td style = \"text-align: right;\">-102</td><td style = \"text-align: right;\">9.0</td><td style = \"text-align: right;\">0.0</td><td style = \"text-align: right;\">0.0</td><td style = \"text-align: right;\">0.0</td><td style = \"text-align: left;\">Fair</td></tr><tr><td class = \"rowNumber\" style = \"font-weight: bold; text-align: right;\">12</td><td style = \"text-align: right;\">11</td><td style = \"text-align: left;\">0200000000000000</td><td style = \"text-align: left;\">7076FF0056060728</td><td style = \"text-align: left;\">2022-03-17 23:00:17</td><td style = \"text-align: right;\">-101</td><td style = \"text-align: right;\">8.8</td><td style = \"text-align: right;\">0.0</td><td style = \"text-align: right;\">0.0</td><td style = \"text-align: right;\">0.0</td><td style = \"text-align: left;\">Fair</td></tr><tr><td class = \"rowNumber\" style = \"font-weight: bold; text-align: right;\">13</td><td style = \"text-align: right;\">12</td><td style = \"text-align: left;\">0200000000000000</td><td style = \"text-align: left;\">7076FF0056060728</td><td style = \"text-align: left;\">2022-03-17 23:37:14</td><td style = \"text-align: right;\">-105</td><td style = \"text-align: right;\">9.5</td><td style = \"text-align: right;\">0.0</td><td style = \"text-align: right;\">0.0</td><td style = \"text-align: right;\">0.0</td><td style = \"text-align: left;\">Fair</td></tr><tr><td style = \"text-align: right;\">&vellip;</td><td style = \"text-align: right;\">&vellip;</td><td style = \"text-align: right;\">&vellip;</td><td style = \"text-align: right;\">&vellip;</td><td style = \"text-align: right;\">&vellip;</td><td style = \"text-align: right;\">&vellip;</td><td style = \"text-align: right;\">&vellip;</td><td style = \"text-align: right;\">&vellip;</td><td style = \"text-align: right;\">&vellip;</td><td style = \"text-align: right;\">&vellip;</td><td style = \"text-align: right;\">&vellip;</td></tr><tr><td class = \"rowNumber\" style = \"font-weight: bold; text-align: right;\">76310</td><td style = \"text-align: right;\">76309</td><td style = \"text-align: left;\">70B3D5705000B993</td><td style = \"text-align: left;\">7276FF000B03183D</td><td style = \"text-align: left;\">2023-05-11 08:39:18</td><td style = \"text-align: right;\">-127</td><td style = \"text-align: right;\">-18.2</td><td style = \"text-align: right;\">4.3</td><td style = \"text-align: right;\">0.0</td><td style = \"text-align: right;\">0.0</td><td style = \"text-align: left;\">Very Poor</td></tr><tr><td class = \"rowNumber\" style = \"font-weight: bold; text-align: right;\">76311</td><td style = \"text-align: right;\">76310</td><td style = \"text-align: left;\">70B3D5705000B993</td><td style = \"text-align: left;\">7276FF000B03183D</td><td style = \"text-align: left;\">2023-05-11 08:47:06</td><td style = \"text-align: right;\">-93</td><td style = \"text-align: right;\">5.8</td><td style = \"text-align: right;\">4.3</td><td style = \"text-align: right;\">0.0</td><td style = \"text-align: right;\">0.0</td><td style = \"text-align: left;\">Good</td></tr><tr><td class = \"rowNumber\" style = \"font-weight: bold; text-align: right;\">76312</td><td style = \"text-align: right;\">76311</td><td style = \"text-align: left;\">70B3D5705000B993</td><td style = \"text-align: left;\">7276FF000B03183D</td><td style = \"text-align: left;\">2023-05-11 18:31:16</td><td style = \"text-align: right;\">-125</td><td style = \"text-align: right;\">-8.8</td><td style = \"text-align: right;\">4.3</td><td style = \"text-align: right;\">0.0</td><td style = \"text-align: right;\">0.0</td><td style = \"text-align: left;\">Very Poor</td></tr><tr><td class = \"rowNumber\" style = \"font-weight: bold; text-align: right;\">76313</td><td style = \"text-align: right;\">76312</td><td style = \"text-align: left;\">70B3D5705000B993</td><td style = \"text-align: left;\">7276FF000B03183D</td><td style = \"text-align: left;\">2023-05-12 08:51:56</td><td style = \"text-align: right;\">-90</td><td style = \"text-align: right;\">11.5</td><td style = \"text-align: right;\">4.3</td><td style = \"text-align: right;\">0.0</td><td style = \"text-align: right;\">0.0</td><td style = \"text-align: left;\">Good</td></tr><tr><td class = \"rowNumber\" style = \"font-weight: bold; text-align: right;\">76314</td><td style = \"text-align: right;\">76313</td><td style = \"text-align: left;\">70B3D5705000B993</td><td style = \"text-align: left;\">7276FF000B03183D</td><td style = \"text-align: left;\">2023-05-12 12:21:47</td><td style = \"text-align: right;\">-127</td><td style = \"text-align: right;\">-15.8</td><td style = \"text-align: right;\">4.3</td><td style = \"text-align: right;\">0.0</td><td style = \"text-align: right;\">0.0</td><td style = \"text-align: left;\">Very Poor</td></tr><tr><td class = \"rowNumber\" style = \"font-weight: bold; text-align: right;\">76315</td><td style = \"text-align: right;\">76314</td><td style = \"text-align: left;\">70B3D5705000B993</td><td style = \"text-align: left;\">7276FF000B03183D</td><td style = \"text-align: left;\">2023-05-15 09:50:48</td><td style = \"text-align: right;\">-126</td><td style = \"text-align: right;\">-18.2</td><td style = \"text-align: right;\">4.3</td><td style = \"text-align: right;\">0.0</td><td style = \"text-align: right;\">0.0</td><td style = \"text-align: left;\">Very Poor</td></tr><tr><td class = \"rowNumber\" style = \"font-weight: bold; text-align: right;\">76316</td><td style = \"text-align: right;\">76315</td><td style = \"text-align: left;\">70B3D5705000B993</td><td style = \"text-align: left;\">7276FF000B03183D</td><td style = \"text-align: left;\">2023-05-18 12:19:37</td><td style = \"text-align: right;\">-126</td><td style = \"text-align: right;\">-11.5</td><td style = \"text-align: right;\">4.33</td><td style = \"text-align: right;\">0.0</td><td style = \"text-align: right;\">0.0</td><td style = \"text-align: left;\">Very Poor</td></tr><tr><td class = \"rowNumber\" style = \"font-weight: bold; text-align: right;\">76317</td><td style = \"text-align: right;\">76316</td><td style = \"text-align: left;\">70B3D5705000B993</td><td style = \"text-align: left;\">7276FF000B03183D</td><td style = \"text-align: left;\">2023-05-18 12:42:28</td><td style = \"text-align: right;\">-123</td><td style = \"text-align: right;\">-12.0</td><td style = \"text-align: right;\">4.33</td><td style = \"text-align: right;\">0.0</td><td style = \"text-align: right;\">0.0</td><td style = \"text-align: left;\">Very Poor</td></tr><tr><td class = \"rowNumber\" style = \"font-weight: bold; text-align: right;\">76318</td><td style = \"text-align: right;\">76317</td><td style = \"text-align: left;\">70B3D5705000B993</td><td style = \"text-align: left;\">7276FF000B03183D</td><td style = \"text-align: left;\">2023-05-18 19:50:44</td><td style = \"text-align: right;\">-126</td><td style = \"text-align: right;\">-8.8</td><td style = \"text-align: right;\">4.33</td><td style = \"text-align: right;\">0.0</td><td style = \"text-align: right;\">0.0</td><td style = \"text-align: left;\">Very Poor</td></tr><tr><td class = \"rowNumber\" style = \"font-weight: bold; text-align: right;\">76319</td><td style = \"text-align: right;\">76318</td><td style = \"text-align: left;\">70B3D5705000B993</td><td style = \"text-align: left;\">7276FF000B03183D</td><td style = \"text-align: left;\">2023-05-20 19:56:53</td><td style = \"text-align: right;\">-124</td><td style = \"text-align: right;\">-17.0</td><td style = \"text-align: right;\">4.28</td><td style = \"text-align: right;\">0.0</td><td style = \"text-align: right;\">0.0</td><td style = \"text-align: left;\">Very Poor</td></tr><tr><td class = \"rowNumber\" style = \"font-weight: bold; text-align: right;\">76320</td><td style = \"text-align: right;\">76319</td><td style = \"text-align: left;\">70B3D5705000B993</td><td style = \"text-align: left;\">7276FF000B03183D</td><td style = \"text-align: left;\">2023-06-02 08:36:03</td><td style = \"text-align: right;\">-125</td><td style = \"text-align: right;\">-12.0</td><td style = \"text-align: right;\">4.2</td><td style = \"text-align: right;\">0.0</td><td style = \"text-align: right;\">0.0</td><td style = \"text-align: left;\">Very Poor</td></tr><tr><td class = \"rowNumber\" style = \"font-weight: bold; text-align: right;\">76321</td><td style = \"text-align: right;\">76320</td><td style = \"text-align: left;\">70B3D5705000B993</td><td style = \"text-align: left;\">7276FF000B03183D</td><td style = \"text-align: left;\">2023-06-22 11:46:52</td><td style = \"text-align: right;\">-92</td><td style = \"text-align: right;\">10.0</td><td style = \"text-align: right;\">4.05</td><td style = \"text-align: right;\">0.0</td><td style = \"text-align: right;\">0.0</td><td style = \"text-align: left;\">Good Signal Quality</td></tr></tbody></table></div>"
      ],
      "text/latex": [
       "\\begin{tabular}{r|cccccc}\n",
       "\t& Column1 & dev\\_eui & gw\\_eui & timestamp\\_utc\\_iso\\_string & rssi\\_dbm & \\\\\n",
       "\t\\hline\n",
       "\t& Int64 & String31 & String31 & String31 & Int64 & \\\\\n",
       "\t\\hline\n",
       "\t1 & 0 & 0200000000000000 & 7076FF0056060728 & 2022-03-16 03:10:48 & -112 & $\\dots$ \\\\\n",
       "\t2 & 1 & 0200000000000000 & 7076FF0056060728 & 2022-03-16 03:22:19 & -120 & $\\dots$ \\\\\n",
       "\t3 & 2 & 0200000000000000 & 7076FF0056060728 & 2022-03-16 05:41:10 & -100 & $\\dots$ \\\\\n",
       "\t4 & 3 & 0200000000000000 & 7076FF0056060728 & 2022-03-16 05:43:30 & -105 & $\\dots$ \\\\\n",
       "\t5 & 4 & 0200000000000000 & 7076FF0056060728 & 2022-03-16 12:18:26 & -105 & $\\dots$ \\\\\n",
       "\t6 & 5 & 0200000000000000 & 7076FF0056060728 & 2022-03-16 15:38:22 & -102 & $\\dots$ \\\\\n",
       "\t7 & 6 & 0200000000000000 & 7076FF0056060728 & 2022-03-16 23:57:15 & -108 & $\\dots$ \\\\\n",
       "\t8 & 7 & 0200000000000000 & 7076FF0056060728 & 2022-03-16 23:59:34 & -105 & $\\dots$ \\\\\n",
       "\t9 & 8 & 0200000000000000 & 7076FF0056060728 & 2022-03-17 00:01:53 & -107 & $\\dots$ \\\\\n",
       "\t10 & 9 & 0200000000000000 & 7076FF0056060728 & 2022-03-17 00:04:12 & -105 & $\\dots$ \\\\\n",
       "\t11 & 10 & 0200000000000000 & 7076FF0056060728 & 2022-03-17 19:05:30 & -102 & $\\dots$ \\\\\n",
       "\t12 & 11 & 0200000000000000 & 7076FF0056060728 & 2022-03-17 23:00:17 & -101 & $\\dots$ \\\\\n",
       "\t13 & 12 & 0200000000000000 & 7076FF0056060728 & 2022-03-17 23:37:14 & -105 & $\\dots$ \\\\\n",
       "\t14 & 13 & 0200000000000000 & 7076FF0056060728 & 2022-03-17 23:44:09 & -101 & $\\dots$ \\\\\n",
       "\t15 & 14 & 0200000000000000 & 7076FF0056060728 & 2022-03-18 00:46:35 & -103 & $\\dots$ \\\\\n",
       "\t16 & 15 & 0200000000000000 & 7076FF0056060728 & 2022-03-18 00:55:48 & -103 & $\\dots$ \\\\\n",
       "\t17 & 16 & 0200000000000000 & 7076FF0056060728 & 2022-03-18 01:05:01 & -106 & $\\dots$ \\\\\n",
       "\t18 & 17 & 0200000000000000 & 7076FF0056060728 & 2022-03-18 01:09:38 & -102 & $\\dots$ \\\\\n",
       "\t19 & 18 & 0200000000000000 & 7076FF0056060728 & 2022-03-18 01:12:00 & -100 & $\\dots$ \\\\\n",
       "\t20 & 19 & 0200000000000000 & 7076FF0056060728 & 2022-03-18 01:23:30 & -108 & $\\dots$ \\\\\n",
       "\t21 & 20 & 0200000000000000 & 7076FF0056060728 & 2022-03-18 01:25:49 & -104 & $\\dots$ \\\\\n",
       "\t22 & 21 & 0200000000000000 & 7076FF0056060728 & 2022-03-18 01:32:43 & -101 & $\\dots$ \\\\\n",
       "\t23 & 22 & 0200000000000000 & 7076FF0056060728 & 2022-03-18 01:35:01 & -102 & $\\dots$ \\\\\n",
       "\t24 & 23 & 0200000000000000 & 7076FF0056060728 & 2022-03-18 01:46:30 & -102 & $\\dots$ \\\\\n",
       "\t$\\dots$ & $\\dots$ & $\\dots$ & $\\dots$ & $\\dots$ & $\\dots$ &  \\\\\n",
       "\\end{tabular}\n"
      ],
      "text/plain": [
       "\u001b[1m76321×10 DataFrame\u001b[0m\n",
       "\u001b[1m   Row \u001b[0m│\u001b[1m Column1 \u001b[0m\u001b[1m dev_eui          \u001b[0m\u001b[1m gw_eui           \u001b[0m\u001b[1m timestamp_utc_iso_string\u001b[0m ⋯\n",
       "       │\u001b[90m Int64   \u001b[0m\u001b[90m String31         \u001b[0m\u001b[90m String31         \u001b[0m\u001b[90m String31                \u001b[0m ⋯\n",
       "───────┼────────────────────────────────────────────────────────────────────────\n",
       "     1 │       0  0200000000000000  7076FF0056060728  2022-03-16 03:10:48      ⋯\n",
       "     2 │       1  0200000000000000  7076FF0056060728  2022-03-16 03:22:19\n",
       "     3 │       2  0200000000000000  7076FF0056060728  2022-03-16 05:41:10\n",
       "     4 │       3  0200000000000000  7076FF0056060728  2022-03-16 05:43:30\n",
       "     5 │       4  0200000000000000  7076FF0056060728  2022-03-16 12:18:26      ⋯\n",
       "     6 │       5  0200000000000000  7076FF0056060728  2022-03-16 15:38:22\n",
       "     7 │       6  0200000000000000  7076FF0056060728  2022-03-16 23:57:15\n",
       "     8 │       7  0200000000000000  7076FF0056060728  2022-03-16 23:59:34\n",
       "   ⋮   │    ⋮            ⋮                 ⋮                     ⋮             ⋱\n",
       " 76315 │   76314  70B3D5705000B993  7276FF000B03183D  2023-05-15 09:50:48      ⋯\n",
       " 76316 │   76315  70B3D5705000B993  7276FF000B03183D  2023-05-18 12:19:37\n",
       " 76317 │   76316  70B3D5705000B993  7276FF000B03183D  2023-05-18 12:42:28\n",
       " 76318 │   76317  70B3D5705000B993  7276FF000B03183D  2023-05-18 19:50:44\n",
       " 76319 │   76318  70B3D5705000B993  7276FF000B03183D  2023-05-20 19:56:53      ⋯\n",
       " 76320 │   76319  70B3D5705000B993  7276FF000B03183D  2023-06-02 08:36:03\n",
       " 76321 │   76320  70B3D5705000B993  7276FF000B03183D  2023-06-22 11:46:52\n",
       "\u001b[36m                                                6 columns and 76306 rows omitted\u001b[0m"
      ]
     },
     "metadata": {},
     "output_type": "display_data"
    }
   ],
   "source": [
    "select(df, Not([:dev_lon_deg_wgs84, :dev_lat_deg_wgs84]))"
   ]
  },
  {
   "cell_type": "markdown",
   "metadata": {},
   "source": [
    "**Categorical data**"
   ]
  },
  {
   "cell_type": "code",
   "execution_count": 137,
   "metadata": {},
   "outputs": [
    {
     "name": "stderr",
     "output_type": "stream",
     "text": [
      "\u001b[32m\u001b[1m   Resolving\u001b[22m\u001b[39m package versions...\n"
     ]
    },
    {
     "name": "stderr",
     "output_type": "stream",
     "text": [
      "\u001b[32m\u001b[1m  No Changes\u001b[22m\u001b[39m to `~/Desktop/coding/juliaeo24_notebook/Project.toml`\n",
      "\u001b[32m\u001b[1m  No Changes\u001b[22m\u001b[39m to `~/Desktop/coding/juliaeo24_notebook/Manifest.toml`\n"
     ]
    }
   ],
   "source": [
    "import Pkg; Pkg.add(\"CategoricalArrays\")"
   ]
  },
  {
   "cell_type": "code",
   "execution_count": 138,
   "metadata": {},
   "outputs": [],
   "source": [
    "using CategoricalArrays \n",
    "Pkg.instantiate()"
   ]
  },
  {
   "cell_type": "code",
   "execution_count": 139,
   "metadata": {},
   "outputs": [
    {
     "data": {
      "text/html": [
       "<div><div style = \"float: left;\"><span>76321×12 DataFrame</span></div><div style = \"float: right;\"><span style = \"font-style: italic;\">76296 rows omitted</span></div><div style = \"clear: both;\"></div></div><div class = \"data-frame\" style = \"overflow-x: scroll;\"><table class = \"data-frame\" style = \"margin-bottom: 6px;\"><thead><tr class = \"header\"><th class = \"rowNumber\" style = \"font-weight: bold; text-align: right;\">Row</th><th style = \"text-align: left;\">Column1</th><th style = \"text-align: left;\">dev_eui</th><th style = \"text-align: left;\">gw_eui</th><th style = \"text-align: left;\">timestamp_utc_iso_string</th><th style = \"text-align: left;\">rssi_dbm</th><th style = \"text-align: left;\">snr_db</th><th style = \"text-align: left;\">dev_lon_deg_wgs84</th><th style = \"text-align: left;\">dev_lat_deg_wgs84</th><th style = \"text-align: left;\">battery_v</th><th style = \"text-align: left;\">gw_lon_deg_wgs84</th><th style = \"text-align: left;\">gw_lat_deg_wgs84</th><th style = \"text-align: left;\">signal_quality</th></tr><tr class = \"subheader headerLastRow\"><th class = \"rowNumber\" style = \"font-weight: bold; text-align: right;\"></th><th title = \"Int64\" style = \"text-align: left;\">Int64</th><th title = \"String31\" style = \"text-align: left;\">String31</th><th title = \"String31\" style = \"text-align: left;\">String31</th><th title = \"String31\" style = \"text-align: left;\">String31</th><th title = \"Int64\" style = \"text-align: left;\">Int64</th><th title = \"Float64\" style = \"text-align: left;\">Float64</th><th title = \"Float64\" style = \"text-align: left;\">Float64</th><th title = \"Float64\" style = \"text-align: left;\">Float64</th><th title = \"Float64\" style = \"text-align: left;\">Float64</th><th title = \"Float64\" style = \"text-align: left;\">Float64</th><th title = \"Float64\" style = \"text-align: left;\">Float64</th><th title = \"String31\" style = \"text-align: left;\">String31</th></tr></thead><tbody><tr><td class = \"rowNumber\" style = \"font-weight: bold; text-align: right;\">1</td><td style = \"text-align: right;\">21193</td><td style = \"text-align: left;\">0200000000000000</td><td style = \"text-align: left;\">7076FF0056060729</td><td style = \"text-align: left;\">2022-05-07 19:46:37</td><td style = \"text-align: right;\">-54</td><td style = \"text-align: right;\">13.5</td><td style = \"text-align: right;\">-28.3902</td><td style = \"text-align: right;\">38.4219</td><td style = \"text-align: right;\">0.0</td><td style = \"text-align: right;\">0.0</td><td style = \"text-align: right;\">0.0</td><td style = \"text-align: left;\">Excellent</td></tr><tr><td class = \"rowNumber\" style = \"font-weight: bold; text-align: right;\">2</td><td style = \"text-align: right;\">21194</td><td style = \"text-align: left;\">0200000000000000</td><td style = \"text-align: left;\">7076FF0056060729</td><td style = \"text-align: left;\">2022-05-07 19:49:14</td><td style = \"text-align: right;\">-56</td><td style = \"text-align: right;\">12.0</td><td style = \"text-align: right;\">-28.3901</td><td style = \"text-align: right;\">38.4219</td><td style = \"text-align: right;\">0.0</td><td style = \"text-align: right;\">0.0</td><td style = \"text-align: right;\">0.0</td><td style = \"text-align: left;\">Excellent</td></tr><tr><td class = \"rowNumber\" style = \"font-weight: bold; text-align: right;\">3</td><td style = \"text-align: right;\">21195</td><td style = \"text-align: left;\">0200000000000000</td><td style = \"text-align: left;\">7076FF0056060729</td><td style = \"text-align: left;\">2022-05-07 19:51:56</td><td style = \"text-align: right;\">-54</td><td style = \"text-align: right;\">12.2</td><td style = \"text-align: right;\">-28.3901</td><td style = \"text-align: right;\">38.4218</td><td style = \"text-align: right;\">0.0</td><td style = \"text-align: right;\">0.0</td><td style = \"text-align: right;\">0.0</td><td style = \"text-align: left;\">Excellent</td></tr><tr><td class = \"rowNumber\" style = \"font-weight: bold; text-align: right;\">4</td><td style = \"text-align: right;\">21197</td><td style = \"text-align: left;\">0200000000000000</td><td style = \"text-align: left;\">7076FF0056060729</td><td style = \"text-align: left;\">2022-05-09 08:52:11</td><td style = \"text-align: right;\">-58</td><td style = \"text-align: right;\">11.0</td><td style = \"text-align: right;\">-28.3902</td><td style = \"text-align: right;\">38.4218</td><td style = \"text-align: right;\">0.0</td><td style = \"text-align: right;\">0.0</td><td style = \"text-align: right;\">0.0</td><td style = \"text-align: left;\">Excellent</td></tr><tr><td class = \"rowNumber\" style = \"font-weight: bold; text-align: right;\">5</td><td style = \"text-align: right;\">21198</td><td style = \"text-align: left;\">0200000000000000</td><td style = \"text-align: left;\">7076FF0056060729</td><td style = \"text-align: left;\">2022-05-09 08:54:47</td><td style = \"text-align: right;\">-56</td><td style = \"text-align: right;\">11.8</td><td style = \"text-align: right;\">-28.3903</td><td style = \"text-align: right;\">38.4218</td><td style = \"text-align: right;\">0.0</td><td style = \"text-align: right;\">0.0</td><td style = \"text-align: right;\">0.0</td><td style = \"text-align: left;\">Excellent</td></tr><tr><td class = \"rowNumber\" style = \"font-weight: bold; text-align: right;\">6</td><td style = \"text-align: right;\">21200</td><td style = \"text-align: left;\">0200000000000000</td><td style = \"text-align: left;\">7076FF0056060729</td><td style = \"text-align: left;\">2022-05-09 09:00:32</td><td style = \"text-align: right;\">-56</td><td style = \"text-align: right;\">12.2</td><td style = \"text-align: right;\">-28.3903</td><td style = \"text-align: right;\">38.4218</td><td style = \"text-align: right;\">0.0</td><td style = \"text-align: right;\">0.0</td><td style = \"text-align: right;\">0.0</td><td style = \"text-align: left;\">Excellent</td></tr><tr><td class = \"rowNumber\" style = \"font-weight: bold; text-align: right;\">7</td><td style = \"text-align: right;\">21203</td><td style = \"text-align: left;\">0200000000000000</td><td style = \"text-align: left;\">7076FF0056060729</td><td style = \"text-align: left;\">2022-05-12 12:02:22</td><td style = \"text-align: right;\">-54</td><td style = \"text-align: right;\">11.8</td><td style = \"text-align: right;\">-28.3902</td><td style = \"text-align: right;\">38.4218</td><td style = \"text-align: right;\">0.0</td><td style = \"text-align: right;\">0.0</td><td style = \"text-align: right;\">0.0</td><td style = \"text-align: left;\">Excellent</td></tr><tr><td class = \"rowNumber\" style = \"font-weight: bold; text-align: right;\">8</td><td style = \"text-align: right;\">21204</td><td style = \"text-align: left;\">0200000000000000</td><td style = \"text-align: left;\">7076FF0056060729</td><td style = \"text-align: left;\">2022-05-16 13:30:27</td><td style = \"text-align: right;\">-71</td><td style = \"text-align: right;\">11.5</td><td style = \"text-align: right;\">-28.3902</td><td style = \"text-align: right;\">38.4218</td><td style = \"text-align: right;\">0.0</td><td style = \"text-align: right;\">0.0</td><td style = \"text-align: right;\">0.0</td><td style = \"text-align: left;\">Excellent</td></tr><tr><td class = \"rowNumber\" style = \"font-weight: bold; text-align: right;\">9</td><td style = \"text-align: right;\">21205</td><td style = \"text-align: left;\">0200000000000000</td><td style = \"text-align: left;\">7076FF0056060729</td><td style = \"text-align: left;\">2022-05-17 11:44:15</td><td style = \"text-align: right;\">-60</td><td style = \"text-align: right;\">14.0</td><td style = \"text-align: right;\">-28.3903</td><td style = \"text-align: right;\">38.4218</td><td style = \"text-align: right;\">0.0</td><td style = \"text-align: right;\">0.0</td><td style = \"text-align: right;\">0.0</td><td style = \"text-align: left;\">Excellent</td></tr><tr><td class = \"rowNumber\" style = \"font-weight: bold; text-align: right;\">10</td><td style = \"text-align: right;\">21206</td><td style = \"text-align: left;\">0200000000000000</td><td style = \"text-align: left;\">7076FF0056060729</td><td style = \"text-align: left;\">2022-05-17 11:47:35</td><td style = \"text-align: right;\">-59</td><td style = \"text-align: right;\">10.5</td><td style = \"text-align: right;\">-28.3903</td><td style = \"text-align: right;\">38.4219</td><td style = \"text-align: right;\">0.0</td><td style = \"text-align: right;\">0.0</td><td style = \"text-align: right;\">0.0</td><td style = \"text-align: left;\">Excellent</td></tr><tr><td class = \"rowNumber\" style = \"font-weight: bold; text-align: right;\">11</td><td style = \"text-align: right;\">21208</td><td style = \"text-align: left;\">0200000000000000</td><td style = \"text-align: left;\">7076FF0056060729</td><td style = \"text-align: left;\">2022-05-18 12:52:41</td><td style = \"text-align: right;\">-58</td><td style = \"text-align: right;\">13.2</td><td style = \"text-align: right;\">-28.3903</td><td style = \"text-align: right;\">38.4218</td><td style = \"text-align: right;\">0.0</td><td style = \"text-align: right;\">0.0</td><td style = \"text-align: right;\">0.0</td><td style = \"text-align: left;\">Excellent</td></tr><tr><td class = \"rowNumber\" style = \"font-weight: bold; text-align: right;\">12</td><td style = \"text-align: right;\">21209</td><td style = \"text-align: left;\">0200000000000000</td><td style = \"text-align: left;\">7076FF0056060729</td><td style = \"text-align: left;\">2022-05-18 13:01:27</td><td style = \"text-align: right;\">-58</td><td style = \"text-align: right;\">15.5</td><td style = \"text-align: right;\">-28.3902</td><td style = \"text-align: right;\">38.4218</td><td style = \"text-align: right;\">0.0</td><td style = \"text-align: right;\">0.0</td><td style = \"text-align: right;\">0.0</td><td style = \"text-align: left;\">Excellent</td></tr><tr><td class = \"rowNumber\" style = \"font-weight: bold; text-align: right;\">13</td><td style = \"text-align: right;\">21211</td><td style = \"text-align: left;\">0200000000000000</td><td style = \"text-align: left;\">7076FF0056060729</td><td style = \"text-align: left;\">2022-05-18 13:07:36</td><td style = \"text-align: right;\">-57</td><td style = \"text-align: right;\">12.5</td><td style = \"text-align: right;\">-28.3904</td><td style = \"text-align: right;\">38.4218</td><td style = \"text-align: right;\">0.0</td><td style = \"text-align: right;\">0.0</td><td style = \"text-align: right;\">0.0</td><td style = \"text-align: left;\">Excellent</td></tr><tr><td style = \"text-align: right;\">&vellip;</td><td style = \"text-align: right;\">&vellip;</td><td style = \"text-align: right;\">&vellip;</td><td style = \"text-align: right;\">&vellip;</td><td style = \"text-align: right;\">&vellip;</td><td style = \"text-align: right;\">&vellip;</td><td style = \"text-align: right;\">&vellip;</td><td style = \"text-align: right;\">&vellip;</td><td style = \"text-align: right;\">&vellip;</td><td style = \"text-align: right;\">&vellip;</td><td style = \"text-align: right;\">&vellip;</td><td style = \"text-align: right;\">&vellip;</td><td style = \"text-align: right;\">&vellip;</td></tr><tr><td class = \"rowNumber\" style = \"font-weight: bold; text-align: right;\">76310</td><td style = \"text-align: right;\">76303</td><td style = \"text-align: left;\">0200000000000000</td><td style = \"text-align: left;\">7276FF000B03183D</td><td style = \"text-align: left;\">2022-11-08 19:11:56</td><td style = \"text-align: right;\">-126</td><td style = \"text-align: right;\">-4.0</td><td style = \"text-align: right;\">-27.3459</td><td style = \"text-align: right;\">38.5664</td><td style = \"text-align: right;\">0.0</td><td style = \"text-align: right;\">0.0</td><td style = \"text-align: right;\">0.0</td><td style = \"text-align: left;\">Very Poor</td></tr><tr><td class = \"rowNumber\" style = \"font-weight: bold; text-align: right;\">76311</td><td style = \"text-align: right;\">76306</td><td style = \"text-align: left;\">70B3D5705000B993</td><td style = \"text-align: left;\">7276FF000B03183D</td><td style = \"text-align: left;\">2023-05-03 17:11:55</td><td style = \"text-align: right;\">-127</td><td style = \"text-align: right;\">-9.8</td><td style = \"text-align: right;\">-27.2136</td><td style = \"text-align: right;\">38.6606</td><td style = \"text-align: right;\">4.38</td><td style = \"text-align: right;\">0.0</td><td style = \"text-align: right;\">0.0</td><td style = \"text-align: left;\">Very Poor</td></tr><tr><td class = \"rowNumber\" style = \"font-weight: bold; text-align: right;\">76312</td><td style = \"text-align: right;\">76308</td><td style = \"text-align: left;\">70B3D5705000B993</td><td style = \"text-align: left;\">7276FF000B03183D</td><td style = \"text-align: left;\">2023-05-07 18:15:11</td><td style = \"text-align: right;\">-125</td><td style = \"text-align: right;\">-17.5</td><td style = \"text-align: right;\">-27.1832</td><td style = \"text-align: right;\">38.7201</td><td style = \"text-align: right;\">4.33</td><td style = \"text-align: right;\">0.0</td><td style = \"text-align: right;\">0.0</td><td style = \"text-align: left;\">Very Poor</td></tr><tr><td class = \"rowNumber\" style = \"font-weight: bold; text-align: right;\">76313</td><td style = \"text-align: right;\">76309</td><td style = \"text-align: left;\">70B3D5705000B993</td><td style = \"text-align: left;\">7276FF000B03183D</td><td style = \"text-align: left;\">2023-05-11 08:39:18</td><td style = \"text-align: right;\">-127</td><td style = \"text-align: right;\">-18.2</td><td style = \"text-align: right;\">-27.2133</td><td style = \"text-align: right;\">38.6612</td><td style = \"text-align: right;\">4.3</td><td style = \"text-align: right;\">0.0</td><td style = \"text-align: right;\">0.0</td><td style = \"text-align: left;\">Very Poor</td></tr><tr><td class = \"rowNumber\" style = \"font-weight: bold; text-align: right;\">76314</td><td style = \"text-align: right;\">76311</td><td style = \"text-align: left;\">70B3D5705000B993</td><td style = \"text-align: left;\">7276FF000B03183D</td><td style = \"text-align: left;\">2023-05-11 18:31:16</td><td style = \"text-align: right;\">-125</td><td style = \"text-align: right;\">-8.8</td><td style = \"text-align: right;\">-27.206</td><td style = \"text-align: right;\">38.6814</td><td style = \"text-align: right;\">4.3</td><td style = \"text-align: right;\">0.0</td><td style = \"text-align: right;\">0.0</td><td style = \"text-align: left;\">Very Poor</td></tr><tr><td class = \"rowNumber\" style = \"font-weight: bold; text-align: right;\">76315</td><td style = \"text-align: right;\">76313</td><td style = \"text-align: left;\">70B3D5705000B993</td><td style = \"text-align: left;\">7276FF000B03183D</td><td style = \"text-align: left;\">2023-05-12 12:21:47</td><td style = \"text-align: right;\">-127</td><td style = \"text-align: right;\">-15.8</td><td style = \"text-align: right;\">-27.2137</td><td style = \"text-align: right;\">38.6763</td><td style = \"text-align: right;\">4.3</td><td style = \"text-align: right;\">0.0</td><td style = \"text-align: right;\">0.0</td><td style = \"text-align: left;\">Very Poor</td></tr><tr><td class = \"rowNumber\" style = \"font-weight: bold; text-align: right;\">76316</td><td style = \"text-align: right;\">76314</td><td style = \"text-align: left;\">70B3D5705000B993</td><td style = \"text-align: left;\">7276FF000B03183D</td><td style = \"text-align: left;\">2023-05-15 09:50:48</td><td style = \"text-align: right;\">-126</td><td style = \"text-align: right;\">-18.2</td><td style = \"text-align: right;\">-27.2122</td><td style = \"text-align: right;\">38.6619</td><td style = \"text-align: right;\">4.3</td><td style = \"text-align: right;\">0.0</td><td style = \"text-align: right;\">0.0</td><td style = \"text-align: left;\">Very Poor</td></tr><tr><td class = \"rowNumber\" style = \"font-weight: bold; text-align: right;\">76317</td><td style = \"text-align: right;\">76315</td><td style = \"text-align: left;\">70B3D5705000B993</td><td style = \"text-align: left;\">7276FF000B03183D</td><td style = \"text-align: left;\">2023-05-18 12:19:37</td><td style = \"text-align: right;\">-126</td><td style = \"text-align: right;\">-11.5</td><td style = \"text-align: right;\">-27.2075</td><td style = \"text-align: right;\">38.678</td><td style = \"text-align: right;\">4.33</td><td style = \"text-align: right;\">0.0</td><td style = \"text-align: right;\">0.0</td><td style = \"text-align: left;\">Very Poor</td></tr><tr><td class = \"rowNumber\" style = \"font-weight: bold; text-align: right;\">76318</td><td style = \"text-align: right;\">76316</td><td style = \"text-align: left;\">70B3D5705000B993</td><td style = \"text-align: left;\">7276FF000B03183D</td><td style = \"text-align: left;\">2023-05-18 12:42:28</td><td style = \"text-align: right;\">-123</td><td style = \"text-align: right;\">-12.0</td><td style = \"text-align: right;\">-27.2155</td><td style = \"text-align: right;\">38.668</td><td style = \"text-align: right;\">4.33</td><td style = \"text-align: right;\">0.0</td><td style = \"text-align: right;\">0.0</td><td style = \"text-align: left;\">Very Poor</td></tr><tr><td class = \"rowNumber\" style = \"font-weight: bold; text-align: right;\">76319</td><td style = \"text-align: right;\">76317</td><td style = \"text-align: left;\">70B3D5705000B993</td><td style = \"text-align: left;\">7276FF000B03183D</td><td style = \"text-align: left;\">2023-05-18 19:50:44</td><td style = \"text-align: right;\">-126</td><td style = \"text-align: right;\">-8.8</td><td style = \"text-align: right;\">-27.2113</td><td style = \"text-align: right;\">38.6753</td><td style = \"text-align: right;\">4.33</td><td style = \"text-align: right;\">0.0</td><td style = \"text-align: right;\">0.0</td><td style = \"text-align: left;\">Very Poor</td></tr><tr><td class = \"rowNumber\" style = \"font-weight: bold; text-align: right;\">76320</td><td style = \"text-align: right;\">76318</td><td style = \"text-align: left;\">70B3D5705000B993</td><td style = \"text-align: left;\">7276FF000B03183D</td><td style = \"text-align: left;\">2023-05-20 19:56:53</td><td style = \"text-align: right;\">-124</td><td style = \"text-align: right;\">-17.0</td><td style = \"text-align: right;\">-27.2165</td><td style = \"text-align: right;\">38.6678</td><td style = \"text-align: right;\">4.28</td><td style = \"text-align: right;\">0.0</td><td style = \"text-align: right;\">0.0</td><td style = \"text-align: left;\">Very Poor</td></tr><tr><td class = \"rowNumber\" style = \"font-weight: bold; text-align: right;\">76321</td><td style = \"text-align: right;\">76319</td><td style = \"text-align: left;\">70B3D5705000B993</td><td style = \"text-align: left;\">7276FF000B03183D</td><td style = \"text-align: left;\">2023-06-02 08:36:03</td><td style = \"text-align: right;\">-125</td><td style = \"text-align: right;\">-12.0</td><td style = \"text-align: right;\">-27.2134</td><td style = \"text-align: right;\">38.6613</td><td style = \"text-align: right;\">4.2</td><td style = \"text-align: right;\">0.0</td><td style = \"text-align: right;\">0.0</td><td style = \"text-align: left;\">Very Poor</td></tr></tbody></table></div>"
      ],
      "text/latex": [
       "\\begin{tabular}{r|cccccc}\n",
       "\t& Column1 & dev\\_eui & gw\\_eui & timestamp\\_utc\\_iso\\_string & rssi\\_dbm & \\\\\n",
       "\t\\hline\n",
       "\t& Int64 & String31 & String31 & String31 & Int64 & \\\\\n",
       "\t\\hline\n",
       "\t1 & 21193 & 0200000000000000 & 7076FF0056060729 & 2022-05-07 19:46:37 & -54 & $\\dots$ \\\\\n",
       "\t2 & 21194 & 0200000000000000 & 7076FF0056060729 & 2022-05-07 19:49:14 & -56 & $\\dots$ \\\\\n",
       "\t3 & 21195 & 0200000000000000 & 7076FF0056060729 & 2022-05-07 19:51:56 & -54 & $\\dots$ \\\\\n",
       "\t4 & 21197 & 0200000000000000 & 7076FF0056060729 & 2022-05-09 08:52:11 & -58 & $\\dots$ \\\\\n",
       "\t5 & 21198 & 0200000000000000 & 7076FF0056060729 & 2022-05-09 08:54:47 & -56 & $\\dots$ \\\\\n",
       "\t6 & 21200 & 0200000000000000 & 7076FF0056060729 & 2022-05-09 09:00:32 & -56 & $\\dots$ \\\\\n",
       "\t7 & 21203 & 0200000000000000 & 7076FF0056060729 & 2022-05-12 12:02:22 & -54 & $\\dots$ \\\\\n",
       "\t8 & 21204 & 0200000000000000 & 7076FF0056060729 & 2022-05-16 13:30:27 & -71 & $\\dots$ \\\\\n",
       "\t9 & 21205 & 0200000000000000 & 7076FF0056060729 & 2022-05-17 11:44:15 & -60 & $\\dots$ \\\\\n",
       "\t10 & 21206 & 0200000000000000 & 7076FF0056060729 & 2022-05-17 11:47:35 & -59 & $\\dots$ \\\\\n",
       "\t11 & 21208 & 0200000000000000 & 7076FF0056060729 & 2022-05-18 12:52:41 & -58 & $\\dots$ \\\\\n",
       "\t12 & 21209 & 0200000000000000 & 7076FF0056060729 & 2022-05-18 13:01:27 & -58 & $\\dots$ \\\\\n",
       "\t13 & 21211 & 0200000000000000 & 7076FF0056060729 & 2022-05-18 13:07:36 & -57 & $\\dots$ \\\\\n",
       "\t14 & 21212 & 0200000000000000 & 7076FF0056060729 & 2022-05-18 13:10:17 & -57 & $\\dots$ \\\\\n",
       "\t15 & 21213 & 0200000000000000 & 7076FF0056060729 & 2022-05-18 13:12:59 & -63 & $\\dots$ \\\\\n",
       "\t16 & 21215 & 0200000000000000 & 7076FF0056060729 & 2022-05-18 13:18:25 & -69 & $\\dots$ \\\\\n",
       "\t17 & 21216 & 0200000000000000 & 7076FF0056060729 & 2022-05-19 14:21:11 & -64 & $\\dots$ \\\\\n",
       "\t18 & 21218 & 0200000000000000 & 7076FF0056060729 & 2022-05-21 12:08:06 & -84 & $\\dots$ \\\\\n",
       "\t19 & 23296 & 0200000000000000 & 7076FF00560705D1 & 2022-02-24 12:03:21 & -88 & $\\dots$ \\\\\n",
       "\t20 & 23297 & 0200000000000000 & 7076FF00560705D1 & 2022-02-24 12:03:54 & -89 & $\\dots$ \\\\\n",
       "\t21 & 23301 & 0200000000000000 & 7076FF00560705D1 & 2022-02-24 12:31:34 & -84 & $\\dots$ \\\\\n",
       "\t22 & 23304 & 0200000000000000 & 7076FF00560705D1 & 2022-02-24 12:33:14 & -89 & $\\dots$ \\\\\n",
       "\t23 & 23313 & 0200000000000000 & 7076FF00560705D1 & 2022-02-24 13:25:22 & -89 & $\\dots$ \\\\\n",
       "\t24 & 23315 & 0200000000000000 & 7076FF00560705D1 & 2022-02-24 13:26:29 & -88 & $\\dots$ \\\\\n",
       "\t$\\dots$ & $\\dots$ & $\\dots$ & $\\dots$ & $\\dots$ & $\\dots$ &  \\\\\n",
       "\\end{tabular}\n"
      ],
      "text/plain": [
       "\u001b[1m76321×12 DataFrame\u001b[0m\n",
       "\u001b[1m   Row \u001b[0m│\u001b[1m Column1 \u001b[0m\u001b[1m dev_eui          \u001b[0m\u001b[1m gw_eui           \u001b[0m\u001b[1m timestamp_utc_iso_string\u001b[0m ⋯\n",
       "       │\u001b[90m Int64   \u001b[0m\u001b[90m String31         \u001b[0m\u001b[90m String31         \u001b[0m\u001b[90m String31                \u001b[0m ⋯\n",
       "───────┼────────────────────────────────────────────────────────────────────────\n",
       "     1 │   21193  0200000000000000  7076FF0056060729  2022-05-07 19:46:37      ⋯\n",
       "     2 │   21194  0200000000000000  7076FF0056060729  2022-05-07 19:49:14\n",
       "     3 │   21195  0200000000000000  7076FF0056060729  2022-05-07 19:51:56\n",
       "     4 │   21197  0200000000000000  7076FF0056060729  2022-05-09 08:52:11\n",
       "     5 │   21198  0200000000000000  7076FF0056060729  2022-05-09 08:54:47      ⋯\n",
       "     6 │   21200  0200000000000000  7076FF0056060729  2022-05-09 09:00:32\n",
       "     7 │   21203  0200000000000000  7076FF0056060729  2022-05-12 12:02:22\n",
       "     8 │   21204  0200000000000000  7076FF0056060729  2022-05-16 13:30:27\n",
       "   ⋮   │    ⋮            ⋮                 ⋮                     ⋮             ⋱\n",
       " 76315 │   76313  70B3D5705000B993  7276FF000B03183D  2023-05-12 12:21:47      ⋯\n",
       " 76316 │   76314  70B3D5705000B993  7276FF000B03183D  2023-05-15 09:50:48\n",
       " 76317 │   76315  70B3D5705000B993  7276FF000B03183D  2023-05-18 12:19:37\n",
       " 76318 │   76316  70B3D5705000B993  7276FF000B03183D  2023-05-18 12:42:28\n",
       " 76319 │   76317  70B3D5705000B993  7276FF000B03183D  2023-05-18 19:50:44      ⋯\n",
       " 76320 │   76318  70B3D5705000B993  7276FF000B03183D  2023-05-20 19:56:53\n",
       " 76321 │   76319  70B3D5705000B993  7276FF000B03183D  2023-06-02 08:36:03\n",
       "\u001b[36m                                                8 columns and 76306 rows omitted\u001b[0m"
      ]
     },
     "metadata": {},
     "output_type": "display_data"
    }
   ],
   "source": [
    "sort(df, :signal_quality)"
   ]
  },
  {
   "cell_type": "markdown",
   "metadata": {},
   "source": [
    "**Groupby**"
   ]
  },
  {
   "cell_type": "code",
   "execution_count": 140,
   "metadata": {},
   "outputs": [
    {
     "data": {
      "text/html": [
       "<p><b>GroupedDataFrame with 9 groups based on key: gw_eui</b></p><div><div style = \"float: left;\"><span>First Group (21189 rows): gw_eui = &quot;7076FF0056060728&quot;</span></div><div style = \"float: right;\"><span style = \"font-style: italic;\">21164 rows omitted</span></div><div style = \"clear: both;\"></div></div><div class = \"data-frame\" style = \"overflow-x: scroll;\"><table class = \"data-frame\" style = \"margin-bottom: 6px;\"><thead><tr class = \"header\"><th class = \"rowNumber\" style = \"font-weight: bold; text-align: right;\">Row</th><th style = \"text-align: left;\">Column1</th><th style = \"text-align: left;\">dev_eui</th><th style = \"text-align: left;\">gw_eui</th><th style = \"text-align: left;\">timestamp_utc_iso_string</th><th style = \"text-align: left;\">rssi_dbm</th><th style = \"text-align: left;\">snr_db</th><th style = \"text-align: left;\">dev_lon_deg_wgs84</th><th style = \"text-align: left;\">dev_lat_deg_wgs84</th><th style = \"text-align: left;\">battery_v</th><th style = \"text-align: left;\">gw_lon_deg_wgs84</th><th style = \"text-align: left;\">gw_lat_deg_wgs84</th><th style = \"text-align: left;\">signal_quality</th></tr><tr class = \"subheader headerLastRow\"><th class = \"rowNumber\" style = \"font-weight: bold; text-align: right;\"></th><th title = \"Int64\" style = \"text-align: left;\">Int64</th><th title = \"String31\" style = \"text-align: left;\">String31</th><th title = \"String31\" style = \"text-align: left;\">String31</th><th title = \"String31\" style = \"text-align: left;\">String31</th><th title = \"Int64\" style = \"text-align: left;\">Int64</th><th title = \"Float64\" style = \"text-align: left;\">Float64</th><th title = \"Float64\" style = \"text-align: left;\">Float64</th><th title = \"Float64\" style = \"text-align: left;\">Float64</th><th title = \"Float64\" style = \"text-align: left;\">Float64</th><th title = \"Float64\" style = \"text-align: left;\">Float64</th><th title = \"Float64\" style = \"text-align: left;\">Float64</th><th title = \"String31\" style = \"text-align: left;\">String31</th></tr></thead><tbody><tr><td class = \"rowNumber\" style = \"font-weight: bold; text-align: right;\">1</td><td style = \"text-align: right;\">0</td><td style = \"text-align: left;\">0200000000000000</td><td style = \"text-align: left;\">7076FF0056060728</td><td style = \"text-align: left;\">2022-03-16 03:10:48</td><td style = \"text-align: right;\">-112</td><td style = \"text-align: right;\">6.2</td><td style = \"text-align: right;\">-27.2673</td><td style = \"text-align: right;\">38.6557</td><td style = \"text-align: right;\">0.0</td><td style = \"text-align: right;\">0.0</td><td style = \"text-align: right;\">0.0</td><td style = \"text-align: left;\">Poor</td></tr><tr><td class = \"rowNumber\" style = \"font-weight: bold; text-align: right;\">2</td><td style = \"text-align: right;\">1</td><td style = \"text-align: left;\">0200000000000000</td><td style = \"text-align: left;\">7076FF0056060728</td><td style = \"text-align: left;\">2022-03-16 03:22:19</td><td style = \"text-align: right;\">-120</td><td style = \"text-align: right;\">0.2</td><td style = \"text-align: right;\">-27.2675</td><td style = \"text-align: right;\">38.6555</td><td style = \"text-align: right;\">0.0</td><td style = \"text-align: right;\">0.0</td><td style = \"text-align: right;\">0.0</td><td style = \"text-align: left;\">Poor</td></tr><tr><td class = \"rowNumber\" style = \"font-weight: bold; text-align: right;\">3</td><td style = \"text-align: right;\">2</td><td style = \"text-align: left;\">0200000000000000</td><td style = \"text-align: left;\">7076FF0056060728</td><td style = \"text-align: left;\">2022-03-16 05:41:10</td><td style = \"text-align: right;\">-100</td><td style = \"text-align: right;\">10.2</td><td style = \"text-align: right;\">-27.2671</td><td style = \"text-align: right;\">38.6556</td><td style = \"text-align: right;\">0.0</td><td style = \"text-align: right;\">0.0</td><td style = \"text-align: right;\">0.0</td><td style = \"text-align: left;\">Fair</td></tr><tr><td class = \"rowNumber\" style = \"font-weight: bold; text-align: right;\">4</td><td style = \"text-align: right;\">3</td><td style = \"text-align: left;\">0200000000000000</td><td style = \"text-align: left;\">7076FF0056060728</td><td style = \"text-align: left;\">2022-03-16 05:43:30</td><td style = \"text-align: right;\">-105</td><td style = \"text-align: right;\">9.2</td><td style = \"text-align: right;\">-27.2672</td><td style = \"text-align: right;\">38.6554</td><td style = \"text-align: right;\">0.0</td><td style = \"text-align: right;\">0.0</td><td style = \"text-align: right;\">0.0</td><td style = \"text-align: left;\">Fair</td></tr><tr><td class = \"rowNumber\" style = \"font-weight: bold; text-align: right;\">5</td><td style = \"text-align: right;\">4</td><td style = \"text-align: left;\">0200000000000000</td><td style = \"text-align: left;\">7076FF0056060728</td><td style = \"text-align: left;\">2022-03-16 12:18:26</td><td style = \"text-align: right;\">-105</td><td style = \"text-align: right;\">8.2</td><td style = \"text-align: right;\">-27.2666</td><td style = \"text-align: right;\">38.6562</td><td style = \"text-align: right;\">0.0</td><td style = \"text-align: right;\">0.0</td><td style = \"text-align: right;\">0.0</td><td style = \"text-align: left;\">Fair</td></tr><tr><td class = \"rowNumber\" style = \"font-weight: bold; text-align: right;\">6</td><td style = \"text-align: right;\">5</td><td style = \"text-align: left;\">0200000000000000</td><td style = \"text-align: left;\">7076FF0056060728</td><td style = \"text-align: left;\">2022-03-16 15:38:22</td><td style = \"text-align: right;\">-102</td><td style = \"text-align: right;\">9.8</td><td style = \"text-align: right;\">-27.2673</td><td style = \"text-align: right;\">38.6556</td><td style = \"text-align: right;\">0.0</td><td style = \"text-align: right;\">0.0</td><td style = \"text-align: right;\">0.0</td><td style = \"text-align: left;\">Fair</td></tr><tr><td class = \"rowNumber\" style = \"font-weight: bold; text-align: right;\">7</td><td style = \"text-align: right;\">6</td><td style = \"text-align: left;\">0200000000000000</td><td style = \"text-align: left;\">7076FF0056060728</td><td style = \"text-align: left;\">2022-03-16 23:57:15</td><td style = \"text-align: right;\">-108</td><td style = \"text-align: right;\">8.2</td><td style = \"text-align: right;\">-27.2668</td><td style = \"text-align: right;\">38.6561</td><td style = \"text-align: right;\">0.0</td><td style = \"text-align: right;\">0.0</td><td style = \"text-align: right;\">0.0</td><td style = \"text-align: left;\">Fair</td></tr><tr><td class = \"rowNumber\" style = \"font-weight: bold; text-align: right;\">8</td><td style = \"text-align: right;\">7</td><td style = \"text-align: left;\">0200000000000000</td><td style = \"text-align: left;\">7076FF0056060728</td><td style = \"text-align: left;\">2022-03-16 23:59:34</td><td style = \"text-align: right;\">-105</td><td style = \"text-align: right;\">8.0</td><td style = \"text-align: right;\">-27.267</td><td style = \"text-align: right;\">38.6561</td><td style = \"text-align: right;\">0.0</td><td style = \"text-align: right;\">0.0</td><td style = \"text-align: right;\">0.0</td><td style = \"text-align: left;\">Fair</td></tr><tr><td class = \"rowNumber\" style = \"font-weight: bold; text-align: right;\">9</td><td style = \"text-align: right;\">8</td><td style = \"text-align: left;\">0200000000000000</td><td style = \"text-align: left;\">7076FF0056060728</td><td style = \"text-align: left;\">2022-03-17 00:01:53</td><td style = \"text-align: right;\">-107</td><td style = \"text-align: right;\">8.0</td><td style = \"text-align: right;\">-27.267</td><td style = \"text-align: right;\">38.656</td><td style = \"text-align: right;\">0.0</td><td style = \"text-align: right;\">0.0</td><td style = \"text-align: right;\">0.0</td><td style = \"text-align: left;\">Fair</td></tr><tr><td class = \"rowNumber\" style = \"font-weight: bold; text-align: right;\">10</td><td style = \"text-align: right;\">9</td><td style = \"text-align: left;\">0200000000000000</td><td style = \"text-align: left;\">7076FF0056060728</td><td style = \"text-align: left;\">2022-03-17 00:04:12</td><td style = \"text-align: right;\">-105</td><td style = \"text-align: right;\">9.2</td><td style = \"text-align: right;\">-27.2671</td><td style = \"text-align: right;\">38.6558</td><td style = \"text-align: right;\">0.0</td><td style = \"text-align: right;\">0.0</td><td style = \"text-align: right;\">0.0</td><td style = \"text-align: left;\">Fair</td></tr><tr><td class = \"rowNumber\" style = \"font-weight: bold; text-align: right;\">11</td><td style = \"text-align: right;\">10</td><td style = \"text-align: left;\">0200000000000000</td><td style = \"text-align: left;\">7076FF0056060728</td><td style = \"text-align: left;\">2022-03-17 19:05:30</td><td style = \"text-align: right;\">-102</td><td style = \"text-align: right;\">9.0</td><td style = \"text-align: right;\">-27.2671</td><td style = \"text-align: right;\">38.6557</td><td style = \"text-align: right;\">0.0</td><td style = \"text-align: right;\">0.0</td><td style = \"text-align: right;\">0.0</td><td style = \"text-align: left;\">Fair</td></tr><tr><td class = \"rowNumber\" style = \"font-weight: bold; text-align: right;\">12</td><td style = \"text-align: right;\">11</td><td style = \"text-align: left;\">0200000000000000</td><td style = \"text-align: left;\">7076FF0056060728</td><td style = \"text-align: left;\">2022-03-17 23:00:17</td><td style = \"text-align: right;\">-101</td><td style = \"text-align: right;\">8.8</td><td style = \"text-align: right;\">-27.2671</td><td style = \"text-align: right;\">38.6552</td><td style = \"text-align: right;\">0.0</td><td style = \"text-align: right;\">0.0</td><td style = \"text-align: right;\">0.0</td><td style = \"text-align: left;\">Fair</td></tr><tr><td class = \"rowNumber\" style = \"font-weight: bold; text-align: right;\">13</td><td style = \"text-align: right;\">12</td><td style = \"text-align: left;\">0200000000000000</td><td style = \"text-align: left;\">7076FF0056060728</td><td style = \"text-align: left;\">2022-03-17 23:37:14</td><td style = \"text-align: right;\">-105</td><td style = \"text-align: right;\">9.5</td><td style = \"text-align: right;\">-27.2671</td><td style = \"text-align: right;\">38.6554</td><td style = \"text-align: right;\">0.0</td><td style = \"text-align: right;\">0.0</td><td style = \"text-align: right;\">0.0</td><td style = \"text-align: left;\">Fair</td></tr><tr><td style = \"text-align: right;\">&vellip;</td><td style = \"text-align: right;\">&vellip;</td><td style = \"text-align: right;\">&vellip;</td><td style = \"text-align: right;\">&vellip;</td><td style = \"text-align: right;\">&vellip;</td><td style = \"text-align: right;\">&vellip;</td><td style = \"text-align: right;\">&vellip;</td><td style = \"text-align: right;\">&vellip;</td><td style = \"text-align: right;\">&vellip;</td><td style = \"text-align: right;\">&vellip;</td><td style = \"text-align: right;\">&vellip;</td><td style = \"text-align: right;\">&vellip;</td><td style = \"text-align: right;\">&vellip;</td></tr><tr><td class = \"rowNumber\" style = \"font-weight: bold; text-align: right;\">21178</td><td style = \"text-align: right;\">21177</td><td style = \"text-align: left;\">0200000000000000</td><td style = \"text-align: left;\">7076FF0056060728</td><td style = \"text-align: left;\">2023-03-05 11:20:54</td><td style = \"text-align: right;\">-102</td><td style = \"text-align: right;\">8.5</td><td style = \"text-align: right;\">-27.267</td><td style = \"text-align: right;\">38.6557</td><td style = \"text-align: right;\">0.0</td><td style = \"text-align: right;\">0.0</td><td style = \"text-align: right;\">0.0</td><td style = \"text-align: left;\">Fair</td></tr><tr><td class = \"rowNumber\" style = \"font-weight: bold; text-align: right;\">21179</td><td style = \"text-align: right;\">21178</td><td style = \"text-align: left;\">0200000000000000</td><td style = \"text-align: left;\">7076FF0056060728</td><td style = \"text-align: left;\">2023-03-05 11:23:13</td><td style = \"text-align: right;\">-100</td><td style = \"text-align: right;\">9.0</td><td style = \"text-align: right;\">-27.267</td><td style = \"text-align: right;\">38.6556</td><td style = \"text-align: right;\">0.0</td><td style = \"text-align: right;\">0.0</td><td style = \"text-align: right;\">0.0</td><td style = \"text-align: left;\">Fair</td></tr><tr><td class = \"rowNumber\" style = \"font-weight: bold; text-align: right;\">21180</td><td style = \"text-align: right;\">21179</td><td style = \"text-align: left;\">0200000000000000</td><td style = \"text-align: left;\">7076FF0056060728</td><td style = \"text-align: left;\">2023-03-07 09:52:01</td><td style = \"text-align: right;\">-103</td><td style = \"text-align: right;\">9.2</td><td style = \"text-align: right;\">-27.2669</td><td style = \"text-align: right;\">38.656</td><td style = \"text-align: right;\">0.0</td><td style = \"text-align: right;\">0.0</td><td style = \"text-align: right;\">0.0</td><td style = \"text-align: left;\">Fair</td></tr><tr><td class = \"rowNumber\" style = \"font-weight: bold; text-align: right;\">21181</td><td style = \"text-align: right;\">21180</td><td style = \"text-align: left;\">0200000000000000</td><td style = \"text-align: left;\">7076FF0056060728</td><td style = \"text-align: left;\">2023-03-07 09:54:21</td><td style = \"text-align: right;\">-102</td><td style = \"text-align: right;\">8.8</td><td style = \"text-align: right;\">-27.267</td><td style = \"text-align: right;\">38.6557</td><td style = \"text-align: right;\">0.0</td><td style = \"text-align: right;\">0.0</td><td style = \"text-align: right;\">0.0</td><td style = \"text-align: left;\">Fair</td></tr><tr><td class = \"rowNumber\" style = \"font-weight: bold; text-align: right;\">21182</td><td style = \"text-align: right;\">21181</td><td style = \"text-align: left;\">0200000000000000</td><td style = \"text-align: left;\">7076FF0056060728</td><td style = \"text-align: left;\">2023-03-08 11:59:40</td><td style = \"text-align: right;\">-103</td><td style = \"text-align: right;\">7.8</td><td style = \"text-align: right;\">-27.2667</td><td style = \"text-align: right;\">38.6556</td><td style = \"text-align: right;\">0.0</td><td style = \"text-align: right;\">0.0</td><td style = \"text-align: right;\">0.0</td><td style = \"text-align: left;\">Fair</td></tr><tr><td class = \"rowNumber\" style = \"font-weight: bold; text-align: right;\">21183</td><td style = \"text-align: right;\">21182</td><td style = \"text-align: left;\">0200000000000000</td><td style = \"text-align: left;\">7076FF0056060728</td><td style = \"text-align: left;\">2023-03-08 12:01:57</td><td style = \"text-align: right;\">-100</td><td style = \"text-align: right;\">9.5</td><td style = \"text-align: right;\">-27.267</td><td style = \"text-align: right;\">38.6556</td><td style = \"text-align: right;\">0.0</td><td style = \"text-align: right;\">0.0</td><td style = \"text-align: right;\">0.0</td><td style = \"text-align: left;\">Fair</td></tr><tr><td class = \"rowNumber\" style = \"font-weight: bold; text-align: right;\">21184</td><td style = \"text-align: right;\">21183</td><td style = \"text-align: left;\">0200000000000000</td><td style = \"text-align: left;\">7076FF0056060728</td><td style = \"text-align: left;\">2023-03-09 09:39:45</td><td style = \"text-align: right;\">-102</td><td style = \"text-align: right;\">8.8</td><td style = \"text-align: right;\">-27.2669</td><td style = \"text-align: right;\">38.6557</td><td style = \"text-align: right;\">0.0</td><td style = \"text-align: right;\">0.0</td><td style = \"text-align: right;\">0.0</td><td style = \"text-align: left;\">Fair</td></tr><tr><td class = \"rowNumber\" style = \"font-weight: bold; text-align: right;\">21185</td><td style = \"text-align: right;\">21184</td><td style = \"text-align: left;\">0200000000000000</td><td style = \"text-align: left;\">7076FF0056060728</td><td style = \"text-align: left;\">2023-03-09 09:42:07</td><td style = \"text-align: right;\">-102</td><td style = \"text-align: right;\">9.2</td><td style = \"text-align: right;\">-27.267</td><td style = \"text-align: right;\">38.6556</td><td style = \"text-align: right;\">0.0</td><td style = \"text-align: right;\">0.0</td><td style = \"text-align: right;\">0.0</td><td style = \"text-align: left;\">Fair</td></tr><tr><td class = \"rowNumber\" style = \"font-weight: bold; text-align: right;\">21186</td><td style = \"text-align: right;\">21185</td><td style = \"text-align: left;\">0200000000000000</td><td style = \"text-align: left;\">7076FF0056060728</td><td style = \"text-align: left;\">2023-03-09 10:46:14</td><td style = \"text-align: right;\">-101</td><td style = \"text-align: right;\">10.8</td><td style = \"text-align: right;\">-27.267</td><td style = \"text-align: right;\">38.6556</td><td style = \"text-align: right;\">0.0</td><td style = \"text-align: right;\">0.0</td><td style = \"text-align: right;\">0.0</td><td style = \"text-align: left;\">Fair</td></tr><tr><td class = \"rowNumber\" style = \"font-weight: bold; text-align: right;\">21187</td><td style = \"text-align: right;\">21186</td><td style = \"text-align: left;\">0200000000000000</td><td style = \"text-align: left;\">7076FF0056060728</td><td style = \"text-align: left;\">2023-03-09 10:48:31</td><td style = \"text-align: right;\">-101</td><td style = \"text-align: right;\">9.0</td><td style = \"text-align: right;\">-27.267</td><td style = \"text-align: right;\">38.6556</td><td style = \"text-align: right;\">0.0</td><td style = \"text-align: right;\">0.0</td><td style = \"text-align: right;\">0.0</td><td style = \"text-align: left;\">Fair</td></tr><tr><td class = \"rowNumber\" style = \"font-weight: bold; text-align: right;\">21188</td><td style = \"text-align: right;\">21187</td><td style = \"text-align: left;\">0200000000000000</td><td style = \"text-align: left;\">7076FF0056060728</td><td style = \"text-align: left;\">2023-03-10 12:16:52</td><td style = \"text-align: right;\">-103</td><td style = \"text-align: right;\">10.5</td><td style = \"text-align: right;\">-27.267</td><td style = \"text-align: right;\">38.6557</td><td style = \"text-align: right;\">0.0</td><td style = \"text-align: right;\">0.0</td><td style = \"text-align: right;\">0.0</td><td style = \"text-align: left;\">Fair</td></tr><tr><td class = \"rowNumber\" style = \"font-weight: bold; text-align: right;\">21189</td><td style = \"text-align: right;\">21188</td><td style = \"text-align: left;\">0200000000000000</td><td style = \"text-align: left;\">7076FF0056060728</td><td style = \"text-align: left;\">2023-03-10 12:19:11</td><td style = \"text-align: right;\">-106</td><td style = \"text-align: right;\">8.8</td><td style = \"text-align: right;\">-27.267</td><td style = \"text-align: right;\">38.6556</td><td style = \"text-align: right;\">0.0</td><td style = \"text-align: right;\">0.0</td><td style = \"text-align: right;\">0.0</td><td style = \"text-align: left;\">Fair</td></tr></tbody></table></div><p>&vellip;</p><div><div style = \"float: left;\"><span>Last Group (612 rows): gw_eui = &quot;7276FF000B03183D&quot;</span></div><div style = \"float: right;\"><span style = \"font-style: italic;\">587 rows omitted</span></div><div style = \"clear: both;\"></div></div><div class = \"data-frame\" style = \"overflow-x: scroll;\"><table class = \"data-frame\" style = \"margin-bottom: 6px;\"><thead><tr class = \"header\"><th class = \"rowNumber\" style = \"font-weight: bold; text-align: right;\">Row</th><th style = \"text-align: left;\">Column1</th><th style = \"text-align: left;\">dev_eui</th><th style = \"text-align: left;\">gw_eui</th><th style = \"text-align: left;\">timestamp_utc_iso_string</th><th style = \"text-align: left;\">rssi_dbm</th><th style = \"text-align: left;\">snr_db</th><th style = \"text-align: left;\">dev_lon_deg_wgs84</th><th style = \"text-align: left;\">dev_lat_deg_wgs84</th><th style = \"text-align: left;\">battery_v</th><th style = \"text-align: left;\">gw_lon_deg_wgs84</th><th style = \"text-align: left;\">gw_lat_deg_wgs84</th><th style = \"text-align: left;\">signal_quality</th></tr><tr class = \"subheader headerLastRow\"><th class = \"rowNumber\" style = \"font-weight: bold; text-align: right;\"></th><th title = \"Int64\" style = \"text-align: left;\">Int64</th><th title = \"String31\" style = \"text-align: left;\">String31</th><th title = \"String31\" style = \"text-align: left;\">String31</th><th title = \"String31\" style = \"text-align: left;\">String31</th><th title = \"Int64\" style = \"text-align: left;\">Int64</th><th title = \"Float64\" style = \"text-align: left;\">Float64</th><th title = \"Float64\" style = \"text-align: left;\">Float64</th><th title = \"Float64\" style = \"text-align: left;\">Float64</th><th title = \"Float64\" style = \"text-align: left;\">Float64</th><th title = \"Float64\" style = \"text-align: left;\">Float64</th><th title = \"Float64\" style = \"text-align: left;\">Float64</th><th title = \"String31\" style = \"text-align: left;\">String31</th></tr></thead><tbody><tr><td class = \"rowNumber\" style = \"font-weight: bold; text-align: right;\">1</td><td style = \"text-align: right;\">75709</td><td style = \"text-align: left;\">0200000000000000</td><td style = \"text-align: left;\">7276FF000B03183D</td><td style = \"text-align: left;\">2022-02-25 17:22:06</td><td style = \"text-align: right;\">-125</td><td style = \"text-align: right;\">-5.0</td><td style = \"text-align: right;\">-27.2336</td><td style = \"text-align: right;\">38.6935</td><td style = \"text-align: right;\">0.0</td><td style = \"text-align: right;\">0.0</td><td style = \"text-align: right;\">0.0</td><td style = \"text-align: left;\">Very Poor</td></tr><tr><td class = \"rowNumber\" style = \"font-weight: bold; text-align: right;\">2</td><td style = \"text-align: right;\">75710</td><td style = \"text-align: left;\">0200000000000000</td><td style = \"text-align: left;\">7276FF000B03183D</td><td style = \"text-align: left;\">2022-02-25 20:59:37</td><td style = \"text-align: right;\">-115</td><td style = \"text-align: right;\">6.2</td><td style = \"text-align: right;\">-27.2014</td><td style = \"text-align: right;\">38.6822</td><td style = \"text-align: right;\">0.0</td><td style = \"text-align: right;\">0.0</td><td style = \"text-align: right;\">0.0</td><td style = \"text-align: left;\">Poor</td></tr><tr><td class = \"rowNumber\" style = \"font-weight: bold; text-align: right;\">3</td><td style = \"text-align: right;\">75711</td><td style = \"text-align: left;\">0200000000000000</td><td style = \"text-align: left;\">7276FF000B03183D</td><td style = \"text-align: left;\">2022-02-25 21:00:44</td><td style = \"text-align: right;\">-100</td><td style = \"text-align: right;\">9.5</td><td style = \"text-align: right;\">-27.1898</td><td style = \"text-align: right;\">38.6879</td><td style = \"text-align: right;\">0.0</td><td style = \"text-align: right;\">0.0</td><td style = \"text-align: right;\">0.0</td><td style = \"text-align: left;\">Fair</td></tr><tr><td class = \"rowNumber\" style = \"font-weight: bold; text-align: right;\">4</td><td style = \"text-align: right;\">75712</td><td style = \"text-align: left;\">0200000000000000</td><td style = \"text-align: left;\">7276FF000B03183D</td><td style = \"text-align: left;\">2022-02-26 15:10:27</td><td style = \"text-align: right;\">-118</td><td style = \"text-align: right;\">2.5</td><td style = \"text-align: right;\">-27.2017</td><td style = \"text-align: right;\">38.6821</td><td style = \"text-align: right;\">0.0</td><td style = \"text-align: right;\">0.0</td><td style = \"text-align: right;\">0.0</td><td style = \"text-align: left;\">Poor</td></tr><tr><td class = \"rowNumber\" style = \"font-weight: bold; text-align: right;\">5</td><td style = \"text-align: right;\">75713</td><td style = \"text-align: left;\">0200000000000000</td><td style = \"text-align: left;\">7276FF000B03183D</td><td style = \"text-align: left;\">2022-02-26 15:11:33</td><td style = \"text-align: right;\">-94</td><td style = \"text-align: right;\">7.8</td><td style = \"text-align: right;\">-27.1903</td><td style = \"text-align: right;\">38.6876</td><td style = \"text-align: right;\">0.0</td><td style = \"text-align: right;\">0.0</td><td style = \"text-align: right;\">0.0</td><td style = \"text-align: left;\">Good</td></tr><tr><td class = \"rowNumber\" style = \"font-weight: bold; text-align: right;\">6</td><td style = \"text-align: right;\">75714</td><td style = \"text-align: left;\">0200000000000000</td><td style = \"text-align: left;\">7276FF000B03183D</td><td style = \"text-align: left;\">2022-02-26 15:12:06</td><td style = \"text-align: right;\">-102</td><td style = \"text-align: right;\">9.5</td><td style = \"text-align: right;\">-27.1827</td><td style = \"text-align: right;\">38.6929</td><td style = \"text-align: right;\">0.0</td><td style = \"text-align: right;\">0.0</td><td style = \"text-align: right;\">0.0</td><td style = \"text-align: left;\">Fair</td></tr><tr><td class = \"rowNumber\" style = \"font-weight: bold; text-align: right;\">7</td><td style = \"text-align: right;\">75715</td><td style = \"text-align: left;\">0200000000000000</td><td style = \"text-align: left;\">7276FF000B03183D</td><td style = \"text-align: left;\">2022-02-26 19:21:07</td><td style = \"text-align: right;\">-102</td><td style = \"text-align: right;\">11.5</td><td style = \"text-align: right;\">-27.183</td><td style = \"text-align: right;\">38.7864</td><td style = \"text-align: right;\">0.0</td><td style = \"text-align: right;\">0.0</td><td style = \"text-align: right;\">0.0</td><td style = \"text-align: left;\">Fair</td></tr><tr><td class = \"rowNumber\" style = \"font-weight: bold; text-align: right;\">8</td><td style = \"text-align: right;\">75716</td><td style = \"text-align: left;\">0200000000000000</td><td style = \"text-align: left;\">7276FF000B03183D</td><td style = \"text-align: left;\">2022-02-26 19:47:56</td><td style = \"text-align: right;\">-114</td><td style = \"text-align: right;\">9.2</td><td style = \"text-align: right;\">-27.1607</td><td style = \"text-align: right;\">38.7092</td><td style = \"text-align: right;\">0.0</td><td style = \"text-align: right;\">0.0</td><td style = \"text-align: right;\">0.0</td><td style = \"text-align: left;\">Poor</td></tr><tr><td class = \"rowNumber\" style = \"font-weight: bold; text-align: right;\">9</td><td style = \"text-align: right;\">75717</td><td style = \"text-align: left;\">0200000000000000</td><td style = \"text-align: left;\">7276FF000B03183D</td><td style = \"text-align: left;\">2022-02-26 19:48:29</td><td style = \"text-align: right;\">-112</td><td style = \"text-align: right;\">8.8</td><td style = \"text-align: right;\">-27.1674</td><td style = \"text-align: right;\">38.7038</td><td style = \"text-align: right;\">0.0</td><td style = \"text-align: right;\">0.0</td><td style = \"text-align: right;\">0.0</td><td style = \"text-align: left;\">Poor</td></tr><tr><td class = \"rowNumber\" style = \"font-weight: bold; text-align: right;\">10</td><td style = \"text-align: right;\">75718</td><td style = \"text-align: left;\">0200000000000000</td><td style = \"text-align: left;\">7276FF000B03183D</td><td style = \"text-align: left;\">2022-02-26 19:49:02</td><td style = \"text-align: right;\">-102</td><td style = \"text-align: right;\">6.8</td><td style = \"text-align: right;\">-27.1747</td><td style = \"text-align: right;\">38.6986</td><td style = \"text-align: right;\">0.0</td><td style = \"text-align: right;\">0.0</td><td style = \"text-align: right;\">0.0</td><td style = \"text-align: left;\">Fair</td></tr><tr><td class = \"rowNumber\" style = \"font-weight: bold; text-align: right;\">11</td><td style = \"text-align: right;\">75719</td><td style = \"text-align: left;\">0200000000000000</td><td style = \"text-align: left;\">7276FF000B03183D</td><td style = \"text-align: left;\">2022-02-26 19:49:35</td><td style = \"text-align: right;\">-94</td><td style = \"text-align: right;\">6.8</td><td style = \"text-align: right;\">-27.182</td><td style = \"text-align: right;\">38.6935</td><td style = \"text-align: right;\">0.0</td><td style = \"text-align: right;\">0.0</td><td style = \"text-align: right;\">0.0</td><td style = \"text-align: left;\">Good</td></tr><tr><td class = \"rowNumber\" style = \"font-weight: bold; text-align: right;\">12</td><td style = \"text-align: right;\">75720</td><td style = \"text-align: left;\">0200000000000000</td><td style = \"text-align: left;\">7276FF000B03183D</td><td style = \"text-align: left;\">2022-02-26 19:50:09</td><td style = \"text-align: right;\">-120</td><td style = \"text-align: right;\">5.5</td><td style = \"text-align: right;\">-27.1894</td><td style = \"text-align: right;\">38.6883</td><td style = \"text-align: right;\">0.0</td><td style = \"text-align: right;\">0.0</td><td style = \"text-align: right;\">0.0</td><td style = \"text-align: left;\">Poor</td></tr><tr><td class = \"rowNumber\" style = \"font-weight: bold; text-align: right;\">13</td><td style = \"text-align: right;\">75721</td><td style = \"text-align: left;\">0200000000000000</td><td style = \"text-align: left;\">7276FF000B03183D</td><td style = \"text-align: left;\">2022-02-27 20:25:08</td><td style = \"text-align: right;\">-126</td><td style = \"text-align: right;\">-4.5</td><td style = \"text-align: right;\">-27.2271</td><td style = \"text-align: right;\">38.682</td><td style = \"text-align: right;\">0.0</td><td style = \"text-align: right;\">0.0</td><td style = \"text-align: right;\">0.0</td><td style = \"text-align: left;\">Very Poor</td></tr><tr><td style = \"text-align: right;\">&vellip;</td><td style = \"text-align: right;\">&vellip;</td><td style = \"text-align: right;\">&vellip;</td><td style = \"text-align: right;\">&vellip;</td><td style = \"text-align: right;\">&vellip;</td><td style = \"text-align: right;\">&vellip;</td><td style = \"text-align: right;\">&vellip;</td><td style = \"text-align: right;\">&vellip;</td><td style = \"text-align: right;\">&vellip;</td><td style = \"text-align: right;\">&vellip;</td><td style = \"text-align: right;\">&vellip;</td><td style = \"text-align: right;\">&vellip;</td><td style = \"text-align: right;\">&vellip;</td></tr><tr><td class = \"rowNumber\" style = \"font-weight: bold; text-align: right;\">601</td><td style = \"text-align: right;\">76309</td><td style = \"text-align: left;\">70B3D5705000B993</td><td style = \"text-align: left;\">7276FF000B03183D</td><td style = \"text-align: left;\">2023-05-11 08:39:18</td><td style = \"text-align: right;\">-127</td><td style = \"text-align: right;\">-18.2</td><td style = \"text-align: right;\">-27.2133</td><td style = \"text-align: right;\">38.6612</td><td style = \"text-align: right;\">4.3</td><td style = \"text-align: right;\">0.0</td><td style = \"text-align: right;\">0.0</td><td style = \"text-align: left;\">Very Poor</td></tr><tr><td class = \"rowNumber\" style = \"font-weight: bold; text-align: right;\">602</td><td style = \"text-align: right;\">76310</td><td style = \"text-align: left;\">70B3D5705000B993</td><td style = \"text-align: left;\">7276FF000B03183D</td><td style = \"text-align: left;\">2023-05-11 08:47:06</td><td style = \"text-align: right;\">-93</td><td style = \"text-align: right;\">5.8</td><td style = \"text-align: right;\">-27.1831</td><td style = \"text-align: right;\">38.6925</td><td style = \"text-align: right;\">4.3</td><td style = \"text-align: right;\">0.0</td><td style = \"text-align: right;\">0.0</td><td style = \"text-align: left;\">Good</td></tr><tr><td class = \"rowNumber\" style = \"font-weight: bold; text-align: right;\">603</td><td style = \"text-align: right;\">76311</td><td style = \"text-align: left;\">70B3D5705000B993</td><td style = \"text-align: left;\">7276FF000B03183D</td><td style = \"text-align: left;\">2023-05-11 18:31:16</td><td style = \"text-align: right;\">-125</td><td style = \"text-align: right;\">-8.8</td><td style = \"text-align: right;\">-27.206</td><td style = \"text-align: right;\">38.6814</td><td style = \"text-align: right;\">4.3</td><td style = \"text-align: right;\">0.0</td><td style = \"text-align: right;\">0.0</td><td style = \"text-align: left;\">Very Poor</td></tr><tr><td class = \"rowNumber\" style = \"font-weight: bold; text-align: right;\">604</td><td style = \"text-align: right;\">76312</td><td style = \"text-align: left;\">70B3D5705000B993</td><td style = \"text-align: left;\">7276FF000B03183D</td><td style = \"text-align: left;\">2023-05-12 08:51:56</td><td style = \"text-align: right;\">-90</td><td style = \"text-align: right;\">11.5</td><td style = \"text-align: right;\">-27.1878</td><td style = \"text-align: right;\">38.6891</td><td style = \"text-align: right;\">4.3</td><td style = \"text-align: right;\">0.0</td><td style = \"text-align: right;\">0.0</td><td style = \"text-align: left;\">Good</td></tr><tr><td class = \"rowNumber\" style = \"font-weight: bold; text-align: right;\">605</td><td style = \"text-align: right;\">76313</td><td style = \"text-align: left;\">70B3D5705000B993</td><td style = \"text-align: left;\">7276FF000B03183D</td><td style = \"text-align: left;\">2023-05-12 12:21:47</td><td style = \"text-align: right;\">-127</td><td style = \"text-align: right;\">-15.8</td><td style = \"text-align: right;\">-27.2137</td><td style = \"text-align: right;\">38.6763</td><td style = \"text-align: right;\">4.3</td><td style = \"text-align: right;\">0.0</td><td style = \"text-align: right;\">0.0</td><td style = \"text-align: left;\">Very Poor</td></tr><tr><td class = \"rowNumber\" style = \"font-weight: bold; text-align: right;\">606</td><td style = \"text-align: right;\">76314</td><td style = \"text-align: left;\">70B3D5705000B993</td><td style = \"text-align: left;\">7276FF000B03183D</td><td style = \"text-align: left;\">2023-05-15 09:50:48</td><td style = \"text-align: right;\">-126</td><td style = \"text-align: right;\">-18.2</td><td style = \"text-align: right;\">-27.2122</td><td style = \"text-align: right;\">38.6619</td><td style = \"text-align: right;\">4.3</td><td style = \"text-align: right;\">0.0</td><td style = \"text-align: right;\">0.0</td><td style = \"text-align: left;\">Very Poor</td></tr><tr><td class = \"rowNumber\" style = \"font-weight: bold; text-align: right;\">607</td><td style = \"text-align: right;\">76315</td><td style = \"text-align: left;\">70B3D5705000B993</td><td style = \"text-align: left;\">7276FF000B03183D</td><td style = \"text-align: left;\">2023-05-18 12:19:37</td><td style = \"text-align: right;\">-126</td><td style = \"text-align: right;\">-11.5</td><td style = \"text-align: right;\">-27.2075</td><td style = \"text-align: right;\">38.678</td><td style = \"text-align: right;\">4.33</td><td style = \"text-align: right;\">0.0</td><td style = \"text-align: right;\">0.0</td><td style = \"text-align: left;\">Very Poor</td></tr><tr><td class = \"rowNumber\" style = \"font-weight: bold; text-align: right;\">608</td><td style = \"text-align: right;\">76316</td><td style = \"text-align: left;\">70B3D5705000B993</td><td style = \"text-align: left;\">7276FF000B03183D</td><td style = \"text-align: left;\">2023-05-18 12:42:28</td><td style = \"text-align: right;\">-123</td><td style = \"text-align: right;\">-12.0</td><td style = \"text-align: right;\">-27.2155</td><td style = \"text-align: right;\">38.668</td><td style = \"text-align: right;\">4.33</td><td style = \"text-align: right;\">0.0</td><td style = \"text-align: right;\">0.0</td><td style = \"text-align: left;\">Very Poor</td></tr><tr><td class = \"rowNumber\" style = \"font-weight: bold; text-align: right;\">609</td><td style = \"text-align: right;\">76317</td><td style = \"text-align: left;\">70B3D5705000B993</td><td style = \"text-align: left;\">7276FF000B03183D</td><td style = \"text-align: left;\">2023-05-18 19:50:44</td><td style = \"text-align: right;\">-126</td><td style = \"text-align: right;\">-8.8</td><td style = \"text-align: right;\">-27.2113</td><td style = \"text-align: right;\">38.6753</td><td style = \"text-align: right;\">4.33</td><td style = \"text-align: right;\">0.0</td><td style = \"text-align: right;\">0.0</td><td style = \"text-align: left;\">Very Poor</td></tr><tr><td class = \"rowNumber\" style = \"font-weight: bold; text-align: right;\">610</td><td style = \"text-align: right;\">76318</td><td style = \"text-align: left;\">70B3D5705000B993</td><td style = \"text-align: left;\">7276FF000B03183D</td><td style = \"text-align: left;\">2023-05-20 19:56:53</td><td style = \"text-align: right;\">-124</td><td style = \"text-align: right;\">-17.0</td><td style = \"text-align: right;\">-27.2165</td><td style = \"text-align: right;\">38.6678</td><td style = \"text-align: right;\">4.28</td><td style = \"text-align: right;\">0.0</td><td style = \"text-align: right;\">0.0</td><td style = \"text-align: left;\">Very Poor</td></tr><tr><td class = \"rowNumber\" style = \"font-weight: bold; text-align: right;\">611</td><td style = \"text-align: right;\">76319</td><td style = \"text-align: left;\">70B3D5705000B993</td><td style = \"text-align: left;\">7276FF000B03183D</td><td style = \"text-align: left;\">2023-06-02 08:36:03</td><td style = \"text-align: right;\">-125</td><td style = \"text-align: right;\">-12.0</td><td style = \"text-align: right;\">-27.2134</td><td style = \"text-align: right;\">38.6613</td><td style = \"text-align: right;\">4.2</td><td style = \"text-align: right;\">0.0</td><td style = \"text-align: right;\">0.0</td><td style = \"text-align: left;\">Very Poor</td></tr><tr><td class = \"rowNumber\" style = \"font-weight: bold; text-align: right;\">612</td><td style = \"text-align: right;\">76320</td><td style = \"text-align: left;\">70B3D5705000B993</td><td style = \"text-align: left;\">7276FF000B03183D</td><td style = \"text-align: left;\">2023-06-22 11:46:52</td><td style = \"text-align: right;\">-92</td><td style = \"text-align: right;\">10.0</td><td style = \"text-align: right;\">-27.1781</td><td style = \"text-align: right;\">38.696</td><td style = \"text-align: right;\">4.05</td><td style = \"text-align: right;\">0.0</td><td style = \"text-align: right;\">0.0</td><td style = \"text-align: left;\">Good Signal Quality</td></tr></tbody></table></div>"
      ],
      "text/latex": [
       "GroupedDataFrame with 9 groups based on key: gw\\_eui\n",
       "\n",
       "First Group (21189 rows): gw\\_eui = \"7076FF0056060728\"\n",
       "\n",
       "\\begin{tabular}{r|cccccc}\n",
       "\t& Column1 & dev\\_eui & gw\\_eui & timestamp\\_utc\\_iso\\_string & rssi\\_dbm & \\\\\n",
       "\t\\hline\n",
       "\t& Int64 & String31 & String31 & String31 & Int64 & \\\\\n",
       "\t\\hline\n",
       "\t1 & 0 & 0200000000000000 & 7076FF0056060728 & 2022-03-16 03:10:48 & -112 & $\\dots$ \\\\\n",
       "\t2 & 1 & 0200000000000000 & 7076FF0056060728 & 2022-03-16 03:22:19 & -120 & $\\dots$ \\\\\n",
       "\t3 & 2 & 0200000000000000 & 7076FF0056060728 & 2022-03-16 05:41:10 & -100 & $\\dots$ \\\\\n",
       "\t4 & 3 & 0200000000000000 & 7076FF0056060728 & 2022-03-16 05:43:30 & -105 & $\\dots$ \\\\\n",
       "\t5 & 4 & 0200000000000000 & 7076FF0056060728 & 2022-03-16 12:18:26 & -105 & $\\dots$ \\\\\n",
       "\t6 & 5 & 0200000000000000 & 7076FF0056060728 & 2022-03-16 15:38:22 & -102 & $\\dots$ \\\\\n",
       "\t7 & 6 & 0200000000000000 & 7076FF0056060728 & 2022-03-16 23:57:15 & -108 & $\\dots$ \\\\\n",
       "\t8 & 7 & 0200000000000000 & 7076FF0056060728 & 2022-03-16 23:59:34 & -105 & $\\dots$ \\\\\n",
       "\t9 & 8 & 0200000000000000 & 7076FF0056060728 & 2022-03-17 00:01:53 & -107 & $\\dots$ \\\\\n",
       "\t10 & 9 & 0200000000000000 & 7076FF0056060728 & 2022-03-17 00:04:12 & -105 & $\\dots$ \\\\\n",
       "\t11 & 10 & 0200000000000000 & 7076FF0056060728 & 2022-03-17 19:05:30 & -102 & $\\dots$ \\\\\n",
       "\t12 & 11 & 0200000000000000 & 7076FF0056060728 & 2022-03-17 23:00:17 & -101 & $\\dots$ \\\\\n",
       "\t13 & 12 & 0200000000000000 & 7076FF0056060728 & 2022-03-17 23:37:14 & -105 & $\\dots$ \\\\\n",
       "\t14 & 13 & 0200000000000000 & 7076FF0056060728 & 2022-03-17 23:44:09 & -101 & $\\dots$ \\\\\n",
       "\t15 & 14 & 0200000000000000 & 7076FF0056060728 & 2022-03-18 00:46:35 & -103 & $\\dots$ \\\\\n",
       "\t16 & 15 & 0200000000000000 & 7076FF0056060728 & 2022-03-18 00:55:48 & -103 & $\\dots$ \\\\\n",
       "\t17 & 16 & 0200000000000000 & 7076FF0056060728 & 2022-03-18 01:05:01 & -106 & $\\dots$ \\\\\n",
       "\t18 & 17 & 0200000000000000 & 7076FF0056060728 & 2022-03-18 01:09:38 & -102 & $\\dots$ \\\\\n",
       "\t19 & 18 & 0200000000000000 & 7076FF0056060728 & 2022-03-18 01:12:00 & -100 & $\\dots$ \\\\\n",
       "\t20 & 19 & 0200000000000000 & 7076FF0056060728 & 2022-03-18 01:23:30 & -108 & $\\dots$ \\\\\n",
       "\t21 & 20 & 0200000000000000 & 7076FF0056060728 & 2022-03-18 01:25:49 & -104 & $\\dots$ \\\\\n",
       "\t22 & 21 & 0200000000000000 & 7076FF0056060728 & 2022-03-18 01:32:43 & -101 & $\\dots$ \\\\\n",
       "\t23 & 22 & 0200000000000000 & 7076FF0056060728 & 2022-03-18 01:35:01 & -102 & $\\dots$ \\\\\n",
       "\t24 & 23 & 0200000000000000 & 7076FF0056060728 & 2022-03-18 01:46:30 & -102 & $\\dots$ \\\\\n",
       "\t$\\dots$ & $\\dots$ & $\\dots$ & $\\dots$ & $\\dots$ & $\\dots$ &  \\\\\n",
       "\\end{tabular}\n",
       "\n",
       "$\\dots$\n",
       "\n",
       "Last Group (612 rows): gw\\_eui = \"7276FF000B03183D\"\n",
       "\n",
       "\\begin{tabular}{r|cccccc}\n",
       "\t& Column1 & dev\\_eui & gw\\_eui & timestamp\\_utc\\_iso\\_string & rssi\\_dbm & \\\\\n",
       "\t\\hline\n",
       "\t& Int64 & String31 & String31 & String31 & Int64 & \\\\\n",
       "\t\\hline\n",
       "\t1 & 75709 & 0200000000000000 & 7276FF000B03183D & 2022-02-25 17:22:06 & -125 & $\\dots$ \\\\\n",
       "\t2 & 75710 & 0200000000000000 & 7276FF000B03183D & 2022-02-25 20:59:37 & -115 & $\\dots$ \\\\\n",
       "\t3 & 75711 & 0200000000000000 & 7276FF000B03183D & 2022-02-25 21:00:44 & -100 & $\\dots$ \\\\\n",
       "\t4 & 75712 & 0200000000000000 & 7276FF000B03183D & 2022-02-26 15:10:27 & -118 & $\\dots$ \\\\\n",
       "\t5 & 75713 & 0200000000000000 & 7276FF000B03183D & 2022-02-26 15:11:33 & -94 & $\\dots$ \\\\\n",
       "\t6 & 75714 & 0200000000000000 & 7276FF000B03183D & 2022-02-26 15:12:06 & -102 & $\\dots$ \\\\\n",
       "\t7 & 75715 & 0200000000000000 & 7276FF000B03183D & 2022-02-26 19:21:07 & -102 & $\\dots$ \\\\\n",
       "\t8 & 75716 & 0200000000000000 & 7276FF000B03183D & 2022-02-26 19:47:56 & -114 & $\\dots$ \\\\\n",
       "\t9 & 75717 & 0200000000000000 & 7276FF000B03183D & 2022-02-26 19:48:29 & -112 & $\\dots$ \\\\\n",
       "\t10 & 75718 & 0200000000000000 & 7276FF000B03183D & 2022-02-26 19:49:02 & -102 & $\\dots$ \\\\\n",
       "\t11 & 75719 & 0200000000000000 & 7276FF000B03183D & 2022-02-26 19:49:35 & -94 & $\\dots$ \\\\\n",
       "\t12 & 75720 & 0200000000000000 & 7276FF000B03183D & 2022-02-26 19:50:09 & -120 & $\\dots$ \\\\\n",
       "\t13 & 75721 & 0200000000000000 & 7276FF000B03183D & 2022-02-27 20:25:08 & -126 & $\\dots$ \\\\\n",
       "\t14 & 75722 & 0200000000000000 & 7276FF000B03183D & 2022-02-27 20:26:14 & -124 & $\\dots$ \\\\\n",
       "\t15 & 75723 & 0200000000000000 & 7276FF000B03183D & 2022-02-28 09:40:33 & -127 & $\\dots$ \\\\\n",
       "\t16 & 75724 & 0200000000000000 & 7276FF000B03183D & 2022-02-28 09:42:46 & -102 & $\\dots$ \\\\\n",
       "\t17 & 75725 & 0200000000000000 & 7276FF000B03183D & 2022-02-28 09:43:20 & -102 & $\\dots$ \\\\\n",
       "\t18 & 75726 & 0200000000000000 & 7276FF000B03183D & 2022-02-28 09:45:33 & -96 & $\\dots$ \\\\\n",
       "\t19 & 75727 & 0200000000000000 & 7276FF000B03183D & 2022-02-28 09:48:20 & -102 & $\\dots$ \\\\\n",
       "\t20 & 75728 & 0200000000000000 & 7276FF000B03183D & 2022-02-28 09:50:00 & -100 & $\\dots$ \\\\\n",
       "\t21 & 75729 & 0200000000000000 & 7276FF000B03183D & 2022-02-28 14:48:30 & -110 & $\\dots$ \\\\\n",
       "\t22 & 75730 & 0200000000000000 & 7276FF000B03183D & 2022-02-28 14:49:04 & -106 & $\\dots$ \\\\\n",
       "\t23 & 75731 & 0200000000000000 & 7276FF000B03183D & 2022-02-28 14:50:10 & -115 & $\\dots$ \\\\\n",
       "\t24 & 75732 & 0200000000000000 & 7276FF000B03183D & 2022-02-28 14:51:19 & -108 & $\\dots$ \\\\\n",
       "\t$\\dots$ & $\\dots$ & $\\dots$ & $\\dots$ & $\\dots$ & $\\dots$ &  \\\\\n",
       "\\end{tabular}\n"
      ],
      "text/plain": [
       "GroupedDataFrame with 9 groups based on key: gw_eui\n",
       "First Group (21189 rows): gw_eui = \"7076FF0056060728\"\n",
       "\u001b[1m   Row \u001b[0m│\u001b[1m Column1 \u001b[0m\u001b[1m dev_eui          \u001b[0m\u001b[1m gw_eui           \u001b[0m\u001b[1m timestamp_utc_iso_string\u001b[0m ⋯\n",
       "       │\u001b[90m Int64   \u001b[0m\u001b[90m String31         \u001b[0m\u001b[90m String31         \u001b[0m\u001b[90m String31                \u001b[0m ⋯\n",
       "───────┼────────────────────────────────────────────────────────────────────────\n",
       "     1 │       0  0200000000000000  7076FF0056060728  2022-03-16 03:10:48      ⋯\n",
       "     2 │       1  0200000000000000  7076FF0056060728  2022-03-16 03:22:19\n",
       "   ⋮   │    ⋮            ⋮                 ⋮                     ⋮             ⋱\n",
       " 21188 │   21187  0200000000000000  7076FF0056060728  2023-03-10 12:16:52\n",
       " 21189 │   21188  0200000000000000  7076FF0056060728  2023-03-10 12:19:11\n",
       "\u001b[36m                                                8 columns and 21185 rows omitted\u001b[0m\n",
       "⋮\n",
       "Last Group (612 rows): gw_eui = \"7276FF000B03183D\"\n",
       "\u001b[1m Row \u001b[0m│\u001b[1m Column1 \u001b[0m\u001b[1m dev_eui          \u001b[0m\u001b[1m gw_eui           \u001b[0m\u001b[1m timestamp_utc_iso_string \u001b[0m\u001b[1m \u001b[0m ⋯\n",
       "     │\u001b[90m Int64   \u001b[0m\u001b[90m String31         \u001b[0m\u001b[90m String31         \u001b[0m\u001b[90m String31                 \u001b[0m\u001b[90m \u001b[0m ⋯\n",
       "─────┼──────────────────────────────────────────────────────────────────────────\n",
       "   1 │   75709  0200000000000000  7276FF000B03183D  2022-02-25 17:22:06        ⋯\n",
       "   2 │   75710  0200000000000000  7276FF000B03183D  2022-02-25 20:59:37\n",
       "  ⋮  │    ⋮            ⋮                 ⋮                     ⋮               ⋱\n",
       " 612 │   76320  70B3D5705000B993  7276FF000B03183D  2023-06-22 11:46:52\n",
       "\u001b[36m                                                  8 columns and 609 rows omitted\u001b[0m"
      ]
     },
     "metadata": {},
     "output_type": "display_data"
    }
   ],
   "source": [
    "groupby(df, :gw_eui)"
   ]
  },
  {
   "cell_type": "markdown",
   "metadata": {},
   "source": [
    "**Join**"
   ]
  },
  {
   "cell_type": "markdown",
   "metadata": {},
   "source": [
    "Defining our own dataframe using the `DataFrame` function"
   ]
  },
  {
   "cell_type": "code",
   "execution_count": 141,
   "metadata": {},
   "outputs": [
    {
     "data": {
      "text/html": [
       "<div><div style = \"float: left;\"><span>4×2 DataFrame</span></div><div style = \"clear: both;\"></div></div><div class = \"data-frame\" style = \"overflow-x: scroll;\"><table class = \"data-frame\" style = \"margin-bottom: 6px;\"><thead><tr class = \"header\"><th class = \"rowNumber\" style = \"font-weight: bold; text-align: right;\">Row</th><th style = \"text-align: left;\">name</th><th style = \"text-align: left;\">grade_2023</th></tr><tr class = \"subheader headerLastRow\"><th class = \"rowNumber\" style = \"font-weight: bold; text-align: right;\"></th><th title = \"String\" style = \"text-align: left;\">String</th><th title = \"Float64\" style = \"text-align: left;\">Float64</th></tr></thead><tbody><tr><td class = \"rowNumber\" style = \"font-weight: bold; text-align: right;\">1</td><td style = \"text-align: left;\">Sally</td><td style = \"text-align: right;\">1.0</td></tr><tr><td class = \"rowNumber\" style = \"font-weight: bold; text-align: right;\">2</td><td style = \"text-align: left;\">Bob</td><td style = \"text-align: right;\">5.0</td></tr><tr><td class = \"rowNumber\" style = \"font-weight: bold; text-align: right;\">3</td><td style = \"text-align: left;\">Alice</td><td style = \"text-align: right;\">8.5</td></tr><tr><td class = \"rowNumber\" style = \"font-weight: bold; text-align: right;\">4</td><td style = \"text-align: left;\">Hank</td><td style = \"text-align: right;\">4.0</td></tr></tbody></table></div>"
      ],
      "text/latex": [
       "\\begin{tabular}{r|cc}\n",
       "\t& name & grade\\_2023\\\\\n",
       "\t\\hline\n",
       "\t& String & Float64\\\\\n",
       "\t\\hline\n",
       "\t1 & Sally & 1.0 \\\\\n",
       "\t2 & Bob & 5.0 \\\\\n",
       "\t3 & Alice & 8.5 \\\\\n",
       "\t4 & Hank & 4.0 \\\\\n",
       "\\end{tabular}\n"
      ],
      "text/plain": [
       "\u001b[1m4×2 DataFrame\u001b[0m\n",
       "\u001b[1m Row \u001b[0m│\u001b[1m name   \u001b[0m\u001b[1m grade_2023 \u001b[0m\n",
       "     │\u001b[90m String \u001b[0m\u001b[90m Float64    \u001b[0m\n",
       "─────┼────────────────────\n",
       "   1 │ Sally          1.0\n",
       "   2 │ Bob            5.0\n",
       "   3 │ Alice          8.5\n",
       "   4 │ Hank           4.0"
      ]
     },
     "metadata": {},
     "output_type": "display_data"
    }
   ],
   "source": [
    "grades_2023 = DataFrame(; name=[\"Sally\", \"Bob\", \"Alice\", \"Hank\"],\n",
    "grade_2023=[1, 5, 8.5, 4])"
   ]
  },
  {
   "cell_type": "markdown",
   "metadata": {},
   "source": [
    "and creating a new one to join "
   ]
  },
  {
   "cell_type": "code",
   "execution_count": 142,
   "metadata": {},
   "outputs": [
    {
     "data": {
      "text/html": [
       "<div><div style = \"float: left;\"><span>3×2 DataFrame</span></div><div style = \"clear: both;\"></div></div><div class = \"data-frame\" style = \"overflow-x: scroll;\"><table class = \"data-frame\" style = \"margin-bottom: 6px;\"><thead><tr class = \"header\"><th class = \"rowNumber\" style = \"font-weight: bold; text-align: right;\">Row</th><th style = \"text-align: left;\">name</th><th style = \"text-align: left;\">grade_2024</th></tr><tr class = \"subheader headerLastRow\"><th class = \"rowNumber\" style = \"font-weight: bold; text-align: right;\"></th><th title = \"String\" style = \"text-align: left;\">String</th><th title = \"Float64\" style = \"text-align: left;\">Float64</th></tr></thead><tbody><tr><td class = \"rowNumber\" style = \"font-weight: bold; text-align: right;\">1</td><td style = \"text-align: left;\">Bob 2</td><td style = \"text-align: right;\">9.5</td></tr><tr><td class = \"rowNumber\" style = \"font-weight: bold; text-align: right;\">2</td><td style = \"text-align: left;\">Sally</td><td style = \"text-align: right;\">9.5</td></tr><tr><td class = \"rowNumber\" style = \"font-weight: bold; text-align: right;\">3</td><td style = \"text-align: left;\">Hank</td><td style = \"text-align: right;\">6.0</td></tr></tbody></table></div>"
      ],
      "text/latex": [
       "\\begin{tabular}{r|cc}\n",
       "\t& name & grade\\_2024\\\\\n",
       "\t\\hline\n",
       "\t& String & Float64\\\\\n",
       "\t\\hline\n",
       "\t1 & Bob 2 & 9.5 \\\\\n",
       "\t2 & Sally & 9.5 \\\\\n",
       "\t3 & Hank & 6.0 \\\\\n",
       "\\end{tabular}\n"
      ],
      "text/plain": [
       "\u001b[1m3×2 DataFrame\u001b[0m\n",
       "\u001b[1m Row \u001b[0m│\u001b[1m name   \u001b[0m\u001b[1m grade_2024 \u001b[0m\n",
       "     │\u001b[90m String \u001b[0m\u001b[90m Float64    \u001b[0m\n",
       "─────┼────────────────────\n",
       "   1 │ Bob 2          9.5\n",
       "   2 │ Sally          9.5\n",
       "   3 │ Hank           6.0"
      ]
     },
     "metadata": {},
     "output_type": "display_data"
    }
   ],
   "source": [
    "grades_2024 = DataFrame(; name=[\"Bob 2\", \"Sally\", \"Hank\"],\n",
    "grade_2024=[9.5, 9.5, 6])"
   ]
  },
  {
   "cell_type": "markdown",
   "metadata": {},
   "source": [
    "`innerjoin`"
   ]
  },
  {
   "cell_type": "code",
   "execution_count": 143,
   "metadata": {},
   "outputs": [
    {
     "data": {
      "text/html": [
       "<div><div style = \"float: left;\"><span>2×3 DataFrame</span></div><div style = \"clear: both;\"></div></div><div class = \"data-frame\" style = \"overflow-x: scroll;\"><table class = \"data-frame\" style = \"margin-bottom: 6px;\"><thead><tr class = \"header\"><th class = \"rowNumber\" style = \"font-weight: bold; text-align: right;\">Row</th><th style = \"text-align: left;\">name</th><th style = \"text-align: left;\">grade_2023</th><th style = \"text-align: left;\">grade_2024</th></tr><tr class = \"subheader headerLastRow\"><th class = \"rowNumber\" style = \"font-weight: bold; text-align: right;\"></th><th title = \"String\" style = \"text-align: left;\">String</th><th title = \"Float64\" style = \"text-align: left;\">Float64</th><th title = \"Float64\" style = \"text-align: left;\">Float64</th></tr></thead><tbody><tr><td class = \"rowNumber\" style = \"font-weight: bold; text-align: right;\">1</td><td style = \"text-align: left;\">Sally</td><td style = \"text-align: right;\">1.0</td><td style = \"text-align: right;\">9.5</td></tr><tr><td class = \"rowNumber\" style = \"font-weight: bold; text-align: right;\">2</td><td style = \"text-align: left;\">Hank</td><td style = \"text-align: right;\">4.0</td><td style = \"text-align: right;\">6.0</td></tr></tbody></table></div>"
      ],
      "text/latex": [
       "\\begin{tabular}{r|ccc}\n",
       "\t& name & grade\\_2023 & grade\\_2024\\\\\n",
       "\t\\hline\n",
       "\t& String & Float64 & Float64\\\\\n",
       "\t\\hline\n",
       "\t1 & Sally & 1.0 & 9.5 \\\\\n",
       "\t2 & Hank & 4.0 & 6.0 \\\\\n",
       "\\end{tabular}\n"
      ],
      "text/plain": [
       "\u001b[1m2×3 DataFrame\u001b[0m\n",
       "\u001b[1m Row \u001b[0m│\u001b[1m name   \u001b[0m\u001b[1m grade_2023 \u001b[0m\u001b[1m grade_2024 \u001b[0m\n",
       "     │\u001b[90m String \u001b[0m\u001b[90m Float64    \u001b[0m\u001b[90m Float64    \u001b[0m\n",
       "─────┼────────────────────────────────\n",
       "   1 │ Sally          1.0         9.5\n",
       "   2 │ Hank           4.0         6.0"
      ]
     },
     "metadata": {},
     "output_type": "display_data"
    }
   ],
   "source": [
    "innerjoin(grades_2023, grades_2024, on=:name)"
   ]
  },
  {
   "cell_type": "markdown",
   "metadata": {},
   "source": [
    "`outerjoin`"
   ]
  },
  {
   "cell_type": "code",
   "execution_count": 144,
   "metadata": {},
   "outputs": [
    {
     "data": {
      "text/html": [
       "<div><div style = \"float: left;\"><span>5×3 DataFrame</span></div><div style = \"clear: both;\"></div></div><div class = \"data-frame\" style = \"overflow-x: scroll;\"><table class = \"data-frame\" style = \"margin-bottom: 6px;\"><thead><tr class = \"header\"><th class = \"rowNumber\" style = \"font-weight: bold; text-align: right;\">Row</th><th style = \"text-align: left;\">name</th><th style = \"text-align: left;\">grade_2023</th><th style = \"text-align: left;\">grade_2024</th></tr><tr class = \"subheader headerLastRow\"><th class = \"rowNumber\" style = \"font-weight: bold; text-align: right;\"></th><th title = \"String\" style = \"text-align: left;\">String</th><th title = \"Union{Missing, Float64}\" style = \"text-align: left;\">Float64?</th><th title = \"Union{Missing, Float64}\" style = \"text-align: left;\">Float64?</th></tr></thead><tbody><tr><td class = \"rowNumber\" style = \"font-weight: bold; text-align: right;\">1</td><td style = \"text-align: left;\">Sally</td><td style = \"text-align: right;\">1.0</td><td style = \"text-align: right;\">9.5</td></tr><tr><td class = \"rowNumber\" style = \"font-weight: bold; text-align: right;\">2</td><td style = \"text-align: left;\">Hank</td><td style = \"text-align: right;\">4.0</td><td style = \"text-align: right;\">6.0</td></tr><tr><td class = \"rowNumber\" style = \"font-weight: bold; text-align: right;\">3</td><td style = \"text-align: left;\">Bob</td><td style = \"text-align: right;\">5.0</td><td style = \"font-style: italic; text-align: right;\">missing</td></tr><tr><td class = \"rowNumber\" style = \"font-weight: bold; text-align: right;\">4</td><td style = \"text-align: left;\">Alice</td><td style = \"text-align: right;\">8.5</td><td style = \"font-style: italic; text-align: right;\">missing</td></tr><tr><td class = \"rowNumber\" style = \"font-weight: bold; text-align: right;\">5</td><td style = \"text-align: left;\">Bob 2</td><td style = \"font-style: italic; text-align: right;\">missing</td><td style = \"text-align: right;\">9.5</td></tr></tbody></table></div>"
      ],
      "text/latex": [
       "\\begin{tabular}{r|ccc}\n",
       "\t& name & grade\\_2023 & grade\\_2024\\\\\n",
       "\t\\hline\n",
       "\t& String & Float64? & Float64?\\\\\n",
       "\t\\hline\n",
       "\t1 & Sally & 1.0 & 9.5 \\\\\n",
       "\t2 & Hank & 4.0 & 6.0 \\\\\n",
       "\t3 & Bob & 5.0 & \\emph{missing} \\\\\n",
       "\t4 & Alice & 8.5 & \\emph{missing} \\\\\n",
       "\t5 & Bob 2 & \\emph{missing} & 9.5 \\\\\n",
       "\\end{tabular}\n"
      ],
      "text/plain": [
       "\u001b[1m5×3 DataFrame\u001b[0m\n",
       "\u001b[1m Row \u001b[0m│\u001b[1m name   \u001b[0m\u001b[1m grade_2023 \u001b[0m\u001b[1m grade_2024 \u001b[0m\n",
       "     │\u001b[90m String \u001b[0m\u001b[90m Float64?   \u001b[0m\u001b[90m Float64?   \u001b[0m\n",
       "─────┼────────────────────────────────\n",
       "   1 │ Sally          1.0         9.5\n",
       "   2 │ Hank           4.0         6.0\n",
       "   3 │ Bob            5.0 \u001b[90m  missing   \u001b[0m\n",
       "   4 │ Alice          8.5 \u001b[90m  missing   \u001b[0m\n",
       "   5 │ Bob 2  \u001b[90m  missing   \u001b[0m        9.5"
      ]
     },
     "metadata": {},
     "output_type": "display_data"
    }
   ],
   "source": [
    "outerjoin(grades_2023, grades_2024, on=:name)"
   ]
  },
  {
   "cell_type": "markdown",
   "metadata": {},
   "source": [
    "`leftjoin`"
   ]
  },
  {
   "cell_type": "code",
   "execution_count": 145,
   "metadata": {},
   "outputs": [
    {
     "data": {
      "text/html": [
       "<div><div style = \"float: left;\"><span>4×3 DataFrame</span></div><div style = \"clear: both;\"></div></div><div class = \"data-frame\" style = \"overflow-x: scroll;\"><table class = \"data-frame\" style = \"margin-bottom: 6px;\"><thead><tr class = \"header\"><th class = \"rowNumber\" style = \"font-weight: bold; text-align: right;\">Row</th><th style = \"text-align: left;\">name</th><th style = \"text-align: left;\">grade_2023</th><th style = \"text-align: left;\">grade_2024</th></tr><tr class = \"subheader headerLastRow\"><th class = \"rowNumber\" style = \"font-weight: bold; text-align: right;\"></th><th title = \"String\" style = \"text-align: left;\">String</th><th title = \"Float64\" style = \"text-align: left;\">Float64</th><th title = \"Union{Missing, Float64}\" style = \"text-align: left;\">Float64?</th></tr></thead><tbody><tr><td class = \"rowNumber\" style = \"font-weight: bold; text-align: right;\">1</td><td style = \"text-align: left;\">Sally</td><td style = \"text-align: right;\">1.0</td><td style = \"text-align: right;\">9.5</td></tr><tr><td class = \"rowNumber\" style = \"font-weight: bold; text-align: right;\">2</td><td style = \"text-align: left;\">Hank</td><td style = \"text-align: right;\">4.0</td><td style = \"text-align: right;\">6.0</td></tr><tr><td class = \"rowNumber\" style = \"font-weight: bold; text-align: right;\">3</td><td style = \"text-align: left;\">Bob</td><td style = \"text-align: right;\">5.0</td><td style = \"font-style: italic; text-align: right;\">missing</td></tr><tr><td class = \"rowNumber\" style = \"font-weight: bold; text-align: right;\">4</td><td style = \"text-align: left;\">Alice</td><td style = \"text-align: right;\">8.5</td><td style = \"font-style: italic; text-align: right;\">missing</td></tr></tbody></table></div>"
      ],
      "text/latex": [
       "\\begin{tabular}{r|ccc}\n",
       "\t& name & grade\\_2023 & grade\\_2024\\\\\n",
       "\t\\hline\n",
       "\t& String & Float64 & Float64?\\\\\n",
       "\t\\hline\n",
       "\t1 & Sally & 1.0 & 9.5 \\\\\n",
       "\t2 & Hank & 4.0 & 6.0 \\\\\n",
       "\t3 & Bob & 5.0 & \\emph{missing} \\\\\n",
       "\t4 & Alice & 8.5 & \\emph{missing} \\\\\n",
       "\\end{tabular}\n"
      ],
      "text/plain": [
       "\u001b[1m4×3 DataFrame\u001b[0m\n",
       "\u001b[1m Row \u001b[0m│\u001b[1m name   \u001b[0m\u001b[1m grade_2023 \u001b[0m\u001b[1m grade_2024 \u001b[0m\n",
       "     │\u001b[90m String \u001b[0m\u001b[90m Float64    \u001b[0m\u001b[90m Float64?   \u001b[0m\n",
       "─────┼────────────────────────────────\n",
       "   1 │ Sally          1.0         9.5\n",
       "   2 │ Hank           4.0         6.0\n",
       "   3 │ Bob            5.0 \u001b[90m  missing   \u001b[0m\n",
       "   4 │ Alice          8.5 \u001b[90m  missing   \u001b[0m"
      ]
     },
     "metadata": {},
     "output_type": "display_data"
    }
   ],
   "source": [
    "leftjoin(grades_2023, grades_2024, on=:name)"
   ]
  },
  {
   "cell_type": "markdown",
   "metadata": {},
   "source": [
    "`rightjoin`"
   ]
  },
  {
   "cell_type": "code",
   "execution_count": 146,
   "metadata": {},
   "outputs": [
    {
     "data": {
      "text/html": [
       "<div><div style = \"float: left;\"><span>3×3 DataFrame</span></div><div style = \"clear: both;\"></div></div><div class = \"data-frame\" style = \"overflow-x: scroll;\"><table class = \"data-frame\" style = \"margin-bottom: 6px;\"><thead><tr class = \"header\"><th class = \"rowNumber\" style = \"font-weight: bold; text-align: right;\">Row</th><th style = \"text-align: left;\">name</th><th style = \"text-align: left;\">grade_2023</th><th style = \"text-align: left;\">grade_2024</th></tr><tr class = \"subheader headerLastRow\"><th class = \"rowNumber\" style = \"font-weight: bold; text-align: right;\"></th><th title = \"String\" style = \"text-align: left;\">String</th><th title = \"Union{Missing, Float64}\" style = \"text-align: left;\">Float64?</th><th title = \"Float64\" style = \"text-align: left;\">Float64</th></tr></thead><tbody><tr><td class = \"rowNumber\" style = \"font-weight: bold; text-align: right;\">1</td><td style = \"text-align: left;\">Sally</td><td style = \"text-align: right;\">1.0</td><td style = \"text-align: right;\">9.5</td></tr><tr><td class = \"rowNumber\" style = \"font-weight: bold; text-align: right;\">2</td><td style = \"text-align: left;\">Hank</td><td style = \"text-align: right;\">4.0</td><td style = \"text-align: right;\">6.0</td></tr><tr><td class = \"rowNumber\" style = \"font-weight: bold; text-align: right;\">3</td><td style = \"text-align: left;\">Bob 2</td><td style = \"font-style: italic; text-align: right;\">missing</td><td style = \"text-align: right;\">9.5</td></tr></tbody></table></div>"
      ],
      "text/latex": [
       "\\begin{tabular}{r|ccc}\n",
       "\t& name & grade\\_2023 & grade\\_2024\\\\\n",
       "\t\\hline\n",
       "\t& String & Float64? & Float64\\\\\n",
       "\t\\hline\n",
       "\t1 & Sally & 1.0 & 9.5 \\\\\n",
       "\t2 & Hank & 4.0 & 6.0 \\\\\n",
       "\t3 & Bob 2 & \\emph{missing} & 9.5 \\\\\n",
       "\\end{tabular}\n"
      ],
      "text/plain": [
       "\u001b[1m3×3 DataFrame\u001b[0m\n",
       "\u001b[1m Row \u001b[0m│\u001b[1m name   \u001b[0m\u001b[1m grade_2023 \u001b[0m\u001b[1m grade_2024 \u001b[0m\n",
       "     │\u001b[90m String \u001b[0m\u001b[90m Float64?   \u001b[0m\u001b[90m Float64    \u001b[0m\n",
       "─────┼────────────────────────────────\n",
       "   1 │ Sally          1.0         9.5\n",
       "   2 │ Hank           4.0         6.0\n",
       "   3 │ Bob 2  \u001b[90m  missing   \u001b[0m        9.5"
      ]
     },
     "metadata": {},
     "output_type": "display_data"
    }
   ],
   "source": [
    "rightjoin(grades_2023, grades_2024, on=:name)"
   ]
  },
  {
   "cell_type": "markdown",
   "metadata": {},
   "source": [
    "`semijoin`"
   ]
  },
  {
   "cell_type": "code",
   "execution_count": 147,
   "metadata": {},
   "outputs": [
    {
     "data": {
      "text/html": [
       "<div><div style = \"float: left;\"><span>2×2 DataFrame</span></div><div style = \"clear: both;\"></div></div><div class = \"data-frame\" style = \"overflow-x: scroll;\"><table class = \"data-frame\" style = \"margin-bottom: 6px;\"><thead><tr class = \"header\"><th class = \"rowNumber\" style = \"font-weight: bold; text-align: right;\">Row</th><th style = \"text-align: left;\">name</th><th style = \"text-align: left;\">grade_2023</th></tr><tr class = \"subheader headerLastRow\"><th class = \"rowNumber\" style = \"font-weight: bold; text-align: right;\"></th><th title = \"String\" style = \"text-align: left;\">String</th><th title = \"Float64\" style = \"text-align: left;\">Float64</th></tr></thead><tbody><tr><td class = \"rowNumber\" style = \"font-weight: bold; text-align: right;\">1</td><td style = \"text-align: left;\">Sally</td><td style = \"text-align: right;\">1.0</td></tr><tr><td class = \"rowNumber\" style = \"font-weight: bold; text-align: right;\">2</td><td style = \"text-align: left;\">Hank</td><td style = \"text-align: right;\">4.0</td></tr></tbody></table></div>"
      ],
      "text/latex": [
       "\\begin{tabular}{r|cc}\n",
       "\t& name & grade\\_2023\\\\\n",
       "\t\\hline\n",
       "\t& String & Float64\\\\\n",
       "\t\\hline\n",
       "\t1 & Sally & 1.0 \\\\\n",
       "\t2 & Hank & 4.0 \\\\\n",
       "\\end{tabular}\n"
      ],
      "text/plain": [
       "\u001b[1m2×2 DataFrame\u001b[0m\n",
       "\u001b[1m Row \u001b[0m│\u001b[1m name   \u001b[0m\u001b[1m grade_2023 \u001b[0m\n",
       "     │\u001b[90m String \u001b[0m\u001b[90m Float64    \u001b[0m\n",
       "─────┼────────────────────\n",
       "   1 │ Sally          1.0\n",
       "   2 │ Hank           4.0"
      ]
     },
     "metadata": {},
     "output_type": "display_data"
    }
   ],
   "source": [
    "semijoin(grades_2023, grades_2024, on=:name)"
   ]
  },
  {
   "cell_type": "markdown",
   "metadata": {},
   "source": [
    "`antijoin`"
   ]
  },
  {
   "cell_type": "code",
   "execution_count": 148,
   "metadata": {},
   "outputs": [
    {
     "data": {
      "text/html": [
       "<div><div style = \"float: left;\"><span>2×2 DataFrame</span></div><div style = \"clear: both;\"></div></div><div class = \"data-frame\" style = \"overflow-x: scroll;\"><table class = \"data-frame\" style = \"margin-bottom: 6px;\"><thead><tr class = \"header\"><th class = \"rowNumber\" style = \"font-weight: bold; text-align: right;\">Row</th><th style = \"text-align: left;\">name</th><th style = \"text-align: left;\">grade_2023</th></tr><tr class = \"subheader headerLastRow\"><th class = \"rowNumber\" style = \"font-weight: bold; text-align: right;\"></th><th title = \"String\" style = \"text-align: left;\">String</th><th title = \"Float64\" style = \"text-align: left;\">Float64</th></tr></thead><tbody><tr><td class = \"rowNumber\" style = \"font-weight: bold; text-align: right;\">1</td><td style = \"text-align: left;\">Bob</td><td style = \"text-align: right;\">5.0</td></tr><tr><td class = \"rowNumber\" style = \"font-weight: bold; text-align: right;\">2</td><td style = \"text-align: left;\">Alice</td><td style = \"text-align: right;\">8.5</td></tr></tbody></table></div>"
      ],
      "text/latex": [
       "\\begin{tabular}{r|cc}\n",
       "\t& name & grade\\_2023\\\\\n",
       "\t\\hline\n",
       "\t& String & Float64\\\\\n",
       "\t\\hline\n",
       "\t1 & Bob & 5.0 \\\\\n",
       "\t2 & Alice & 8.5 \\\\\n",
       "\\end{tabular}\n"
      ],
      "text/plain": [
       "\u001b[1m2×2 DataFrame\u001b[0m\n",
       "\u001b[1m Row \u001b[0m│\u001b[1m name   \u001b[0m\u001b[1m grade_2023 \u001b[0m\n",
       "     │\u001b[90m String \u001b[0m\u001b[90m Float64    \u001b[0m\n",
       "─────┼────────────────────\n",
       "   1 │ Bob            5.0\n",
       "   2 │ Alice          8.5"
      ]
     },
     "metadata": {},
     "output_type": "display_data"
    }
   ],
   "source": [
    "antijoin(grades_2023, grades_2024, on=:name)"
   ]
  },
  {
   "cell_type": "markdown",
   "metadata": {},
   "source": [
    "**Variable transformation**"
   ]
  },
  {
   "cell_type": "code",
   "execution_count": 149,
   "metadata": {},
   "outputs": [
    {
     "data": {
      "text/plain": [
       "plus_one (generic function with 1 method)"
      ]
     },
     "metadata": {},
     "output_type": "display_data"
    }
   ],
   "source": [
    "plus_one(grades) = grades .+ 1"
   ]
  },
  {
   "cell_type": "code",
   "execution_count": 150,
   "metadata": {},
   "outputs": [
    {
     "data": {
      "text/html": [
       "<div><div style = \"float: left;\"><span>4×3 DataFrame</span></div><div style = \"clear: both;\"></div></div><div class = \"data-frame\" style = \"overflow-x: scroll;\"><table class = \"data-frame\" style = \"margin-bottom: 6px;\"><thead><tr class = \"header\"><th class = \"rowNumber\" style = \"font-weight: bold; text-align: right;\">Row</th><th style = \"text-align: left;\">name</th><th style = \"text-align: left;\">grade_2023</th><th style = \"text-align: left;\">grade_2023_plus_one</th></tr><tr class = \"subheader headerLastRow\"><th class = \"rowNumber\" style = \"font-weight: bold; text-align: right;\"></th><th title = \"String\" style = \"text-align: left;\">String</th><th title = \"Float64\" style = \"text-align: left;\">Float64</th><th title = \"Float64\" style = \"text-align: left;\">Float64</th></tr></thead><tbody><tr><td class = \"rowNumber\" style = \"font-weight: bold; text-align: right;\">1</td><td style = \"text-align: left;\">Sally</td><td style = \"text-align: right;\">1.0</td><td style = \"text-align: right;\">2.0</td></tr><tr><td class = \"rowNumber\" style = \"font-weight: bold; text-align: right;\">2</td><td style = \"text-align: left;\">Bob</td><td style = \"text-align: right;\">5.0</td><td style = \"text-align: right;\">6.0</td></tr><tr><td class = \"rowNumber\" style = \"font-weight: bold; text-align: right;\">3</td><td style = \"text-align: left;\">Alice</td><td style = \"text-align: right;\">8.5</td><td style = \"text-align: right;\">9.5</td></tr><tr><td class = \"rowNumber\" style = \"font-weight: bold; text-align: right;\">4</td><td style = \"text-align: left;\">Hank</td><td style = \"text-align: right;\">4.0</td><td style = \"text-align: right;\">5.0</td></tr></tbody></table></div>"
      ],
      "text/latex": [
       "\\begin{tabular}{r|ccc}\n",
       "\t& name & grade\\_2023 & grade\\_2023\\_plus\\_one\\\\\n",
       "\t\\hline\n",
       "\t& String & Float64 & Float64\\\\\n",
       "\t\\hline\n",
       "\t1 & Sally & 1.0 & 2.0 \\\\\n",
       "\t2 & Bob & 5.0 & 6.0 \\\\\n",
       "\t3 & Alice & 8.5 & 9.5 \\\\\n",
       "\t4 & Hank & 4.0 & 5.0 \\\\\n",
       "\\end{tabular}\n"
      ],
      "text/plain": [
       "\u001b[1m4×3 DataFrame\u001b[0m\n",
       "\u001b[1m Row \u001b[0m│\u001b[1m name   \u001b[0m\u001b[1m grade_2023 \u001b[0m\u001b[1m grade_2023_plus_one \u001b[0m\n",
       "     │\u001b[90m String \u001b[0m\u001b[90m Float64    \u001b[0m\u001b[90m Float64             \u001b[0m\n",
       "─────┼─────────────────────────────────────────\n",
       "   1 │ Sally          1.0                  2.0\n",
       "   2 │ Bob            5.0                  6.0\n",
       "   3 │ Alice          8.5                  9.5\n",
       "   4 │ Hank           4.0                  5.0"
      ]
     },
     "metadata": {},
     "output_type": "display_data"
    }
   ],
   "source": [
    "transform(grades_2023, :grade_2023 => plus_one)"
   ]
  },
  {
   "cell_type": "code",
   "execution_count": 151,
   "metadata": {},
   "outputs": [
    {
     "data": {
      "text/html": [
       "<div><div style = \"float: left;\"><span>4×3 DataFrame</span></div><div style = \"clear: both;\"></div></div><div class = \"data-frame\" style = \"overflow-x: scroll;\"><table class = \"data-frame\" style = \"margin-bottom: 6px;\"><thead><tr class = \"header\"><th class = \"rowNumber\" style = \"font-weight: bold; text-align: right;\">Row</th><th style = \"text-align: left;\">name</th><th style = \"text-align: left;\">grade_2023</th><th style = \"text-align: left;\">grade_2023_2</th></tr><tr class = \"subheader headerLastRow\"><th class = \"rowNumber\" style = \"font-weight: bold; text-align: right;\"></th><th title = \"String\" style = \"text-align: left;\">String</th><th title = \"Float64\" style = \"text-align: left;\">Float64</th><th title = \"Float64\" style = \"text-align: left;\">Float64</th></tr></thead><tbody><tr><td class = \"rowNumber\" style = \"font-weight: bold; text-align: right;\">1</td><td style = \"text-align: left;\">Sally</td><td style = \"text-align: right;\">1.0</td><td style = \"text-align: right;\">2.0</td></tr><tr><td class = \"rowNumber\" style = \"font-weight: bold; text-align: right;\">2</td><td style = \"text-align: left;\">Bob</td><td style = \"text-align: right;\">5.0</td><td style = \"text-align: right;\">6.0</td></tr><tr><td class = \"rowNumber\" style = \"font-weight: bold; text-align: right;\">3</td><td style = \"text-align: left;\">Alice</td><td style = \"text-align: right;\">8.5</td><td style = \"text-align: right;\">9.5</td></tr><tr><td class = \"rowNumber\" style = \"font-weight: bold; text-align: right;\">4</td><td style = \"text-align: left;\">Hank</td><td style = \"text-align: right;\">4.0</td><td style = \"text-align: right;\">5.0</td></tr></tbody></table></div>"
      ],
      "text/latex": [
       "\\begin{tabular}{r|ccc}\n",
       "\t& name & grade\\_2023 & grade\\_2023\\_2\\\\\n",
       "\t\\hline\n",
       "\t& String & Float64 & Float64\\\\\n",
       "\t\\hline\n",
       "\t1 & Sally & 1.0 & 2.0 \\\\\n",
       "\t2 & Bob & 5.0 & 6.0 \\\\\n",
       "\t3 & Alice & 8.5 & 9.5 \\\\\n",
       "\t4 & Hank & 4.0 & 5.0 \\\\\n",
       "\\end{tabular}\n"
      ],
      "text/plain": [
       "\u001b[1m4×3 DataFrame\u001b[0m\n",
       "\u001b[1m Row \u001b[0m│\u001b[1m name   \u001b[0m\u001b[1m grade_2023 \u001b[0m\u001b[1m grade_2023_2 \u001b[0m\n",
       "     │\u001b[90m String \u001b[0m\u001b[90m Float64    \u001b[0m\u001b[90m Float64      \u001b[0m\n",
       "─────┼──────────────────────────────────\n",
       "   1 │ Sally          1.0           2.0\n",
       "   2 │ Bob            5.0           6.0\n",
       "   3 │ Alice          8.5           9.5\n",
       "   4 │ Hank           4.0           5.0"
      ]
     },
     "metadata": {},
     "output_type": "display_data"
    }
   ],
   "source": [
    "# Rename\n",
    "transform(grades_2023, :grade_2023 => plus_one => :grade_2023_2)"
   ]
  },
  {
   "cell_type": "markdown",
   "metadata": {},
   "source": [
    "## 10. The Community\n",
    "Julia has an amazing [User Community](https://julialang.org/community/) that is ready to help you! The main channels where you can seek help if you encounter a problem, bug, or simply have a question to learn more about Julia are:\n",
    "- Forum https://discourse.julialang.org/\n",
    "- Julia Slack https://julialang.slack.com/\n",
    "- Open an issue on Github! "
   ]
  }
 ],
 "metadata": {
  "kernelspec": {
   "display_name": "Julia 1.9.0-rc1",
   "language": "julia",
   "name": "julia-1.9"
  },
  "language_info": {
   "file_extension": ".jl",
   "mimetype": "application/julia",
   "name": "julia",
   "version": "1.9.0-rc1"
  }
 },
 "nbformat": 4,
 "nbformat_minor": 2
}
