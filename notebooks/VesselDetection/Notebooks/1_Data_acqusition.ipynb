{
 "cells": [
  {
   "cell_type": "markdown",
   "metadata": {},
   "source": [
    "<div style=\"text-align: center\">\n",
    "    <img src=\"../figures/JuliaEO2024_banner.png\" alt=\"Descriptive Image Text\" style=\"border:1px solid black\"/>\n",
    "</div>\n",
    "\n",
    "\n",
    "\n",
    "The objectives of this workshop are the following:\n",
    "\n",
    "\n",
    "- **Understand SAR Imagery**: Gain an understanding of SAR imagery, its properties, and why it's advantageous for maritime surveillance.\n",
    "- **Data Handling**: Learn how to acquire and prepare SAR data from the Sentinel-1 satellite.\n",
    "- **Apply Machine Learning**: Explore machine learning techniques, from basic classification to object detection models.\n",
    "- **Real-World Application**: Gain practical skills in applying these models to real-world SAR data for effective maritime surveillance.\n",
    "\n",
    "\n",
    "\n",
    "____________________\n",
    "\n",
    "\n",
    "\n",
    "## Notebooks\n",
    "\n",
    "- 1: [Sentinel-1 data acquisition](1_Data_acqusition.ipynb)\n",
    "- 2: [Ship binary classification](2_Ship_binary_classification.ipynb)\n",
    "- 3: [Two stage ship detection](3_two_stage_ship_detector.ipynb)\n",
    "- 4: [One stage ship detection](4_One_stage_ship_detector.ipynb)\n",
    "\n",
    "<div style=\"text-align: center\">\n",
    "    <img src=\"../figures/overview_notebooks.png\" alt=\"Descriptive Image Text\" width=\"800\"/>\n",
    "</div>\n",
    "\n"
   ]
  },
  {
   "cell_type": "markdown",
   "metadata": {},
   "source": [
    "# Sentinel-1 Data acqustiion\n",
    " <a class=\"anchor\" id=\"toc\"></a>\n",
    "-  [Objectives](#objective)\n",
    "-  [Copernicus Dataspace](#copernicus_dataspace)\n",
    "-  [Include modules](#init)\n",
    "-  [Metadata](#metadata)\n",
    "-  [Download](#download)\n"
   ]
  },
  {
   "cell_type": "markdown",
   "metadata": {},
   "source": [
    "The Sentinel-1 mission, integral to the European Space Agency's Copernicus Programme, currently comprises of one satellite (Sentinel-1A) equipped with Synthetic Aperture Radar (SAR). This technology enables reliable, all-weather, day-and-night imaging of the Earth's surface, making it particularly effective for maritime surveillance.\n",
    "\n",
    "* **All-Weather Capability**: SAR can penetrate clouds and darkness, offering consistent monitoring of maritime environments regardless of weather or time of day.\n",
    "\n",
    "* **Ship Detection**: Sentinel-1 is adept at detecting and monitoring maritime vessels, including those in remote or high-seas areas, aiding in activities like maritime traffic monitoring and enforcement of regulations.\n",
    "\n",
    "* **Environmental Monitoring**: The satellite plays a crucial role in detecting and tracking marine phenomena such as oil spills, aiding in environmental protection efforts.\n",
    "\n",
    "Sentinel-1's frequent revisit times and wide-area coverage make it a valuable asset in the continuous observation and management of maritime activities.\n"
   ]
  },
  {
   "cell_type": "markdown",
   "metadata": {},
   "source": [
    "\n",
    "\n",
    "## Objective\n",
    " <a class=\"anchor\" id=\"objective\"></a>\n",
    "\n",
    "\n",
    "The objectives of this notebook are to provide a brief introduction to Sentinel-1 data and to demonstrate how to access and download Sentinel-1 data from the Copernicus Data Space. \n",
    "\n"
   ]
  },
  {
   "cell_type": "markdown",
   "metadata": {},
   "source": [
    "## Copernicus Dataspace\n",
    " <a class=\"anchor\" id=\"copernicus_dataspace\"></a>\n",
    "\n",
    "Back to [Table of Content](#toc)\n",
    "\n"
   ]
  },
  {
   "cell_type": "markdown",
   "metadata": {},
   "source": [
    "https://dataspace.copernicus.eu/ "
   ]
  },
  {
   "cell_type": "markdown",
   "metadata": {},
   "source": [
    "\n",
    "\n",
    "The Copernicus Data Space forms a cornerstone of the European Union's Copernicus Programme, a groundbreaking initiative in Earth observation and monitoring. As a robust and comprehensive data repository, it is pivotal in advancing our understanding and management of Earth's physical, biological, and human systems, with a particular emphasis on maritime domains. It will replace some of the maaany current options of getting Copernicus data, e.g., https://scihub.copernicus.eu/\n",
    "\n",
    "\n",
    "In order to download data from the Copernicus Dataspace, you need an account. \n",
    "\n",
    "\n",
    "Currently, you can access data using\n",
    "- OData\n",
    "- STACK (currently not fully functionig)\n",
    "- OpenSearch\n",
    "- SentinelHub Catalog API (synergise and thus Planet)\n",
    "\n",
    "Copernicus Dataspace furhtermore offers the following (some of them are still in development)\n",
    "- On-demand processing (even from level-0)\n",
    "- OGC API (to, e.g., ArcGIS or QGIS)\n",
    "- Hosted Notebooks\n",
    "- Traceability\n",
    "- A cool dashboard\n",
    "\n",
    "\n",
    "#### Copernicus Dataspace briefly\n",
    "\n",
    "- **Wide-Ranging Satellite Data**: Hosting an expansive collection of satellite data, primarily from the Sentinel series, Copernicus Data Space is a treasure trove of information. This includes high-resolution imagery, atmospheric data, and more, covering the global expanse in meticulous detail.\n",
    "\n",
    "- **Diverse Data for Varied Applications**: The versatility of the data makes it suitable for a range of applications, from climate change research to urban planning. In the context of maritime surveillance, it offers indispensable insights into oceanography, coastal dynamics, and marine ecosystems.\n",
    "\n",
    "\n",
    "\n",
    "- **Maritime Safety and Security**: A primary application of Copernicus Data Space in maritime surveillance involves ensuring maritime safety and security. This includes monitoring sea routes for illegal activities, aiding in search and rescue operations, and ensuring compliance with maritime laws.\n",
    "\n",
    "- **Environmental Monitoring and Protection**: The data plays a crucial role in tracking environmental phenomena like oil spills, algal blooms, and changes in sea ice. These insights are crucial for environmental protection efforts, conservation of marine biodiversity, and sustainable management of marine resources.\n",
    "\n",
    "- **Fisheries Management**: Through the monitoring of marine habitats and fish migration patterns, the platform aids in sustainable fisheries management. This helps in combating overfishing and ensuring the health of marine food chains.\n",
    "\n",
    "\n",
    "\n",
    "- **Ease of Access**: The platform ensures that the vast amounts of data are not only accessible but also user-friendly. With tools and interfaces designed for various user levels, it caters to both expert researchers and public stakeholders.\n",
    "\n",
    "- **Real-Time Data for Timely Decisions**: Emphasizing the provision of near real-time data, Copernicus Data Space enables swift decision-making, crucial in dynamic maritime environments where conditions can change rapidly.\n",
    "\n",
    "The figure below shows the website\n",
    "\n",
    "<div style=\"text-align: center\">\n",
    "    <img src=\"../figures/notebooks/dataspace.png\" alt=\"Descriptive Image Text\" width=\"900\" style=\"border:1px solid black\"/>\n",
    "</div>\n",
    "\n",
    "\n"
   ]
  },
  {
   "cell_type": "markdown",
   "metadata": {},
   "source": [
    "Through the CopernicusDataspace, it is possible to download data from:\n",
    "- Sentinel-1, -2, -3, -5p\n",
    "\n",
    "And in the near future from:\n",
    "- Landsat-5, -7, -8\n",
    "- SMOS\n",
    "- ENVISAT\n",
    "\n",
    "As well as complementary data"
   ]
  },
  {
   "cell_type": "markdown",
   "metadata": {},
   "source": [
    "<div class=\"alert alert-block alert-info\"> <b>Task: </b>\n",
    "\n",
    "\n",
    "1. Register for an account on Copernicus Dataspace. \n",
    "2. Save your username and password "
   ]
  },
  {
   "cell_type": "markdown",
   "metadata": {},
   "source": [
    "## Init\n",
    " <a class=\"anchor\" id=\"init\"></a>\n",
    "Back to [Table of Content](#toc)"
   ]
  },
  {
   "cell_type": "code",
   "execution_count": null,
   "metadata": {},
   "outputs": [],
   "source": [
    "using Pkg\n",
    "#Pkg.add(url=\"https://github.com/aalling93/VesselDetection.jl\")\n",
    "using VesselDetection"
   ]
  },
  {
   "cell_type": "code",
   "execution_count": null,
   "metadata": {},
   "outputs": [],
   "source": [
    "using DotEnv\n",
    "DotEnv.config(\"../.env\");"
   ]
  },
  {
   "cell_type": "markdown",
   "metadata": {},
   "source": [
    "## Metadata\n",
    " <a class=\"anchor\" id=\"metadata\"></a>\n",
    "Back to [Table of Content](#toc)"
   ]
  },
  {
   "cell_type": "markdown",
   "metadata": {},
   "source": [
    "We will start by getting the metadata for our search"
   ]
  },
  {
   "cell_type": "markdown",
   "metadata": {},
   "source": [
    "<div style=\"text-align: center\">\n",
    "    <img src=\"../figures/notebooks/download_order.png\" alt=\"Descriptive Image Text\" width=\"800\"/>\n",
    "</div>\n",
    "\n"
   ]
  },
  {
   "cell_type": "markdown",
   "metadata": {},
   "source": [
    "Defining an area"
   ]
  },
  {
   "cell_type": "code",
   "execution_count": null,
   "metadata": {},
   "outputs": [],
   "source": [
    "bbox = VesselDetection.Download.Metadata.get_bbox([-27.227298,38.650065]);\n",
    "start_datetime=\"2023-10-01T00:00:00Z\"\n",
    "end_datetime=\"2023-12-26T23:59:59Z\""
   ]
  },
  {
   "cell_type": "markdown",
   "metadata": {},
   "source": [
    "Downloading the metadata"
   ]
  },
  {
   "cell_type": "code",
   "execution_count": null,
   "metadata": {},
   "outputs": [],
   "source": [
    "data = VesselDetection.Download.Metadata.download_metadata_copernicus(bbox=bbox,\n",
    "start_datetime=start_datetime,\n",
    "end_datetime=end_datetime,\n",
    "max_records=\"5\",\n",
    "collection=\"Sentinel1\",\n",
    "product_type= \"GRD\",\n",
    "verbose=1);\n"
   ]
  },
  {
   "cell_type": "markdown",
   "metadata": {},
   "source": [
    "In order to illustrate it better, we transform to a dataframe"
   ]
  },
  {
   "cell_type": "code",
   "execution_count": null,
   "metadata": {},
   "outputs": [],
   "source": [
    "df = VesselDetection.Download.Metadata.vector_of_dicts_to_dataframe(data[\"features\"]);\n",
    "println(df)"
   ]
  },
  {
   "cell_type": "markdown",
   "metadata": {},
   "source": [
    "Looking at a quicklook"
   ]
  },
  {
   "cell_type": "code",
   "execution_count": null,
   "metadata": {},
   "outputs": [],
   "source": [
    "VesselDetection.Visualize.plot_quicklook_from_url(data,2)"
   ]
  },
  {
   "cell_type": "markdown",
   "metadata": {},
   "source": [
    "The access token is only needed when downloading the data. Querying data can be done without an account."
   ]
  },
  {
   "cell_type": "markdown",
   "metadata": {},
   "source": [
    "<div class=\"alert alert-block alert-info\"> <b>Task: </b>\n",
    "\n",
    "1. Using the search parameters provided in the notebook, query some Sentinel-1 images."
   ]
  },
  {
   "cell_type": "markdown",
   "metadata": {},
   "source": [
    "\n",
    "## Download\n",
    " <a class=\"anchor\" id=\"download\"></a>\n",
    "Back to [Table of Content](#toc)\n"
   ]
  },
  {
   "cell_type": "markdown",
   "metadata": {},
   "source": [
    "In order to get data from Copernicus Datasspace, we need to have an access token, see https://documentation.dataspace.copernicus.eu/APIs/Token.html. \n",
    "After signing up, we can use our Username and Password to generate it automatically as illustrated below"
   ]
  },
  {
   "cell_type": "code",
   "execution_count": null,
   "metadata": {},
   "outputs": [],
   "source": [
    "access_token = VesselDetection.Download.get_access_token_copernicus(username = get(ENV, \"DATASPACE_USERNAME\", \"\"), password = get(ENV, \"DATASPACE_PASSWORD\", \"\"));"
   ]
  },
  {
   "cell_type": "markdown",
   "metadata": {},
   "source": [
    "After we have seen and fitlered the metadata, we can download the images. Here, we only download the image shown above."
   ]
  },
  {
   "cell_type": "code",
   "execution_count": null,
   "metadata": {},
   "outputs": [],
   "source": [
    "VesselDetection.Download.Products.download_product_copernicus(access_token = access_token, product_id = df[3,:id], filename=\"../data/test.zip\")"
   ]
  },
  {
   "cell_type": "code",
   "execution_count": null,
   "metadata": {},
   "outputs": [],
   "source": [
    "VesselDetection.Download.Products.unzip_file(zip_path = \"../data/test.zip\", output_folder = \"../data\");"
   ]
  },
  {
   "cell_type": "markdown",
   "metadata": {},
   "source": [
    "<div class=\"alert alert-block alert-info\"> <b>Task: </b>\n",
    "\n",
    "\n",
    "1. Using the username and password from Copernicus Dataspace, download a Sentinel-1 image. \n",
    "\n",
    "The image we will be using in the later workshops is S1A_IW_GRDH_1SDV_20231212T194138_20231212T194203_051626_063BD4_9836.SAFE."
   ]
  }
 ],
 "metadata": {
  "kernelspec": {
   "display_name": "Julia 1.10.0",
   "language": "julia",
   "name": "julia-1.10"
  },
  "language_info": {
   "file_extension": ".jl",
   "mimetype": "application/julia",
   "name": "julia",
   "version": "1.10.0"
  }
 },
 "nbformat": 4,
 "nbformat_minor": 2
}
