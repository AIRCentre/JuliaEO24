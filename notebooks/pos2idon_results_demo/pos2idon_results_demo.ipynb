{
 "cells": [
  {
   "cell_type": "markdown",
   "metadata": {},
   "source": [
    "<div align='center'><img src='imgs/logos.png' alt='Training entities logos' width='70%'></img></div>"
   ]
  },
  {
   "cell_type": "markdown",
   "metadata": {},
   "source": [
    "<hr>"
   ]
  },
  {
   "cell_type": "markdown",
   "metadata": {},
   "source": [
    "# JuliaEO - Global Workshop on Earth Observation with Julia 2024\n",
    "\n",
    "# Session: \n",
    "# POS2IDON: Pipeline for Ocean Features Detection with Sentinel-2\n",
    "\n",
    "Emanuel Castanho and Andrea Giusti (AIR Centre)\n",
    "\n",
    "11 JANUARY 2024"
   ]
  },
  {
   "cell_type": "markdown",
   "metadata": {},
   "source": [
    "<hr>"
   ]
  },
  {
   "cell_type": "markdown",
   "metadata": {},
   "source": [
    "### Import libraries"
   ]
  },
  {
   "cell_type": "code",
   "execution_count": null,
   "metadata": {},
   "outputs": [],
   "source": [
    "import os\n",
    "import glob\n",
    "import leafmap\n",
    "from osgeo import gdal\n",
    "import pickle as pkl\n",
    "import numpy as np\n",
    "import pandas as pd\n",
    "from ipyleaflet import CircleMarker, LayerGroup\n",
    "from pyproj import Transformer"
   ]
  },
  {
   "cell_type": "markdown",
   "metadata": {},
   "source": [
    "### User inputs"
   ]
  },
  {
   "cell_type": "code",
   "execution_count": null,
   "metadata": {},
   "outputs": [],
   "source": [
    "# Basepath as string. Empty for current path.\n",
    "basepath = \"\"\n",
    "\n",
    "# Stack file with ACOLITE Rayleigh-corrected bands and spectral indices.\n",
    "rc_stack = \"S2A_MSI_2022_04_13_08_08_18_T36JUN_stack.tif\""
   ]
  },
  {
   "cell_type": "markdown",
   "metadata": {},
   "source": [
    "### Explore stack"
   ]
  },
  {
   "cell_type": "code",
   "execution_count": null,
   "metadata": {},
   "outputs": [],
   "source": [
    "# Stack fullpath and name without extension\n",
    "stack_fullpath = os.path.join(basepath, \"data\", rc_stack)\n",
    "stack_name = rc_stack[:-4]\n",
    "\n",
    "# Check available bands and their numbering\n",
    "stack_dataset = gdal.Open(stack_fullpath)\n",
    "stack_bands = {stack_dataset.GetRasterBand(i).GetDescription(): i for i in range(1, stack_dataset.RasterCount+1)}\n",
    "print(\"Available bands (RC Bands + Spectral Indices) inside stack:\")\n",
    "print(stack_bands)"
   ]
  },
  {
   "cell_type": "markdown",
   "metadata": {},
   "source": [
    "### Start leafmap and add data"
   ]
  },
  {
   "cell_type": "code",
   "execution_count": null,
   "metadata": {},
   "outputs": [],
   "source": [
    "# Start basemap\n",
    "m = leafmap.Map(location=[31.4710, -29.6108], zoom_start=5)\n",
    "\n",
    "# Add RGB (Red-Green-Blue) layer \n",
    "m.add_raster(stack_fullpath, band=[4, 3, 2], vmin=0, vmax=0.15, layer_name=\"RGB\")\n",
    "\n",
    "# Add NDWI (Normalized Difference Water Index) (B03 - B08) / (B03 + B08)\n",
    "ndwi_vis = {\"cmap\":\"bwr_r\", \"vmin\":-1, \"vmax\":0.8, \"name\":\"NDWI\"}\n",
    "m.add_raster(stack_fullpath, band=16, cmap=ndwi_vis[\"cmap\"], vmin=ndwi_vis[\"vmin\"], vmax=ndwi_vis[\"vmax\"], layer_name=ndwi_vis[\"name\"])\n",
    "m.add_colormap(cmap=ndwi_vis[\"cmap\"], label=ndwi_vis[\"name\"], vmin=ndwi_vis[\"vmin\"], vmax=ndwi_vis[\"vmax\"], width=4)\n",
    "\n",
    "# Add FDI (Floating Debris Index) B08 - (B06 + (B11-B06)*((λB08-λB06)/(λB11-λB06))*10)\n",
    "fdi_vis = {\"cmap\":\"twilight_shifted\", \"vmin\":0, \"vmax\":0.1, \"name\":\"FDI\"}\n",
    "m.add_raster(stack_fullpath, band=14, cmap=fdi_vis[\"cmap\"], vmin=fdi_vis[\"vmin\"], vmax=fdi_vis[\"vmax\"], layer_name=fdi_vis[\"name\"])\n",
    "m.add_colormap(cmap=fdi_vis[\"cmap\"], label=fdi_vis[\"name\"], vmin=fdi_vis[\"vmin\"], vmax=fdi_vis[\"vmax\"], width=4)"
   ]
  },
  {
   "cell_type": "markdown",
   "metadata": {},
   "source": [
    "### Convert stack to dataframe"
   ]
  },
  {
   "cell_type": "code",
   "execution_count": null,
   "metadata": {},
   "outputs": [],
   "source": [
    "# All the stack bands (RC Bands + Spectral Indices) will be Machine Learning (ML) model features\n",
    "ml_model_features = list(stack_bands.keys())\n",
    " \n",
    "# Initiate the loop with B01\n",
    "init_stack_data = stack_dataset.GetRasterBand(1).ReadAsArray()\n",
    "# Reshape as single column\n",
    "stack_data = init_stack_data.reshape(-1,1)\n",
    "\n",
    "# Loop through the other bands\n",
    "for band in ml_model_features[1:]:\n",
    "    # Get data\n",
    "    band_data = stack_dataset.GetRasterBand(stack_bands[band]).ReadAsArray()\n",
    "    band_data_reshaped = band_data.reshape(-1,1)\n",
    "    stack_data = np.concatenate([stack_data, band_data_reshaped], axis=1)\n",
    "\n",
    "# Shape to use in reshape\n",
    "band_shape = init_stack_data.shape\n",
    "\n",
    "# Global dataframe for classification\n",
    "global_cl_df = pd.DataFrame(stack_data, columns=ml_model_features)\n",
    "\n",
    "# Dataframe for classification, without not a numbers. RF model does not work with NaN\n",
    "no_nans_cl_df = global_cl_df.dropna(axis=0, how='any')\n",
    "\n",
    "print(no_nans_cl_df.head())"
   ]
  },
  {
   "cell_type": "markdown",
   "metadata": {},
   "source": [
    "### Load Random Forest ML model "
   ]
  },
  {
   "cell_type": "code",
   "execution_count": null,
   "metadata": {},
   "outputs": [],
   "source": [
    "# The trained model is stored in a pickle file\n",
    "rf_model_fullpath = glob.glob(os.path.join(basepath, \"data\", \"MARIDA_RF-model\", \"*.pkl\"))[0]\n",
    "rf_model = pkl.load(open(rf_model_fullpath, 'rb'))\n",
    "print(rf_model)"
   ]
  },
  {
   "cell_type": "markdown",
   "metadata": {},
   "source": [
    "### Classification"
   ]
  },
  {
   "cell_type": "code",
   "execution_count": null,
   "metadata": {},
   "outputs": [],
   "source": [
    "if __name__ == \"__main__\": # Brokenpipe bug is caused by multiprocessing on Jupyter, does not affect the results\n",
    "    # Dataframe of 0's to store the classification results\n",
    "    cl_results_struct_df = pd.DataFrame(0, index=range(0, len(global_cl_df.index)), columns=['ClassNum'])\n",
    "\n",
    "    # If dataframe for classification without NaNs is empty, then the final classification is only 0.  \n",
    "    if len(no_nans_cl_df.index) == 0:\n",
    "        cl_results_flat = np.array(cl_results_struct_df).flatten()\n",
    "        cl_results_reshape = cl_results_flat.reshape(band_shape)\n",
    "    else:\n",
    "        # RF Classification\n",
    "        cl_results = rf_model.predict(no_nans_cl_df)\n",
    "\n",
    "        # Index results, construct final dataframe and reshape\n",
    "        cl_results_indexed = pd.DataFrame(cl_results, index=no_nans_cl_df.index, columns=['ClassNum'])\n",
    "        cl_results_df = cl_results_indexed.combine_first(cl_results_struct_df)\n",
    "        cl_results_flat = np.array(cl_results_df).flatten()\n",
    "        cl_results_reshape = cl_results_flat.reshape(band_shape)\n",
    "\n",
    "    # Save classification map\n",
    "    sc_map_fullpath = os.path.join(basepath, \"processing\", \"scmap.tif\")\n",
    "    driver = gdal.GetDriverByName(\"GTiff\")\n",
    "    sc_raster = driver.Create(sc_map_fullpath, stack_dataset.RasterXSize, stack_dataset.RasterYSize, 1, gdal.GDT_Byte)\n",
    "    sc_raster.SetProjection(stack_dataset.GetProjectionRef())\n",
    "    sc_raster.SetGeoTransform(stack_dataset.GetGeoTransform())\n",
    "    sc_raster_band = sc_raster.GetRasterBand(1)\n",
    "    sc_raster_band.WriteArray(cl_results_reshape)\n",
    "    sc_raster = None\n"
   ]
  },
  {
   "cell_type": "markdown",
   "metadata": {},
   "source": [
    "### Add classification to leafmap"
   ]
  },
  {
   "cell_type": "code",
   "execution_count": null,
   "metadata": {},
   "outputs": [],
   "source": [
    "# Scene classification map\n",
    "# Color palette:\n",
    "# 0- No Data - NaNs\n",
    "# 1- Marine Debris - Floating plastics or other polymers, mixed anthropogenic debris\n",
    "# 2- Dense Sargassum - Dense floating Sargassum macroalgae\n",
    "# 3- Sparse Sargassum - Sparse floating Sargassum macroalgae\n",
    "# 4- Natural Organic Material - Vegetation & Wood\n",
    "# 5- Ship - Sailing & Anchored Vessels\n",
    "# 6- Clouds - Clouds including thin Clouds\n",
    "# 7- Marine Water SC - Marine Water Super Class: Clear Water, Wakes, CloudS, Waves and MixWater\n",
    "# 8- Sediment-Laden Water - High-Sediment river discharges with brown colour\n",
    "# 9- Foam - Foam recorded at river fronts or coastal wave breaking area\n",
    "# 10- Turbid Water - Turbid waters close to coastal areas\n",
    "# 11- Shallow Water - Coastal waters, including coral reefs and submerged vegetation\n",
    "\n",
    "cl_vis = {\"cmap\":[\"#ffffff\", \"#ff0000\", \"#008000\", \"#32cd32\", \"#b22222\", \"#ffa500\", \"#c0c0c0\", \"#000080\", \"#ffd700\", \"#800080\", \"#bdb76b\", \"#00ced1\"], \"vmin\":0, \"vmax\":11, \"name\":\"Classification\"}\n",
    "m.add_raster(sc_map_fullpath, band=1, cmap=cl_vis[\"cmap\"], vmin=cl_vis[\"vmin\"], vmax=cl_vis[\"vmax\"], layer_name=cl_vis[\"name\"])\n"
   ]
  },
  {
   "cell_type": "markdown",
   "metadata": {},
   "source": [
    "### Extract Marine Debris pixels center coordinates"
   ]
  },
  {
   "cell_type": "code",
   "execution_count": null,
   "metadata": {},
   "outputs": [],
   "source": [
    "# Convert scene classification GeoTIFF to XYZ\n",
    "sc_map_raster = gdal.Open(sc_map_fullpath)\n",
    "xyz_fullpath = os.path.join(basepath, \"processing\", \"scmap.xyz\")\n",
    "xyz_raster = gdal.Translate(xyz_fullpath, sc_map_raster)\n",
    "\n",
    "# Close rasters\n",
    "sc_map_raster = None\n",
    "xyz_raster = None\n",
    "\n",
    "# Convert XYZ to Feather\n",
    "xyz_df = pd.read_csv(xyz_fullpath, sep=\" \", header=None)\n",
    "xyz_df.columns = [\"CenterX\", \"CenterY\", \"Value\"]\n",
    "feather_fullpath = os.path.join(basepath, \"processing\", \"scmap.feather\")\n",
    "xyz_df.to_feather(feather_fullpath)\n",
    "\n",
    "# Delete intermediate XYZ file\n",
    "os.remove(xyz_fullpath)"
   ]
  },
  {
   "cell_type": "code",
   "execution_count": null,
   "metadata": {},
   "outputs": [],
   "source": [
    "# Function that converts Sentinel-2 CRS to EPSG4326 depending on Tile\n",
    "def s2_coord_converter(row):\n",
    "    '''\n",
    "    This function converts UTM coordinates to EPSG:4326. It uses Sentinel-2 tile information.\n",
    "    https://sentinels.copernicus.eu/documents/247904/685211/Sentinel-2-Products-Specification-Document.pdf/fb1fc4dc-12ca-4674-8f78-b06efa871ab9\n",
    "    \n",
    "    Inputs: row - Row of dataframe, must contain: Tile, CenterX and CenterY.\n",
    "    Outputs: (lon, lat) - Tuple with longitude and latitude pair.\n",
    "    '''\n",
    "    # First letter of tile code\n",
    "    if row[\"Tile\"][2] in list(map(chr, range(67, 78))):\n",
    "        # South C-M\n",
    "        pos = \"327\"\n",
    "    elif row[\"Tile\"][2] in list(map(chr, range(78, 89))):\n",
    "        # North N-X\n",
    "        pos = \"326\"\n",
    "    else:\n",
    "        # Undefined\n",
    "        pos = None\n",
    "\n",
    "    # Conversion of coordinates. EPSG + South or North + first 2 digits of tile code\n",
    "    in_crs = \"epsg:\" + pos + row[\"Tile\"][0:2]\n",
    "    out_crs = \"epsg:4326\"\n",
    "    trans = Transformer.from_crs(in_crs, out_crs)\n",
    "    x, y = row[\"CenterX\"], row[\"CenterY\"]\n",
    "    lat, lon = trans.transform(x, y)\n",
    "    \n",
    "    return (lon, lat)"
   ]
  },
  {
   "cell_type": "code",
   "execution_count": null,
   "metadata": {},
   "outputs": [],
   "source": [
    "# Filter only MD and convert coordinate system\n",
    "feather_df = pd.read_feather(feather_fullpath)\n",
    "feather_md_df = feather_df[feather_df.Value==1]\n",
    "feather_md_df[\"Tile\"] = stack_name.split(\"_\")[8][1:]\n",
    "feather_md_df[\"CenterLon\"], feather_md_df[\"CenterLat\"] = zip(*(feather_md_df.apply(lambda row: s2_coord_converter(row), axis=1)))\n",
    "print(feather_md_df.head())"
   ]
  },
  {
   "cell_type": "markdown",
   "metadata": {},
   "source": [
    "### Plot suspected MD locations"
   ]
  },
  {
   "cell_type": "code",
   "execution_count": null,
   "metadata": {},
   "outputs": [],
   "source": [
    "# Suspected Marine Debris as black dots\n",
    "markers = []\n",
    "for idx, row in feather_md_df.iterrows():\n",
    "    marker = CircleMarker(location=[row[\"CenterLat\"], row[\"CenterLon\"]], radius=1, color=\"black\", fill_color=\"black\", opacity=1)\n",
    "    markers.append(marker)\n",
    "layer_group = LayerGroup(layers=markers, name=\"Suspected MD\")\n",
    "m.add_layer(layer_group)"
   ]
  },
  {
   "cell_type": "markdown",
   "metadata": {},
   "source": [
    "### Show final map"
   ]
  },
  {
   "cell_type": "code",
   "execution_count": null,
   "metadata": {},
   "outputs": [],
   "source": [
    "m"
   ]
  },
  {
   "cell_type": "code",
   "execution_count": null,
   "metadata": {},
   "outputs": [],
   "source": []
  }
 ],
 "metadata": {
  "kernelspec": {
   "display_name": "Python 3 (ipykernel)",
   "language": "python",
   "name": "python3"
  },
  "language_info": {
   "codemirror_mode": {
    "name": "ipython",
    "version": 3
   },
   "file_extension": ".py",
   "mimetype": "text/x-python",
   "name": "python",
   "nbconvert_exporter": "python",
   "pygments_lexer": "ipython3",
   "version": "3.9.18"
  }
 },
 "nbformat": 4,
 "nbformat_minor": 4
}
